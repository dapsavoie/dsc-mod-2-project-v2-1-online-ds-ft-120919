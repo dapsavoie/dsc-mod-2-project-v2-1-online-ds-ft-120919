{
 "cells": [
  {
   "cell_type": "code",
   "execution_count": 30,
   "metadata": {},
   "outputs": [],
   "source": [
    "import numpy as np\n",
    "import pandas as pd \n",
    "from sklearn.model_selection import train_test_split\n",
    "from sklearn import linear_model\n",
    "from sklearn.neighbors import KNeighborsRegressor\n",
    "from sklearn.preprocessing import PolynomialFeatures\n",
    "from sklearn import metrics\n",
    "from sklearn.model_selection import cross_val_score\n",
    "import matplotlib.pyplot as plt\n",
    "import seaborn as sns\n",
    "\n",
    "%matplotlib inline\n",
    "import warnings\n",
    "warnings.filterwarnings('ignore')\n",
    "\n",
    "evaluation = pd.DataFrame({'Model': [],\n",
    "                           'Details':[],\n",
    "                           'Root Mean Squared Error (RMSE)':[],\n",
    "                           'R-squared (training)':[],\n",
    "                           'Adjusted R-squared (training)':[],\n",
    "                           'R-squared (test)':[],\n",
    "                           'Adjusted R-squared (test)':[],\n",
    "                           '5-Fold Cross Validation':[]})"
   ]
  },
  {
   "cell_type": "code",
   "execution_count": 31,
   "metadata": {},
   "outputs": [
    {
     "data": {
      "text/html": [
       "<div>\n",
       "<style scoped>\n",
       "    .dataframe tbody tr th:only-of-type {\n",
       "        vertical-align: middle;\n",
       "    }\n",
       "\n",
       "    .dataframe tbody tr th {\n",
       "        vertical-align: top;\n",
       "    }\n",
       "\n",
       "    .dataframe thead th {\n",
       "        text-align: right;\n",
       "    }\n",
       "</style>\n",
       "<table border=\"1\" class=\"dataframe\">\n",
       "  <thead>\n",
       "    <tr style=\"text-align: right;\">\n",
       "      <th></th>\n",
       "      <th>id</th>\n",
       "      <th>date</th>\n",
       "      <th>price</th>\n",
       "      <th>bedrooms</th>\n",
       "      <th>bathrooms</th>\n",
       "      <th>sqft_living</th>\n",
       "      <th>sqft_lot</th>\n",
       "      <th>floors</th>\n",
       "      <th>waterfront</th>\n",
       "      <th>view</th>\n",
       "      <th>...</th>\n",
       "      <th>grade</th>\n",
       "      <th>sqft_above</th>\n",
       "      <th>sqft_basement</th>\n",
       "      <th>yr_built</th>\n",
       "      <th>yr_renovated</th>\n",
       "      <th>zipcode</th>\n",
       "      <th>lat</th>\n",
       "      <th>long</th>\n",
       "      <th>sqft_living15</th>\n",
       "      <th>sqft_lot15</th>\n",
       "    </tr>\n",
       "  </thead>\n",
       "  <tbody>\n",
       "    <tr>\n",
       "      <td>0</td>\n",
       "      <td>7129300520</td>\n",
       "      <td>10/13/2014</td>\n",
       "      <td>221900.0</td>\n",
       "      <td>3</td>\n",
       "      <td>1.00</td>\n",
       "      <td>1180</td>\n",
       "      <td>5650</td>\n",
       "      <td>1.0</td>\n",
       "      <td>NaN</td>\n",
       "      <td>0.0</td>\n",
       "      <td>...</td>\n",
       "      <td>7</td>\n",
       "      <td>1180</td>\n",
       "      <td>0.0</td>\n",
       "      <td>1955</td>\n",
       "      <td>0.0</td>\n",
       "      <td>98178</td>\n",
       "      <td>47.5112</td>\n",
       "      <td>-122.257</td>\n",
       "      <td>1340</td>\n",
       "      <td>5650</td>\n",
       "    </tr>\n",
       "    <tr>\n",
       "      <td>1</td>\n",
       "      <td>6414100192</td>\n",
       "      <td>12/9/2014</td>\n",
       "      <td>538000.0</td>\n",
       "      <td>3</td>\n",
       "      <td>2.25</td>\n",
       "      <td>2570</td>\n",
       "      <td>7242</td>\n",
       "      <td>2.0</td>\n",
       "      <td>0.0</td>\n",
       "      <td>0.0</td>\n",
       "      <td>...</td>\n",
       "      <td>7</td>\n",
       "      <td>2170</td>\n",
       "      <td>400.0</td>\n",
       "      <td>1951</td>\n",
       "      <td>1991.0</td>\n",
       "      <td>98125</td>\n",
       "      <td>47.7210</td>\n",
       "      <td>-122.319</td>\n",
       "      <td>1690</td>\n",
       "      <td>7639</td>\n",
       "    </tr>\n",
       "    <tr>\n",
       "      <td>2</td>\n",
       "      <td>5631500400</td>\n",
       "      <td>2/25/2015</td>\n",
       "      <td>180000.0</td>\n",
       "      <td>2</td>\n",
       "      <td>1.00</td>\n",
       "      <td>770</td>\n",
       "      <td>10000</td>\n",
       "      <td>1.0</td>\n",
       "      <td>0.0</td>\n",
       "      <td>0.0</td>\n",
       "      <td>...</td>\n",
       "      <td>6</td>\n",
       "      <td>770</td>\n",
       "      <td>0.0</td>\n",
       "      <td>1933</td>\n",
       "      <td>NaN</td>\n",
       "      <td>98028</td>\n",
       "      <td>47.7379</td>\n",
       "      <td>-122.233</td>\n",
       "      <td>2720</td>\n",
       "      <td>8062</td>\n",
       "    </tr>\n",
       "    <tr>\n",
       "      <td>3</td>\n",
       "      <td>2487200875</td>\n",
       "      <td>12/9/2014</td>\n",
       "      <td>604000.0</td>\n",
       "      <td>4</td>\n",
       "      <td>3.00</td>\n",
       "      <td>1960</td>\n",
       "      <td>5000</td>\n",
       "      <td>1.0</td>\n",
       "      <td>0.0</td>\n",
       "      <td>0.0</td>\n",
       "      <td>...</td>\n",
       "      <td>7</td>\n",
       "      <td>1050</td>\n",
       "      <td>910.0</td>\n",
       "      <td>1965</td>\n",
       "      <td>0.0</td>\n",
       "      <td>98136</td>\n",
       "      <td>47.5208</td>\n",
       "      <td>-122.393</td>\n",
       "      <td>1360</td>\n",
       "      <td>5000</td>\n",
       "    </tr>\n",
       "    <tr>\n",
       "      <td>4</td>\n",
       "      <td>1954400510</td>\n",
       "      <td>2/18/2015</td>\n",
       "      <td>510000.0</td>\n",
       "      <td>3</td>\n",
       "      <td>2.00</td>\n",
       "      <td>1680</td>\n",
       "      <td>8080</td>\n",
       "      <td>1.0</td>\n",
       "      <td>0.0</td>\n",
       "      <td>0.0</td>\n",
       "      <td>...</td>\n",
       "      <td>8</td>\n",
       "      <td>1680</td>\n",
       "      <td>0.0</td>\n",
       "      <td>1987</td>\n",
       "      <td>0.0</td>\n",
       "      <td>98074</td>\n",
       "      <td>47.6168</td>\n",
       "      <td>-122.045</td>\n",
       "      <td>1800</td>\n",
       "      <td>7503</td>\n",
       "    </tr>\n",
       "  </tbody>\n",
       "</table>\n",
       "<p>5 rows × 21 columns</p>\n",
       "</div>"
      ],
      "text/plain": [
       "           id        date     price  bedrooms  bathrooms  sqft_living  \\\n",
       "0  7129300520  10/13/2014  221900.0         3       1.00         1180   \n",
       "1  6414100192   12/9/2014  538000.0         3       2.25         2570   \n",
       "2  5631500400   2/25/2015  180000.0         2       1.00          770   \n",
       "3  2487200875   12/9/2014  604000.0         4       3.00         1960   \n",
       "4  1954400510   2/18/2015  510000.0         3       2.00         1680   \n",
       "\n",
       "   sqft_lot  floors  waterfront  view  ...  grade  sqft_above  sqft_basement  \\\n",
       "0      5650     1.0         NaN   0.0  ...      7        1180            0.0   \n",
       "1      7242     2.0         0.0   0.0  ...      7        2170          400.0   \n",
       "2     10000     1.0         0.0   0.0  ...      6         770            0.0   \n",
       "3      5000     1.0         0.0   0.0  ...      7        1050          910.0   \n",
       "4      8080     1.0         0.0   0.0  ...      8        1680            0.0   \n",
       "\n",
       "  yr_built  yr_renovated  zipcode      lat     long  sqft_living15  sqft_lot15  \n",
       "0     1955           0.0    98178  47.5112 -122.257           1340        5650  \n",
       "1     1951        1991.0    98125  47.7210 -122.319           1690        7639  \n",
       "2     1933           NaN    98028  47.7379 -122.233           2720        8062  \n",
       "3     1965           0.0    98136  47.5208 -122.393           1360        5000  \n",
       "4     1987           0.0    98074  47.6168 -122.045           1800        7503  \n",
       "\n",
       "[5 rows x 21 columns]"
      ]
     },
     "execution_count": 31,
     "metadata": {},
     "output_type": "execute_result"
    }
   ],
   "source": [
    "df = pd.read_csv('kc_house_data.csv')\n",
    "df.head()"
   ]
  },
  {
   "cell_type": "code",
   "execution_count": 32,
   "metadata": {},
   "outputs": [
    {
     "data": {
      "text/plain": [
       "id                 int64\n",
       "date              object\n",
       "price            float64\n",
       "bedrooms           int64\n",
       "bathrooms        float64\n",
       "sqft_living        int64\n",
       "sqft_lot           int64\n",
       "floors           float64\n",
       "waterfront       float64\n",
       "view             float64\n",
       "condition          int64\n",
       "grade              int64\n",
       "sqft_above         int64\n",
       "sqft_basement     object\n",
       "yr_built           int64\n",
       "yr_renovated     float64\n",
       "zipcode            int64\n",
       "lat              float64\n",
       "long             float64\n",
       "sqft_living15      int64\n",
       "sqft_lot15         int64\n",
       "dtype: object"
      ]
     },
     "execution_count": 32,
     "metadata": {},
     "output_type": "execute_result"
    }
   ],
   "source": [
    "df.dtypes"
   ]
  },
  {
   "cell_type": "code",
   "execution_count": 33,
   "metadata": {},
   "outputs": [
    {
     "data": {
      "text/plain": [
       "id                        int64\n",
       "date             datetime64[ns]\n",
       "price                   float64\n",
       "bedrooms                  int64\n",
       "bathrooms               float64\n",
       "sqft_living               int64\n",
       "sqft_lot                  int64\n",
       "floors                  float64\n",
       "waterfront              float64\n",
       "view                    float64\n",
       "condition                 int64\n",
       "grade                     int64\n",
       "sqft_above                int64\n",
       "sqft_basement           float64\n",
       "yr_built                  int64\n",
       "yr_renovated            float64\n",
       "zipcode                   int64\n",
       "lat                     float64\n",
       "long                    float64\n",
       "sqft_living15             int64\n",
       "sqft_lot15                int64\n",
       "dtype: object"
      ]
     },
     "execution_count": 33,
     "metadata": {},
     "output_type": "execute_result"
    }
   ],
   "source": [
    "#convert column name ['date'] from object to datetime \n",
    "df['sqft_basement'] = df['sqft_basement'].map(lambda x: 0 if x=='?' else x)\n",
    "\n",
    "#Convert sqft_basement to a number\n",
    "df['sqft_basement'] = df['sqft_basement'].astype(float)\n",
    "\n",
    "#might be cool to create a function that takes any column date and converts it \n",
    "\n",
    "df['date'] = pd.to_datetime(df['date'])\n",
    "\n",
    "df.dtypes"
   ]
  },
  {
   "cell_type": "code",
   "execution_count": 34,
   "metadata": {},
   "outputs": [
    {
     "data": {
      "text/plain": [
       "count    21597.000000\n",
       "mean       285.716581\n",
       "std        439.819830\n",
       "min          0.000000\n",
       "25%          0.000000\n",
       "50%          0.000000\n",
       "75%        550.000000\n",
       "max       4820.000000\n",
       "Name: sqft_basement, dtype: float64"
      ]
     },
     "execution_count": 34,
     "metadata": {},
     "output_type": "execute_result"
    }
   ],
   "source": [
    "#replacing all ? with 0's - major assumption that requires data enrichment to correct\n",
    "#\n",
    "\n",
    "df['sqft_basement'] = df['sqft_basement'].map(lambda x: 0 if x==\n",
    "                                             '?' else x)\n",
    "\n",
    "df['sqft_basement'] = df['sqft_basement'].astype(float)\n",
    "\n",
    "df['sqft_basement'].describe()"
   ]
  },
  {
   "cell_type": "code",
   "execution_count": 35,
   "metadata": {},
   "outputs": [
    {
     "data": {
      "text/plain": [
       "id                  0\n",
       "date                0\n",
       "price               0\n",
       "bedrooms            0\n",
       "bathrooms           0\n",
       "sqft_living         0\n",
       "sqft_lot            0\n",
       "floors              0\n",
       "waterfront       2376\n",
       "view               63\n",
       "condition           0\n",
       "grade               0\n",
       "sqft_above          0\n",
       "sqft_basement       0\n",
       "yr_built            0\n",
       "yr_renovated     3842\n",
       "zipcode             0\n",
       "lat                 0\n",
       "long                0\n",
       "sqft_living15       0\n",
       "sqft_lot15          0\n",
       "dtype: int64"
      ]
     },
     "execution_count": 35,
     "metadata": {},
     "output_type": "execute_result"
    }
   ],
   "source": [
    "# Identify null values \n",
    "\n",
    "df.isna().sum()"
   ]
  },
  {
   "cell_type": "code",
   "execution_count": 36,
   "metadata": {},
   "outputs": [],
   "source": [
    "#Repeat the same process for view which indicates how many times a house has been viewed\n",
    "\n",
    "#We replaced all views with a median value, its safe to assume houses on the market in these areas are quite popular and viewed \n",
    "median = df['view'].median()\n",
    "df['view'] = df['view'].fillna(value=median)#Waterfront 0 = No waterfront, 1=Waterfront \n",
    "\n",
    "#Making all nulls 0 indicating no waterfront \n",
    "\n",
    "df['waterfront'].isna().sum()\n",
    "\n",
    "df['waterfront'] = df['waterfront'].fillna(0)\n",
    "\n",
    "\n",
    "df['yr_renovated'] = df['yr_renovated'].fillna(df['yr_built'])"
   ]
  },
  {
   "cell_type": "code",
   "execution_count": 37,
   "metadata": {},
   "outputs": [
    {
     "data": {
      "text/plain": [
       "id               0\n",
       "date             0\n",
       "price            0\n",
       "bedrooms         0\n",
       "bathrooms        0\n",
       "sqft_living      0\n",
       "sqft_lot         0\n",
       "floors           0\n",
       "waterfront       0\n",
       "view             0\n",
       "condition        0\n",
       "grade            0\n",
       "sqft_above       0\n",
       "sqft_basement    0\n",
       "yr_built         0\n",
       "yr_renovated     0\n",
       "zipcode          0\n",
       "lat              0\n",
       "long             0\n",
       "sqft_living15    0\n",
       "sqft_lot15       0\n",
       "dtype: int64"
      ]
     },
     "execution_count": 37,
     "metadata": {},
     "output_type": "execute_result"
    }
   ],
   "source": [
    "df.isna().sum()"
   ]
  },
  {
   "cell_type": "code",
   "execution_count": 38,
   "metadata": {},
   "outputs": [],
   "source": [
    "#dropped all duplicates for id \n",
    "#inplace = True changes the dataframe permanently\n",
    "\n",
    "df.drop_duplicates(subset=['id'], inplace=True)"
   ]
  },
  {
   "cell_type": "code",
   "execution_count": 39,
   "metadata": {},
   "outputs": [],
   "source": [
    "#drop id column\n",
    "df.drop(['id'], axis=1, inplace=True)"
   ]
  },
  {
   "cell_type": "code",
   "execution_count": 40,
   "metadata": {},
   "outputs": [
    {
     "data": {
      "text/plain": [
       "(21420, 20)"
      ]
     },
     "execution_count": 40,
     "metadata": {},
     "output_type": "execute_result"
    }
   ],
   "source": [
    "df.shape"
   ]
  },
  {
   "cell_type": "code",
   "execution_count": 41,
   "metadata": {},
   "outputs": [
    {
     "data": {
      "text/plain": [
       "array([[<matplotlib.axes._subplots.AxesSubplot object at 0x000001CB74B54B08>,\n",
       "        <matplotlib.axes._subplots.AxesSubplot object at 0x000001CB74C6EB48>,\n",
       "        <matplotlib.axes._subplots.AxesSubplot object at 0x000001CB7714AEC8>,\n",
       "        <matplotlib.axes._subplots.AxesSubplot object at 0x000001CB74B85848>],\n",
       "       [<matplotlib.axes._subplots.AxesSubplot object at 0x000001CB74BBA5C8>,\n",
       "        <matplotlib.axes._subplots.AxesSubplot object at 0x000001CB74BF0348>,\n",
       "        <matplotlib.axes._subplots.AxesSubplot object at 0x000001CB74C26F08>,\n",
       "        <matplotlib.axes._subplots.AxesSubplot object at 0x000001CB74C55E08>],\n",
       "       [<matplotlib.axes._subplots.AxesSubplot object at 0x000001CB74C5DC88>,\n",
       "        <matplotlib.axes._subplots.AxesSubplot object at 0x000001CB76EC4C08>,\n",
       "        <matplotlib.axes._subplots.AxesSubplot object at 0x000001CB76F2A808>,\n",
       "        <matplotlib.axes._subplots.AxesSubplot object at 0x000001CB76F63948>],\n",
       "       [<matplotlib.axes._subplots.AxesSubplot object at 0x000001CB76F9B908>,\n",
       "        <matplotlib.axes._subplots.AxesSubplot object at 0x000001CB77C84A08>,\n",
       "        <matplotlib.axes._subplots.AxesSubplot object at 0x000001CB77CBDB48>,\n",
       "        <matplotlib.axes._subplots.AxesSubplot object at 0x000001CB77CF5C48>],\n",
       "       [<matplotlib.axes._subplots.AxesSubplot object at 0x000001CB77D2ED48>,\n",
       "        <matplotlib.axes._subplots.AxesSubplot object at 0x000001CB77D64E08>,\n",
       "        <matplotlib.axes._subplots.AxesSubplot object at 0x000001CB77D9DF08>,\n",
       "        <matplotlib.axes._subplots.AxesSubplot object at 0x000001CB77DDA048>]],\n",
       "      dtype=object)"
      ]
     },
     "execution_count": 41,
     "metadata": {},
     "output_type": "execute_result"
    },
    {
     "data": {
      "image/png": "[encoded data removed]",
      "text/plain": [
       "<Figure size 1440x1440 with 20 Axes>"
      ]
     },
     "metadata": {
      "needs_background": "light"
     },
     "output_type": "display_data"
    }
   ],
   "source": [
    "df.hist(figsize=(20,20))"
   ]
  },
  {
   "cell_type": "code",
   "execution_count": 42,
   "metadata": {},
   "outputs": [],
   "source": [
    "#sqft_living \n",
    "\n",
    "indexNames = df[df['sqft_living'] >= 5000 ].index\n",
    "df.drop(indexNames , inplace=True)\n",
    "\n",
    "# sqft_above \n",
    "\n",
    "indexNames = df[df['sqft_above'] >= 4500 ].index\n",
    "df.drop(indexNames , inplace=True)\n",
    "\n",
    "#sqft_basement \n",
    "\n",
    "indexNames = df[df['sqft_basement'] >= 2000 ].index\n",
    "df.drop(indexNames , inplace=True)\n",
    "\n",
    "# dropping sqft_lot outliers\n",
    "\n",
    "indexNames = df[df['sqft_lot'] >= 100000 ].index\n",
    "df.drop(indexNames , inplace=True)\n",
    "\n",
    "# dropping sqft_living15 outliers\n",
    "\n",
    "indexNames = df[df['sqft_living15'] >= 4500 ].index\n",
    "df.drop(indexNames , inplace=True)\n",
    "\n",
    "# dropping sqft_lot15 outliers\n",
    "\n",
    "indexNames = df[df['sqft_lot15'] >= 100000 ].index\n",
    "df.drop(indexNames , inplace=True)\n",
    "\n",
    "\n",
    "# dropping grade outliers\n",
    "indexNames = df[df['grade'] == 3 ].index\n",
    "df.drop(indexNames , inplace=True)\n",
    "\n",
    "indexNames = df[df['grade'] == 13 ].index\n",
    "df.drop(indexNames , inplace=True)\n",
    "\n",
    "# dropping bedroom outliers over 8 rooms\n",
    "indexNames = df[df['bedrooms'] >= 8 ].index\n",
    "df.drop(indexNames , inplace=True)\n",
    "\n",
    "#drop houses over a million\n",
    "indexNames = df[df['price'] >= 1000000].index\n",
    "df.drop(indexNames, inplace=True)"
   ]
  },
  {
   "cell_type": "code",
   "execution_count": 43,
   "metadata": {},
   "outputs": [],
   "source": [
    "corr = df.corr()"
   ]
  },
  {
   "cell_type": "code",
   "execution_count": 44,
   "metadata": {},
   "outputs": [
    {
     "data": {
      "text/plain": [
       "<matplotlib.axes._subplots.AxesSubplot at 0x1cb7abfa288>"
      ]
     },
     "execution_count": 44,
     "metadata": {},
     "output_type": "execute_result"
    },
    {
     "data": {
      "image/png": "[encoded data removed]",
      "text/plain": [
       "<Figure size 432x288 with 2 Axes>"
      ]
     },
     "metadata": {
      "needs_background": "light"
     },
     "output_type": "display_data"
    }
   ],
   "source": [
    "sns.heatmap(corr)"
   ]
  },
  {
   "cell_type": "code",
   "execution_count": 45,
   "metadata": {},
   "outputs": [],
   "source": [
    "# Data Binning: https://www.kaggle.com/burhanykiyakoglu/predicting-house-prices"
   ]
  },
  {
   "cell_type": "code",
   "execution_count": 46,
   "metadata": {},
   "outputs": [],
   "source": [
    "def adjustedR2(r2,n,k):\n",
    "    return r2-(k-1)/(n-k)*(1-r2)"
   ]
  },
  {
   "cell_type": "code",
   "execution_count": 47,
   "metadata": {},
   "outputs": [
    {
     "data": {
      "text/html": [
       "<div>\n",
       "<style scoped>\n",
       "    .dataframe tbody tr th:only-of-type {\n",
       "        vertical-align: middle;\n",
       "    }\n",
       "\n",
       "    .dataframe tbody tr th {\n",
       "        vertical-align: top;\n",
       "    }\n",
       "\n",
       "    .dataframe thead th {\n",
       "        text-align: right;\n",
       "    }\n",
       "</style>\n",
       "<table border=\"1\" class=\"dataframe\">\n",
       "  <thead>\n",
       "    <tr style=\"text-align: right;\">\n",
       "      <th></th>\n",
       "      <th>price</th>\n",
       "      <th>bedrooms</th>\n",
       "      <th>bathrooms</th>\n",
       "      <th>sqft_living</th>\n",
       "      <th>sqft_lot</th>\n",
       "      <th>floors</th>\n",
       "      <th>waterfront</th>\n",
       "      <th>view</th>\n",
       "      <th>condition</th>\n",
       "      <th>grade</th>\n",
       "      <th>sqft_above</th>\n",
       "      <th>sqft_basement</th>\n",
       "      <th>yr_built</th>\n",
       "      <th>yr_renovated</th>\n",
       "      <th>zipcode</th>\n",
       "      <th>lat</th>\n",
       "      <th>long</th>\n",
       "      <th>sqft_living15</th>\n",
       "      <th>sqft_lot15</th>\n",
       "    </tr>\n",
       "  </thead>\n",
       "  <tbody>\n",
       "    <tr>\n",
       "      <td>count</td>\n",
       "      <td>19394.000000</td>\n",
       "      <td>19394.000000</td>\n",
       "      <td>19394.000000</td>\n",
       "      <td>19394.000000</td>\n",
       "      <td>19394.000000</td>\n",
       "      <td>19394.000000</td>\n",
       "      <td>19394.000000</td>\n",
       "      <td>19394.000000</td>\n",
       "      <td>19394.000000</td>\n",
       "      <td>19394.000000</td>\n",
       "      <td>19394.000000</td>\n",
       "      <td>19394.000000</td>\n",
       "      <td>19394.000000</td>\n",
       "      <td>19394.000000</td>\n",
       "      <td>19394.000000</td>\n",
       "      <td>19394.000000</td>\n",
       "      <td>19394.000000</td>\n",
       "      <td>19394.000000</td>\n",
       "      <td>19394.000000</td>\n",
       "    </tr>\n",
       "    <tr>\n",
       "      <td>mean</td>\n",
       "      <td>464344.259616</td>\n",
       "      <td>3.314169</td>\n",
       "      <td>2.030435</td>\n",
       "      <td>1934.837011</td>\n",
       "      <td>9811.660204</td>\n",
       "      <td>1.471821</td>\n",
       "      <td>0.002372</td>\n",
       "      <td>0.154171</td>\n",
       "      <td>3.407703</td>\n",
       "      <td>7.493658</td>\n",
       "      <td>1674.932608</td>\n",
       "      <td>254.289058</td>\n",
       "      <td>1970.633650</td>\n",
       "      <td>410.647623</td>\n",
       "      <td>98079.377179</td>\n",
       "      <td>47.558005</td>\n",
       "      <td>-122.217229</td>\n",
       "      <td>1897.099722</td>\n",
       "      <td>9213.057286</td>\n",
       "    </tr>\n",
       "    <tr>\n",
       "      <td>std</td>\n",
       "      <td>194611.680215</td>\n",
       "      <td>0.865549</td>\n",
       "      <td>0.692493</td>\n",
       "      <td>728.711322</td>\n",
       "      <td>10606.555760</td>\n",
       "      <td>0.538104</td>\n",
       "      <td>0.048645</td>\n",
       "      <td>0.602896</td>\n",
       "      <td>0.645053</td>\n",
       "      <td>0.995263</td>\n",
       "      <td>692.668128</td>\n",
       "      <td>393.426251</td>\n",
       "      <td>29.213787</td>\n",
       "      <td>801.308969</td>\n",
       "      <td>53.519492</td>\n",
       "      <td>0.140594</td>\n",
       "      <td>0.139285</td>\n",
       "      <td>594.008619</td>\n",
       "      <td>9261.596249</td>\n",
       "    </tr>\n",
       "    <tr>\n",
       "      <td>min</td>\n",
       "      <td>78000.000000</td>\n",
       "      <td>1.000000</td>\n",
       "      <td>0.500000</td>\n",
       "      <td>370.000000</td>\n",
       "      <td>520.000000</td>\n",
       "      <td>1.000000</td>\n",
       "      <td>0.000000</td>\n",
       "      <td>0.000000</td>\n",
       "      <td>1.000000</td>\n",
       "      <td>4.000000</td>\n",
       "      <td>370.000000</td>\n",
       "      <td>0.000000</td>\n",
       "      <td>1900.000000</td>\n",
       "      <td>0.000000</td>\n",
       "      <td>98001.000000</td>\n",
       "      <td>47.155900</td>\n",
       "      <td>-122.512000</td>\n",
       "      <td>460.000000</td>\n",
       "      <td>651.000000</td>\n",
       "    </tr>\n",
       "    <tr>\n",
       "      <td>25%</td>\n",
       "      <td>311000.000000</td>\n",
       "      <td>3.000000</td>\n",
       "      <td>1.500000</td>\n",
       "      <td>1390.000000</td>\n",
       "      <td>5000.000000</td>\n",
       "      <td>1.000000</td>\n",
       "      <td>0.000000</td>\n",
       "      <td>0.000000</td>\n",
       "      <td>3.000000</td>\n",
       "      <td>7.000000</td>\n",
       "      <td>1160.000000</td>\n",
       "      <td>0.000000</td>\n",
       "      <td>1951.000000</td>\n",
       "      <td>0.000000</td>\n",
       "      <td>98033.000000</td>\n",
       "      <td>47.462900</td>\n",
       "      <td>-122.331000</td>\n",
       "      <td>1460.000000</td>\n",
       "      <td>5000.000000</td>\n",
       "    </tr>\n",
       "    <tr>\n",
       "      <td>50%</td>\n",
       "      <td>430000.000000</td>\n",
       "      <td>3.000000</td>\n",
       "      <td>2.000000</td>\n",
       "      <td>1830.000000</td>\n",
       "      <td>7390.000000</td>\n",
       "      <td>1.000000</td>\n",
       "      <td>0.000000</td>\n",
       "      <td>0.000000</td>\n",
       "      <td>3.000000</td>\n",
       "      <td>7.000000</td>\n",
       "      <td>1490.000000</td>\n",
       "      <td>0.000000</td>\n",
       "      <td>1974.000000</td>\n",
       "      <td>0.000000</td>\n",
       "      <td>98072.000000</td>\n",
       "      <td>47.567250</td>\n",
       "      <td>-122.240000</td>\n",
       "      <td>1780.000000</td>\n",
       "      <td>7475.000000</td>\n",
       "    </tr>\n",
       "    <tr>\n",
       "      <td>75%</td>\n",
       "      <td>589000.000000</td>\n",
       "      <td>4.000000</td>\n",
       "      <td>2.500000</td>\n",
       "      <td>2390.000000</td>\n",
       "      <td>9990.000000</td>\n",
       "      <td>2.000000</td>\n",
       "      <td>0.000000</td>\n",
       "      <td>0.000000</td>\n",
       "      <td>4.000000</td>\n",
       "      <td>8.000000</td>\n",
       "      <td>2050.000000</td>\n",
       "      <td>500.000000</td>\n",
       "      <td>1996.000000</td>\n",
       "      <td>0.000000</td>\n",
       "      <td>98118.000000</td>\n",
       "      <td>47.680800</td>\n",
       "      <td>-122.129000</td>\n",
       "      <td>2240.000000</td>\n",
       "      <td>9638.750000</td>\n",
       "    </tr>\n",
       "    <tr>\n",
       "      <td>max</td>\n",
       "      <td>999999.000000</td>\n",
       "      <td>7.000000</td>\n",
       "      <td>5.750000</td>\n",
       "      <td>4940.000000</td>\n",
       "      <td>99916.000000</td>\n",
       "      <td>3.500000</td>\n",
       "      <td>1.000000</td>\n",
       "      <td>4.000000</td>\n",
       "      <td>5.000000</td>\n",
       "      <td>11.000000</td>\n",
       "      <td>4480.000000</td>\n",
       "      <td>1990.000000</td>\n",
       "      <td>2015.000000</td>\n",
       "      <td>2015.000000</td>\n",
       "      <td>98199.000000</td>\n",
       "      <td>47.777600</td>\n",
       "      <td>-121.315000</td>\n",
       "      <td>4495.000000</td>\n",
       "      <td>99316.000000</td>\n",
       "    </tr>\n",
       "  </tbody>\n",
       "</table>\n",
       "</div>"
      ],
      "text/plain": [
       "               price      bedrooms     bathrooms   sqft_living      sqft_lot  \\\n",
       "count   19394.000000  19394.000000  19394.000000  19394.000000  19394.000000   \n",
       "mean   464344.259616      3.314169      2.030435   1934.837011   9811.660204   \n",
       "std    194611.680215      0.865549      0.692493    728.711322  10606.555760   \n",
       "min     78000.000000      1.000000      0.500000    370.000000    520.000000   \n",
       "25%    311000.000000      3.000000      1.500000   1390.000000   5000.000000   \n",
       "50%    430000.000000      3.000000      2.000000   1830.000000   7390.000000   \n",
       "75%    589000.000000      4.000000      2.500000   2390.000000   9990.000000   \n",
       "max    999999.000000      7.000000      5.750000   4940.000000  99916.000000   \n",
       "\n",
       "             floors    waterfront          view     condition         grade  \\\n",
       "count  19394.000000  19394.000000  19394.000000  19394.000000  19394.000000   \n",
       "mean       1.471821      0.002372      0.154171      3.407703      7.493658   \n",
       "std        0.538104      0.048645      0.602896      0.645053      0.995263   \n",
       "min        1.000000      0.000000      0.000000      1.000000      4.000000   \n",
       "25%        1.000000      0.000000      0.000000      3.000000      7.000000   \n",
       "50%        1.000000      0.000000      0.000000      3.000000      7.000000   \n",
       "75%        2.000000      0.000000      0.000000      4.000000      8.000000   \n",
       "max        3.500000      1.000000      4.000000      5.000000     11.000000   \n",
       "\n",
       "         sqft_above  sqft_basement      yr_built  yr_renovated       zipcode  \\\n",
       "count  19394.000000   19394.000000  19394.000000  19394.000000  19394.000000   \n",
       "mean    1674.932608     254.289058   1970.633650    410.647623  98079.377179   \n",
       "std      692.668128     393.426251     29.213787    801.308969     53.519492   \n",
       "min      370.000000       0.000000   1900.000000      0.000000  98001.000000   \n",
       "25%     1160.000000       0.000000   1951.000000      0.000000  98033.000000   \n",
       "50%     1490.000000       0.000000   1974.000000      0.000000  98072.000000   \n",
       "75%     2050.000000     500.000000   1996.000000      0.000000  98118.000000   \n",
       "max     4480.000000    1990.000000   2015.000000   2015.000000  98199.000000   \n",
       "\n",
       "                lat          long  sqft_living15    sqft_lot15  \n",
       "count  19394.000000  19394.000000   19394.000000  19394.000000  \n",
       "mean      47.558005   -122.217229    1897.099722   9213.057286  \n",
       "std        0.140594      0.139285     594.008619   9261.596249  \n",
       "min       47.155900   -122.512000     460.000000    651.000000  \n",
       "25%       47.462900   -122.331000    1460.000000   5000.000000  \n",
       "50%       47.567250   -122.240000    1780.000000   7475.000000  \n",
       "75%       47.680800   -122.129000    2240.000000   9638.750000  \n",
       "max       47.777600   -121.315000    4495.000000  99316.000000  "
      ]
     },
     "execution_count": 47,
     "metadata": {},
     "output_type": "execute_result"
    }
   ],
   "source": [
    "df_dm=df.copy()\n",
    "df_dm.describe()"
   ]
  },
  {
   "cell_type": "code",
   "execution_count": 48,
   "metadata": {},
   "outputs": [
    {
     "data": {
      "image/png": "[encoded data removed]",
      "text/plain": [
       "<Figure size 1080x360 with 2 Axes>"
      ]
     },
     "metadata": {
      "needs_background": "light"
     },
     "output_type": "display_data"
    }
   ],
   "source": [
    "# just take the year from the date column\n",
    "df_dm['sales_yr']=df_dm['date'].astype(str).str[:4]\n",
    "\n",
    "# add the age of the buildings when the houses were sold as a new column\n",
    "df_dm['age']=df_dm['sales_yr'].astype(int)-df_dm['yr_built']\n",
    "\n",
    "# add the age of the renovation when the houses were sold as a new column\n",
    "df_dm['age_rnv']=0\n",
    "df_dm['age_rnv']=df_dm['sales_yr'][df_dm['yr_renovated']!=0].astype(int)-df_dm['yr_renovated'][df_dm['yr_renovated']!=0]\n",
    "df_dm['age_rnv'][df_dm['age_rnv'].isnull()]=0\n",
    "\n",
    "# partition the age into bins\n",
    "bins = [-2,0,5,10,25,50,75,100,100000]\n",
    "labels = ['<1','1-5','6-10','11-25','26-50','51-75','76-100','>100']\n",
    "df_dm['age_binned'] = pd.cut(df_dm['age'], bins=bins, labels=labels)\n",
    "\n",
    "# partition the age_rnv into bins\n",
    "bins = [-2,0,5,10,25,50,75,100000]\n",
    "labels = ['<1','1-5','6-10','11-25','26-50','51-75','>75']\n",
    "df_dm['age_rnv_binned'] = pd.cut(df_dm['age_rnv'], bins=bins, labels=labels)\n",
    "\n",
    "# histograms for the binned columns\n",
    "f, axes = plt.subplots(1, 2,figsize=(15,5))\n",
    "p1=sns.countplot(df_dm['age_binned'],ax=axes[0])\n",
    "for p in p1.patches:\n",
    "    height = p.get_height()\n",
    "    p1.text(p.get_x()+p.get_width()/2,height + 50,height,ha=\"center\")   \n",
    "\n",
    "p2=sns.countplot(df_dm['age_rnv_binned'],ax=axes[1])\n",
    "sns.despine(left=True, bottom=True)\n",
    "for p in p2.patches:\n",
    "    height = p.get_height()\n",
    "    p2.text(p.get_x()+p.get_width()/2,height + 200,height,ha=\"center\")\n",
    "    \n",
    "axes[0].set(xlabel='Age')\n",
    "axes[0].yaxis.tick_left()\n",
    "axes[1].yaxis.set_label_position(\"right\")\n",
    "axes[1].yaxis.tick_right()\n",
    "axes[1].set(xlabel='Renovation Age');\n",
    "\n",
    "# transform the factor values to be able to use in the model\n",
    "df_dm = pd.get_dummies(df_dm, columns=['age_binned','age_rnv_binned'])\n"
   ]
  },
  {
   "cell_type": "code",
   "execution_count": 49,
   "metadata": {},
   "outputs": [],
   "source": [
    "train_data_dm,test_data_dm = train_test_split(df_dm,train_size = 0.8,random_state=3)"
   ]
  },
  {
   "cell_type": "code",
   "execution_count": 50,
   "metadata": {},
   "outputs": [
    {
     "name": "stdout",
     "output_type": "stream",
     "text": [
      "Intercept: -4968893.355567832\n",
      "Coefficients: [-8.15759567e+03  1.88005076e+04  6.46067133e+01  4.12491798e-01\n",
      "  1.07318097e+04  1.65063270e+05  3.01046624e+04  2.80149764e+04\n",
      "  7.01808238e+04  7.80440429e+00  7.72795648e+00 -1.23436520e+04\n",
      " -3.84969614e+04 -5.83405509e+04 -5.46556446e+04 -4.09388404e+04\n",
      "  1.13274975e+04  8.56185354e+04  1.07829617e+05 -5.22665964e+03\n",
      "  2.47783628e+04  7.52773129e+03  4.25596389e+03 -1.04760383e+04\n",
      " -1.08081731e+04 -1.00511870e+04 -2.62202394e+02  5.50412706e+05\n",
      " -3.36375317e+04  4.77915519e+01 -9.24558027e-01]\n"
     ]
    },
    {
     "data": {
      "text/html": [
       "<div>\n",
       "<style scoped>\n",
       "    .dataframe tbody tr th:only-of-type {\n",
       "        vertical-align: middle;\n",
       "    }\n",
       "\n",
       "    .dataframe tbody tr th {\n",
       "        vertical-align: top;\n",
       "    }\n",
       "\n",
       "    .dataframe thead th {\n",
       "        text-align: right;\n",
       "    }\n",
       "</style>\n",
       "<table border=\"1\" class=\"dataframe\">\n",
       "  <thead>\n",
       "    <tr style=\"text-align: right;\">\n",
       "      <th></th>\n",
       "      <th>Model</th>\n",
       "      <th>Details</th>\n",
       "      <th>Root Mean Squared Error (RMSE)</th>\n",
       "      <th>R-squared (training)</th>\n",
       "      <th>Adjusted R-squared (training)</th>\n",
       "      <th>R-squared (test)</th>\n",
       "      <th>Adjusted R-squared (test)</th>\n",
       "      <th>5-Fold Cross Validation</th>\n",
       "    </tr>\n",
       "  </thead>\n",
       "  <tbody>\n",
       "    <tr>\n",
       "      <td>0</td>\n",
       "      <td>Multiple Regression-4</td>\n",
       "      <td>all features</td>\n",
       "      <td>105136.282</td>\n",
       "      <td>0.696</td>\n",
       "      <td>0.696</td>\n",
       "      <td>0.705</td>\n",
       "      <td>0.702</td>\n",
       "      <td>0.695</td>\n",
       "    </tr>\n",
       "  </tbody>\n",
       "</table>\n",
       "</div>"
      ],
      "text/plain": [
       "                   Model       Details  Root Mean Squared Error (RMSE)  \\\n",
       "0  Multiple Regression-4  all features                      105136.282   \n",
       "\n",
       "   R-squared (training)  Adjusted R-squared (training)  R-squared (test)  \\\n",
       "0                 0.696                          0.696             0.705   \n",
       "\n",
       "   Adjusted R-squared (test)  5-Fold Cross Validation  \n",
       "0                      0.702                    0.695  "
      ]
     },
     "execution_count": 50,
     "metadata": {},
     "output_type": "execute_result"
    }
   ],
   "source": [
    "features = ['bedrooms','bathrooms','sqft_living','sqft_lot','floors','waterfront',\n",
    "            'view','condition','grade','sqft_above','sqft_basement','age_binned_<1', \n",
    "            'age_binned_1-5', 'age_binned_6-10','age_binned_11-25', 'age_binned_26-50',\n",
    "            'age_binned_51-75','age_binned_76-100', 'age_binned_>100','age_rnv_binned_<1',\n",
    "            'age_rnv_binned_1-5', 'age_rnv_binned_6-10', 'age_rnv_binned_11-25',\n",
    "            'age_rnv_binned_26-50', 'age_rnv_binned_51-75', 'age_rnv_binned_>75',\n",
    "            'zipcode','lat','long','sqft_living15','sqft_lot15']\n",
    "\n",
    "complex_model_4 = linear_model.LinearRegression()\n",
    "complex_model_4.fit(train_data_dm[features],train_data_dm['price'])\n",
    "\n",
    "print('Intercept: {}'.format(complex_model_4.intercept_))\n",
    "print('Coefficients: {}'.format(complex_model_4.coef_))\n",
    "\n",
    "pred = complex_model_4.predict(test_data_dm[features])\n",
    "rmsecm = float(format(np.sqrt(metrics.mean_squared_error(test_data_dm['price'],pred)),'.3f'))\n",
    "rtrcm = float(format(complex_model_4.score(train_data_dm[features],train_data_dm['price']),'.3f'))\n",
    "artrcm = float(format(adjustedR2(complex_model_4.score(train_data_dm[features],train_data_dm['price']),train_data_dm.shape[0],len(features)),'.3f'))\n",
    "rtecm = float(format(complex_model_4.score(test_data_dm[features],test_data_dm['price']),'.3f'))\n",
    "artecm = float(format(adjustedR2(complex_model_4.score(test_data_dm[features],test_data_dm['price']),test_data_dm.shape[0],len(features)),'.3f'))\n",
    "cv = float(format(cross_val_score(complex_model_4,df_dm[features],df_dm['price'],cv=5).mean(),'.3f'))\n",
    "\n",
    "r = evaluation.shape[0]\n",
    "evaluation.loc[r] = ['Multiple Regression-4','all features',rmsecm,rtrcm,artrcm,rtecm,artecm,cv]\n",
    "evaluation.sort_values(by = '5-Fold Cross Validation', ascending=False)"
   ]
  },
  {
   "cell_type": "code",
   "execution_count": 58,
   "metadata": {},
   "outputs": [],
   "source": [
    "y  = df_dm['price']\n",
    "\n",
    "X = df_dm[['bedrooms','bathrooms','sqft_living','sqft_lot','floors','waterfront',\n",
    "            'view','condition','grade','sqft_above','sqft_basement','age_binned_<1', \n",
    "            'age_binned_1-5', 'age_binned_6-10','age_binned_11-25', 'age_binned_26-50',\n",
    "            'age_binned_51-75','age_binned_76-100', 'age_binned_>100','age_rnv_binned_<1',\n",
    "            'age_rnv_binned_1-5', 'age_rnv_binned_6-10', 'age_rnv_binned_11-25',\n",
    "            'age_rnv_binned_26-50', 'age_rnv_binned_51-75', 'age_rnv_binned_>75',\n",
    "            'zipcode','lat','long','sqft_living15','sqft_lot15']]"
   ]
  },
  {
   "cell_type": "code",
   "execution_count": 59,
   "metadata": {},
   "outputs": [],
   "source": [
    "from sklearn.model_selection import train_test_split"
   ]
  },
  {
   "cell_type": "code",
   "execution_count": 60,
   "metadata": {},
   "outputs": [],
   "source": [
    "X_train, X_test, y_train, y_test = train_test_split(X, y)"
   ]
  },
  {
   "cell_type": "code",
   "execution_count": 61,
   "metadata": {},
   "outputs": [
    {
     "name": "stdout",
     "output_type": "stream",
     "text": [
      "14545 4849 14545 4849\n"
     ]
    }
   ],
   "source": [
    "# A brief preview of our train test split\n",
    "print(len(X_train), len(X_test), len(y_train), len(y_test))"
   ]
  },
  {
   "cell_type": "markdown",
   "metadata": {},
   "source": [
    "# Apply Model to train set "
   ]
  },
  {
   "cell_type": "code",
   "execution_count": 62,
   "metadata": {},
   "outputs": [],
   "source": [
    "from sklearn.linear_model import LinearRegression\n",
    "linreg = LinearRegression()"
   ]
  },
  {
   "cell_type": "code",
   "execution_count": 63,
   "metadata": {},
   "outputs": [
    {
     "data": {
      "text/plain": [
       "LinearRegression(copy_X=True, fit_intercept=True, n_jobs=None, normalize=False)"
      ]
     },
     "execution_count": 63,
     "metadata": {},
     "output_type": "execute_result"
    }
   ],
   "source": [
    "linreg.fit(X_train, y_train)"
   ]
  },
  {
   "cell_type": "code",
   "execution_count": 64,
   "metadata": {},
   "outputs": [
    {
     "data": {
      "text/plain": [
       "LinearRegression(copy_X=True, fit_intercept=True, n_jobs=1, normalize=False)"
      ]
     },
     "execution_count": 64,
     "metadata": {},
     "output_type": "execute_result"
    }
   ],
   "source": [
    "LinearRegression(copy_X=True, fit_intercept=True, n_jobs=1, normalize=False)"
   ]
  },
  {
   "cell_type": "markdown",
   "metadata": {},
   "source": [
    "# Calculate predictions on training and test sets"
   ]
  },
  {
   "cell_type": "code",
   "execution_count": 65,
   "metadata": {},
   "outputs": [],
   "source": [
    "y_hat_train = linreg.predict(X_train)\n",
    "y_hat_test = linreg.predict(X_test)"
   ]
  },
  {
   "cell_type": "markdown",
   "metadata": {},
   "source": [
    "# Calculate training and test residuals "
   ]
  },
  {
   "cell_type": "code",
   "execution_count": 66,
   "metadata": {},
   "outputs": [],
   "source": [
    "y_hat_train = linreg.predict(X_train)\n",
    "y_hat_test = linreg.predict(X_test)"
   ]
  },
  {
   "cell_type": "code",
   "execution_count": 67,
   "metadata": {},
   "outputs": [],
   "source": [
    "train_residuals = y_hat_train - y_train\n",
    "test_residuals = y_hat_test - y_test"
   ]
  },
  {
   "cell_type": "markdown",
   "metadata": {},
   "source": [
    "# Calculate Mean Squared Error (MSE)\n",
    "# A good way to compare overall performance is to compare the mean squarred error for the predicted values on the training and test sets.\n",
    "\n"
   ]
  },
  {
   "cell_type": "code",
   "execution_count": 68,
   "metadata": {},
   "outputs": [],
   "source": [
    "from sklearn.metrics import mean_squared_error"
   ]
  },
  {
   "cell_type": "code",
   "execution_count": 69,
   "metadata": {},
   "outputs": [
    {
     "name": "stdout",
     "output_type": "stream",
     "text": [
      "Train Mean Squarred Error: 11540826571.396461\n",
      "Test Mean Squarred Error: 11118813699.903122\n"
     ]
    }
   ],
   "source": [
    "train_mse = mean_squared_error(y_train, y_hat_train)\n",
    "test_mse = mean_squared_error(y_test, y_hat_test)\n",
    "print('Train Mean Squarred Error:', train_mse)\n",
    "print('Test Mean Squarred Error:', test_mse)"
   ]
  },
  {
   "cell_type": "code",
   "execution_count": 70,
   "metadata": {},
   "outputs": [
    {
     "data": {
      "text/plain": [
       "105445.78559574168"
      ]
     },
     "execution_count": 70,
     "metadata": {},
     "output_type": "execute_result"
    }
   ],
   "source": [
    "import math\n",
    "math.sqrt(test_mse)"
   ]
  },
  {
   "cell_type": "code",
   "execution_count": 71,
   "metadata": {},
   "outputs": [
    {
     "data": {
      "text/plain": [
       "107428.23917106926"
      ]
     },
     "execution_count": 71,
     "metadata": {},
     "output_type": "execute_result"
    }
   ],
   "source": [
    "math.sqrt(train_mse)"
   ]
  },
  {
   "cell_type": "markdown",
   "metadata": {},
   "source": [
    "# Evaluate effect of train test split size"
   ]
  },
  {
   "cell_type": "code",
   "execution_count": 72,
   "metadata": {},
   "outputs": [
    {
     "data": {
      "text/plain": [
       "<matplotlib.legend.Legend at 0x1cb771cebc8>"
      ]
     },
     "execution_count": 72,
     "metadata": {},
     "output_type": "execute_result"
    },
    {
     "data": {
      "image/png": "[encoded data removed]",
      "text/plain": [
       "<Figure size 432x288 with 1 Axes>"
      ]
     },
     "metadata": {
      "needs_background": "light"
     },
     "output_type": "display_data"
    }
   ],
   "source": [
    "import random\n",
    "random.seed(11)\n",
    "\n",
    "train_err = []\n",
    "test_err = []\n",
    "t_sizes = list(range(5,100,5))\n",
    "for t_size in t_sizes:\n",
    "    X_train, X_test, y_train, y_test = train_test_split(X, y, test_size=t_size/100)\n",
    "    linreg.fit(X_train, y_train)\n",
    "    y_hat_train = linreg.predict(X_train)\n",
    "    y_hat_test = linreg.predict(X_test)\n",
    "    train_err.append(mean_squared_error(y_train, y_hat_train))\n",
    "    test_err.append(mean_squared_error(y_test, y_hat_test))\n",
    "plt.scatter(t_sizes, train_err, label='Training Error')\n",
    "plt.scatter(t_sizes, test_err, label='Testing Error')\n",
    "plt.legend()"
   ]
  },
  {
   "cell_type": "markdown",
   "metadata": {},
   "source": [
    "# Repeat the previous example, but for each train-test split size, generate 100 iterations of models/errors and save the average train/test error. This will help account for any particularly good/bad models that might have resulted from poor/good splits in the data."
   ]
  },
  {
   "cell_type": "code",
   "execution_count": 73,
   "metadata": {},
   "outputs": [
    {
     "data": {
      "text/plain": [
       "<matplotlib.legend.Legend at 0x1cb77686d08>"
      ]
     },
     "execution_count": 73,
     "metadata": {},
     "output_type": "execute_result"
    },
    {
     "data": {
      "image/png": "[encoded data removed]",
      "text/plain": [
       "<Figure size 432x288 with 1 Axes>"
      ]
     },
     "metadata": {
      "needs_background": "light"
     },
     "output_type": "display_data"
    }
   ],
   "source": [
    "random.seed(8)\n",
    "\n",
    "train_err = []\n",
    "test_err = []\n",
    "t_sizes = list(range(5,100,5))\n",
    "for t_size in t_sizes:\n",
    "    temp_train_err = []\n",
    "    temp_test_err = []\n",
    "    for i in range(100):\n",
    "        X_train, X_test, y_train, y_test = train_test_split(X, y, test_size=t_size/100)\n",
    "        linreg.fit(X_train, y_train)\n",
    "        y_hat_train = linreg.predict(X_train)\n",
    "        y_hat_test = linreg.predict(X_test)\n",
    "        temp_train_err.append(mean_squared_error(y_train, y_hat_train))\n",
    "        temp_test_err.append(mean_squared_error(y_test, y_hat_test))\n",
    "    train_err.append(np.mean(temp_train_err))\n",
    "    test_err.append(np.mean(temp_test_err))\n",
    "plt.scatter(t_sizes, train_err, label='Training Error')\n",
    "plt.scatter(t_sizes, test_err, label='Testing Error')\n",
    "plt.legend()"
   ]
  },
  {
   "cell_type": "code",
   "execution_count": 74,
   "metadata": {},
   "outputs": [],
   "source": [
    "from sklearn.metrics import mean_squared_error\n",
    "from sklearn.model_selection import cross_val_score\n",
    "\n",
    "cv_5_results  = np.mean(cross_val_score(linreg, X, y, cv=5,  scoring='neg_mean_squared_error'))\n",
    "cv_10_results = np.mean(cross_val_score(linreg, X, y, cv=10, scoring='neg_mean_squared_error'))\n",
    "cv_20_results = np.mean(cross_val_score(linreg, X, y, cv=20, scoring='neg_mean_squared_error'))"
   ]
  },
  {
   "cell_type": "code",
   "execution_count": 75,
   "metadata": {},
   "outputs": [],
   "source": [
    "#Cross-Validation"
   ]
  },
  {
   "cell_type": "code",
   "execution_count": 76,
   "metadata": {},
   "outputs": [],
   "source": [
    "X_train, X_test, y_train, y_test = train_test_split(X, y, test_size=0.20)"
   ]
  },
  {
   "cell_type": "code",
   "execution_count": 77,
   "metadata": {},
   "outputs": [
    {
     "name": "stdout",
     "output_type": "stream",
     "text": [
      "15515 3879 15515 3879\n"
     ]
    }
   ],
   "source": [
    "# A brief preview of train-test split\n",
    "print(len(X_train), len(X_test), len(y_train), len(y_test))"
   ]
  },
  {
   "cell_type": "code",
   "execution_count": 78,
   "metadata": {},
   "outputs": [],
   "source": [
    "linreg = LinearRegression()\n",
    "\n",
    "linreg.fit(X_train, y_train)\n",
    "y_hat_test = linreg.predict(X_test)"
   ]
  },
  {
   "cell_type": "code",
   "execution_count": 79,
   "metadata": {},
   "outputs": [],
   "source": [
    "# Residuals and MSE "
   ]
  },
  {
   "cell_type": "code",
   "execution_count": 80,
   "metadata": {},
   "outputs": [
    {
     "data": {
      "text/plain": [
       "11446499505.272036"
      ]
     },
     "execution_count": 80,
     "metadata": {},
     "output_type": "execute_result"
    }
   ],
   "source": [
    "test_residuals = y_hat_test - y_test\n",
    "\n",
    "test_mse = mean_squared_error(y_test, y_hat_test)\n",
    "test_mse"
   ]
  },
  {
   "cell_type": "code",
   "execution_count": 81,
   "metadata": {},
   "outputs": [
    {
     "data": {
      "text/plain": [
       "106988.3148071416"
      ]
     },
     "execution_count": 81,
     "metadata": {},
     "output_type": "execute_result"
    }
   ],
   "source": [
    "import math\n",
    "math.sqrt(test_mse)"
   ]
  },
  {
   "cell_type": "code",
   "execution_count": 82,
   "metadata": {},
   "outputs": [],
   "source": [
    "from sklearn.metrics import mean_squared_error\n",
    "from sklearn.model_selection import cross_val_score\n",
    "\n",
    "cv_5_results = cross_val_score(linreg, X, y, cv=5, scoring='neg_mean_squared_error')"
   ]
  },
  {
   "cell_type": "code",
   "execution_count": 83,
   "metadata": {},
   "outputs": [
    {
     "data": {
      "text/plain": [
       "array([-1.16152668e+10, -1.17410802e+10, -1.13277796e+10, -1.15810958e+10,\n",
       "       -1.13842494e+10])"
      ]
     },
     "execution_count": 83,
     "metadata": {},
     "output_type": "execute_result"
    }
   ],
   "source": [
    "cv_5_results"
   ]
  },
  {
   "cell_type": "code",
   "execution_count": null,
   "metadata": {},
   "outputs": [],
   "source": []
  },
  {
   "cell_type": "code",
   "execution_count": null,
   "metadata": {},
   "outputs": [],
   "source": []
  }
 ],
 "metadata": {
  "kernelspec": {
   "display_name": "Python 3",
   "language": "python",
   "name": "python3"
  },
  "language_info": {
   "codemirror_mode": {
    "name": "ipython",
    "version": 3
   },
   "file_extension": ".py",
   "mimetype": "text/x-python",
   "name": "python",
   "nbconvert_exporter": "python",
   "pygments_lexer": "ipython3",
   "version": "3.7.4"
  }
 },
 "nbformat": 4,
 "nbformat_minor": 2
}
