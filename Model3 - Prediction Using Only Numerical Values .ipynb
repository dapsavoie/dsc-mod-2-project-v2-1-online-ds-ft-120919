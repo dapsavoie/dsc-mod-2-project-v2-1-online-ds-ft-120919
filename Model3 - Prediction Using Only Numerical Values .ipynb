{
 "cells": [
  {
   "cell_type": "code",
   "execution_count": 1,
   "metadata": {},
   "outputs": [],
   "source": [
    "import pandas as pd \n",
    "import numpy as np\n",
    "import matplotlib.pyplot as plt \n",
    "%matplotlib inline  \n",
    "\n",
    "import seaborn as sns \n",
    "import statsmodels.api as sm\n",
    "import statsmodels.formula.api as smf\n",
    "import matplotlib.pyplot as plt\n",
    "from statsmodels.sandbox.regression.predstd import wls_prediction_std\n",
    "import scipy.stats as stats\n",
    "import math "
   ]
  },
  {
   "cell_type": "code",
   "execution_count": 2,
   "metadata": {},
   "outputs": [
    {
     "data": {
      "text/html": [
       "<div>\n",
       "<style scoped>\n",
       "    .dataframe tbody tr th:only-of-type {\n",
       "        vertical-align: middle;\n",
       "    }\n",
       "\n",
       "    .dataframe tbody tr th {\n",
       "        vertical-align: top;\n",
       "    }\n",
       "\n",
       "    .dataframe thead th {\n",
       "        text-align: right;\n",
       "    }\n",
       "</style>\n",
       "<table border=\"1\" class=\"dataframe\">\n",
       "  <thead>\n",
       "    <tr style=\"text-align: right;\">\n",
       "      <th></th>\n",
       "      <th>id</th>\n",
       "      <th>date</th>\n",
       "      <th>price</th>\n",
       "      <th>bedrooms</th>\n",
       "      <th>bathrooms</th>\n",
       "      <th>sqft_living</th>\n",
       "      <th>sqft_lot</th>\n",
       "      <th>floors</th>\n",
       "      <th>waterfront</th>\n",
       "      <th>view</th>\n",
       "      <th>...</th>\n",
       "      <th>grade</th>\n",
       "      <th>sqft_above</th>\n",
       "      <th>sqft_basement</th>\n",
       "      <th>yr_built</th>\n",
       "      <th>yr_renovated</th>\n",
       "      <th>zipcode</th>\n",
       "      <th>lat</th>\n",
       "      <th>long</th>\n",
       "      <th>sqft_living15</th>\n",
       "      <th>sqft_lot15</th>\n",
       "    </tr>\n",
       "  </thead>\n",
       "  <tbody>\n",
       "    <tr>\n",
       "      <td>0</td>\n",
       "      <td>7129300520</td>\n",
       "      <td>10/13/2014</td>\n",
       "      <td>221900.0</td>\n",
       "      <td>3</td>\n",
       "      <td>1.00</td>\n",
       "      <td>1180</td>\n",
       "      <td>5650</td>\n",
       "      <td>1.0</td>\n",
       "      <td>NaN</td>\n",
       "      <td>0.0</td>\n",
       "      <td>...</td>\n",
       "      <td>7</td>\n",
       "      <td>1180</td>\n",
       "      <td>0.0</td>\n",
       "      <td>1955</td>\n",
       "      <td>0.0</td>\n",
       "      <td>98178</td>\n",
       "      <td>47.5112</td>\n",
       "      <td>-122.257</td>\n",
       "      <td>1340</td>\n",
       "      <td>5650</td>\n",
       "    </tr>\n",
       "    <tr>\n",
       "      <td>1</td>\n",
       "      <td>6414100192</td>\n",
       "      <td>12/9/2014</td>\n",
       "      <td>538000.0</td>\n",
       "      <td>3</td>\n",
       "      <td>2.25</td>\n",
       "      <td>2570</td>\n",
       "      <td>7242</td>\n",
       "      <td>2.0</td>\n",
       "      <td>0.0</td>\n",
       "      <td>0.0</td>\n",
       "      <td>...</td>\n",
       "      <td>7</td>\n",
       "      <td>2170</td>\n",
       "      <td>400.0</td>\n",
       "      <td>1951</td>\n",
       "      <td>1991.0</td>\n",
       "      <td>98125</td>\n",
       "      <td>47.7210</td>\n",
       "      <td>-122.319</td>\n",
       "      <td>1690</td>\n",
       "      <td>7639</td>\n",
       "    </tr>\n",
       "    <tr>\n",
       "      <td>2</td>\n",
       "      <td>5631500400</td>\n",
       "      <td>2/25/2015</td>\n",
       "      <td>180000.0</td>\n",
       "      <td>2</td>\n",
       "      <td>1.00</td>\n",
       "      <td>770</td>\n",
       "      <td>10000</td>\n",
       "      <td>1.0</td>\n",
       "      <td>0.0</td>\n",
       "      <td>0.0</td>\n",
       "      <td>...</td>\n",
       "      <td>6</td>\n",
       "      <td>770</td>\n",
       "      <td>0.0</td>\n",
       "      <td>1933</td>\n",
       "      <td>NaN</td>\n",
       "      <td>98028</td>\n",
       "      <td>47.7379</td>\n",
       "      <td>-122.233</td>\n",
       "      <td>2720</td>\n",
       "      <td>8062</td>\n",
       "    </tr>\n",
       "    <tr>\n",
       "      <td>3</td>\n",
       "      <td>2487200875</td>\n",
       "      <td>12/9/2014</td>\n",
       "      <td>604000.0</td>\n",
       "      <td>4</td>\n",
       "      <td>3.00</td>\n",
       "      <td>1960</td>\n",
       "      <td>5000</td>\n",
       "      <td>1.0</td>\n",
       "      <td>0.0</td>\n",
       "      <td>0.0</td>\n",
       "      <td>...</td>\n",
       "      <td>7</td>\n",
       "      <td>1050</td>\n",
       "      <td>910.0</td>\n",
       "      <td>1965</td>\n",
       "      <td>0.0</td>\n",
       "      <td>98136</td>\n",
       "      <td>47.5208</td>\n",
       "      <td>-122.393</td>\n",
       "      <td>1360</td>\n",
       "      <td>5000</td>\n",
       "    </tr>\n",
       "    <tr>\n",
       "      <td>4</td>\n",
       "      <td>1954400510</td>\n",
       "      <td>2/18/2015</td>\n",
       "      <td>510000.0</td>\n",
       "      <td>3</td>\n",
       "      <td>2.00</td>\n",
       "      <td>1680</td>\n",
       "      <td>8080</td>\n",
       "      <td>1.0</td>\n",
       "      <td>0.0</td>\n",
       "      <td>0.0</td>\n",
       "      <td>...</td>\n",
       "      <td>8</td>\n",
       "      <td>1680</td>\n",
       "      <td>0.0</td>\n",
       "      <td>1987</td>\n",
       "      <td>0.0</td>\n",
       "      <td>98074</td>\n",
       "      <td>47.6168</td>\n",
       "      <td>-122.045</td>\n",
       "      <td>1800</td>\n",
       "      <td>7503</td>\n",
       "    </tr>\n",
       "  </tbody>\n",
       "</table>\n",
       "<p>5 rows × 21 columns</p>\n",
       "</div>"
      ],
      "text/plain": [
       "           id        date     price  bedrooms  bathrooms  sqft_living  \\\n",
       "0  7129300520  10/13/2014  221900.0         3       1.00         1180   \n",
       "1  6414100192   12/9/2014  538000.0         3       2.25         2570   \n",
       "2  5631500400   2/25/2015  180000.0         2       1.00          770   \n",
       "3  2487200875   12/9/2014  604000.0         4       3.00         1960   \n",
       "4  1954400510   2/18/2015  510000.0         3       2.00         1680   \n",
       "\n",
       "   sqft_lot  floors  waterfront  view  ...  grade  sqft_above  sqft_basement  \\\n",
       "0      5650     1.0         NaN   0.0  ...      7        1180            0.0   \n",
       "1      7242     2.0         0.0   0.0  ...      7        2170          400.0   \n",
       "2     10000     1.0         0.0   0.0  ...      6         770            0.0   \n",
       "3      5000     1.0         0.0   0.0  ...      7        1050          910.0   \n",
       "4      8080     1.0         0.0   0.0  ...      8        1680            0.0   \n",
       "\n",
       "  yr_built  yr_renovated  zipcode      lat     long  sqft_living15  sqft_lot15  \n",
       "0     1955           0.0    98178  47.5112 -122.257           1340        5650  \n",
       "1     1951        1991.0    98125  47.7210 -122.319           1690        7639  \n",
       "2     1933           NaN    98028  47.7379 -122.233           2720        8062  \n",
       "3     1965           0.0    98136  47.5208 -122.393           1360        5000  \n",
       "4     1987           0.0    98074  47.6168 -122.045           1800        7503  \n",
       "\n",
       "[5 rows x 21 columns]"
      ]
     },
     "execution_count": 2,
     "metadata": {},
     "output_type": "execute_result"
    }
   ],
   "source": [
    "df = pd.read_csv('kc_house_data.csv')\n",
    "df.head()"
   ]
  },
  {
   "cell_type": "code",
   "execution_count": 3,
   "metadata": {},
   "outputs": [
    {
     "data": {
      "text/plain": [
       "id                 int64\n",
       "date              object\n",
       "price            float64\n",
       "bedrooms           int64\n",
       "bathrooms        float64\n",
       "sqft_living        int64\n",
       "sqft_lot           int64\n",
       "floors           float64\n",
       "waterfront       float64\n",
       "view             float64\n",
       "condition          int64\n",
       "grade              int64\n",
       "sqft_above         int64\n",
       "sqft_basement     object\n",
       "yr_built           int64\n",
       "yr_renovated     float64\n",
       "zipcode            int64\n",
       "lat              float64\n",
       "long             float64\n",
       "sqft_living15      int64\n",
       "sqft_lot15         int64\n",
       "dtype: object"
      ]
     },
     "execution_count": 3,
     "metadata": {},
     "output_type": "execute_result"
    }
   ],
   "source": [
    "df.dtypes"
   ]
  },
  {
   "cell_type": "code",
   "execution_count": 4,
   "metadata": {},
   "outputs": [
    {
     "data": {
      "text/plain": [
       "id                        int64\n",
       "date             datetime64[ns]\n",
       "price                   float64\n",
       "bedrooms                  int64\n",
       "bathrooms               float64\n",
       "sqft_living               int64\n",
       "sqft_lot                  int64\n",
       "floors                  float64\n",
       "waterfront              float64\n",
       "view                    float64\n",
       "condition                 int64\n",
       "grade                     int64\n",
       "sqft_above                int64\n",
       "sqft_basement           float64\n",
       "yr_built                  int64\n",
       "yr_renovated            float64\n",
       "zipcode                   int64\n",
       "lat                     float64\n",
       "long                    float64\n",
       "sqft_living15             int64\n",
       "sqft_lot15                int64\n",
       "dtype: object"
      ]
     },
     "execution_count": 4,
     "metadata": {},
     "output_type": "execute_result"
    }
   ],
   "source": [
    "#convert column name ['date'] from object to datetime \n",
    "df['sqft_basement'] = df['sqft_basement'].map(lambda x: 0 if x=='?' else x)\n",
    "\n",
    "#Convert sqft_basement to a number\n",
    "df['sqft_basement'] = df['sqft_basement'].astype(float)\n",
    "\n",
    "#might be cool to create a function that takes any column date and converts it \n",
    "\n",
    "df['date'] = pd.to_datetime(df['date'])\n",
    "\n",
    "df.dtypes"
   ]
  },
  {
   "cell_type": "code",
   "execution_count": 5,
   "metadata": {},
   "outputs": [
    {
     "data": {
      "text/plain": [
       "count    21597.000000\n",
       "mean       285.716581\n",
       "std        439.819830\n",
       "min          0.000000\n",
       "25%          0.000000\n",
       "50%          0.000000\n",
       "75%        550.000000\n",
       "max       4820.000000\n",
       "Name: sqft_basement, dtype: float64"
      ]
     },
     "execution_count": 5,
     "metadata": {},
     "output_type": "execute_result"
    }
   ],
   "source": [
    "#replacing all ? with 0's - major assumption that requires data enrichment to correct\n",
    "#\n",
    "\n",
    "df['sqft_basement'] = df['sqft_basement'].map(lambda x: 0 if x==\n",
    "                                             '?' else x)\n",
    "\n",
    "df['sqft_basement'] = df['sqft_basement'].astype(float)\n",
    "\n",
    "df['sqft_basement'].describe()"
   ]
  },
  {
   "cell_type": "code",
   "execution_count": 6,
   "metadata": {},
   "outputs": [
    {
     "data": {
      "text/plain": [
       "id                  0\n",
       "date                0\n",
       "price               0\n",
       "bedrooms            0\n",
       "bathrooms           0\n",
       "sqft_living         0\n",
       "sqft_lot            0\n",
       "floors              0\n",
       "waterfront       2376\n",
       "view               63\n",
       "condition           0\n",
       "grade               0\n",
       "sqft_above          0\n",
       "sqft_basement       0\n",
       "yr_built            0\n",
       "yr_renovated     3842\n",
       "zipcode             0\n",
       "lat                 0\n",
       "long                0\n",
       "sqft_living15       0\n",
       "sqft_lot15          0\n",
       "dtype: int64"
      ]
     },
     "execution_count": 6,
     "metadata": {},
     "output_type": "execute_result"
    }
   ],
   "source": [
    "# Identify null values \n",
    "\n",
    "df.isna().sum()"
   ]
  },
  {
   "cell_type": "code",
   "execution_count": 7,
   "metadata": {},
   "outputs": [],
   "source": [
    "#Repeat the same process for view which indicates how many times a house has been viewed\n",
    "\n",
    "#We replaced all views with a median value, its safe to assume houses on the market in these areas are quite popular and viewed \n",
    "median = df['view'].median()\n",
    "df['view'] = df['view'].fillna(value=median)#Waterfront 0 = No waterfront, 1=Waterfront \n",
    "\n",
    "#Making all nulls 0 indicating no waterfront \n",
    "\n",
    "df['waterfront'].isna().sum()\n",
    "\n",
    "df['waterfront'] = df['waterfront'].fillna(0)\n",
    "\n",
    "\n",
    "df['yr_renovated'] = df['yr_renovated'].fillna(df['yr_built'])"
   ]
  },
  {
   "cell_type": "code",
   "execution_count": 8,
   "metadata": {},
   "outputs": [
    {
     "data": {
      "text/plain": [
       "id               0\n",
       "date             0\n",
       "price            0\n",
       "bedrooms         0\n",
       "bathrooms        0\n",
       "sqft_living      0\n",
       "sqft_lot         0\n",
       "floors           0\n",
       "waterfront       0\n",
       "view             0\n",
       "condition        0\n",
       "grade            0\n",
       "sqft_above       0\n",
       "sqft_basement    0\n",
       "yr_built         0\n",
       "yr_renovated     0\n",
       "zipcode          0\n",
       "lat              0\n",
       "long             0\n",
       "sqft_living15    0\n",
       "sqft_lot15       0\n",
       "dtype: int64"
      ]
     },
     "execution_count": 8,
     "metadata": {},
     "output_type": "execute_result"
    }
   ],
   "source": [
    "df.isna().sum()"
   ]
  },
  {
   "cell_type": "code",
   "execution_count": 9,
   "metadata": {},
   "outputs": [],
   "source": [
    "#dropped all duplicates for id \n",
    "#inplace = True changes the dataframe permanently\n",
    "\n",
    "df.drop_duplicates(subset=['id'], inplace=True)"
   ]
  },
  {
   "cell_type": "code",
   "execution_count": 10,
   "metadata": {},
   "outputs": [],
   "source": [
    "#drop id column\n",
    "df.drop(['id'], axis=1, inplace=True)"
   ]
  },
  {
   "cell_type": "code",
   "execution_count": 11,
   "metadata": {},
   "outputs": [
    {
     "data": {
      "text/plain": [
       "(21420, 20)"
      ]
     },
     "execution_count": 11,
     "metadata": {},
     "output_type": "execute_result"
    }
   ],
   "source": [
    "df.shape"
   ]
  },
  {
   "cell_type": "code",
   "execution_count": 12,
   "metadata": {},
   "outputs": [
    {
     "data": {
      "text/plain": [
       "array([[<matplotlib.axes._subplots.AxesSubplot object at 0x0000029CC1CA2DC8>,\n",
       "        <matplotlib.axes._subplots.AxesSubplot object at 0x0000029CC1D2E448>,\n",
       "        <matplotlib.axes._subplots.AxesSubplot object at 0x0000029CC1D6ABC8>,\n",
       "        <matplotlib.axes._subplots.AxesSubplot object at 0x0000029CC1DA2CC8>],\n",
       "       [<matplotlib.axes._subplots.AxesSubplot object at 0x0000029CC1DD9D88>,\n",
       "        <matplotlib.axes._subplots.AxesSubplot object at 0x0000029CC1FC0E88>,\n",
       "        <matplotlib.axes._subplots.AxesSubplot object at 0x0000029CC1FF8F88>,\n",
       "        <matplotlib.axes._subplots.AxesSubplot object at 0x0000029CC2037108>],\n",
       "       [<matplotlib.axes._subplots.AxesSubplot object at 0x0000029CC203CCC8>,\n",
       "        <matplotlib.axes._subplots.AxesSubplot object at 0x0000029CC2405EC8>,\n",
       "        <matplotlib.axes._subplots.AxesSubplot object at 0x0000029CC246E3C8>,\n",
       "        <matplotlib.axes._subplots.AxesSubplot object at 0x0000029CC24A6508>],\n",
       "       [<matplotlib.axes._subplots.AxesSubplot object at 0x0000029CC24DF608>,\n",
       "        <matplotlib.axes._subplots.AxesSubplot object at 0x0000029CC2517708>,\n",
       "        <matplotlib.axes._subplots.AxesSubplot object at 0x0000029CC254F848>,\n",
       "        <matplotlib.axes._subplots.AxesSubplot object at 0x0000029CC25878C8>],\n",
       "       [<matplotlib.axes._subplots.AxesSubplot object at 0x0000029CC25BF9C8>,\n",
       "        <matplotlib.axes._subplots.AxesSubplot object at 0x0000029CC29C8B08>,\n",
       "        <matplotlib.axes._subplots.AxesSubplot object at 0x0000029CC29FEC08>,\n",
       "        <matplotlib.axes._subplots.AxesSubplot object at 0x0000029CC2A37D08>]],\n",
       "      dtype=object)"
      ]
     },
     "execution_count": 12,
     "metadata": {},
     "output_type": "execute_result"
    },
    {
     "data": {
      "image/png": "[encoded data removed]",
      "text/plain": [
       "<Figure size 1440x1440 with 20 Axes>"
      ]
     },
     "metadata": {
      "needs_background": "light"
     },
     "output_type": "display_data"
    }
   ],
   "source": [
    "df.hist(figsize=(20,20))"
   ]
  },
  {
   "cell_type": "code",
   "execution_count": 13,
   "metadata": {},
   "outputs": [],
   "source": [
    "#sqft_living \n",
    "\n",
    "indexNames = df[df['sqft_living'] >= 5000 ].index\n",
    "df.drop(indexNames , inplace=True)\n",
    "\n",
    "# sqft_above \n",
    "\n",
    "indexNames = df[df['sqft_above'] >= 4500 ].index\n",
    "df.drop(indexNames , inplace=True)\n",
    "\n",
    "#sqft_basement \n",
    "\n",
    "indexNames = df[df['sqft_basement'] >= 2000 ].index\n",
    "df.drop(indexNames , inplace=True)\n",
    "\n",
    "# dropping sqft_lot outliers\n",
    "\n",
    "indexNames = df[df['sqft_lot'] >= 100000 ].index\n",
    "df.drop(indexNames , inplace=True)\n",
    "\n",
    "# dropping sqft_living15 outliers\n",
    "\n",
    "indexNames = df[df['sqft_living15'] >= 4500 ].index\n",
    "df.drop(indexNames , inplace=True)\n",
    "\n",
    "# dropping sqft_lot15 outliers\n",
    "\n",
    "indexNames = df[df['sqft_lot15'] >= 100000 ].index\n",
    "df.drop(indexNames , inplace=True)\n",
    "\n",
    "\n",
    "# dropping grade outliers\n",
    "indexNames = df[df['grade'] == 3 ].index\n",
    "df.drop(indexNames , inplace=True)\n",
    "\n",
    "indexNames = df[df['grade'] == 13 ].index\n",
    "df.drop(indexNames , inplace=True)\n",
    "\n",
    "# dropping bedroom outliers over 8 rooms\n",
    "indexNames = df[df['bedrooms'] >= 8 ].index\n",
    "df.drop(indexNames , inplace=True)\n",
    "\n",
    "#drop houses over a million\n",
    "indexNames = df[df['price'] >= 1000000].index\n",
    "df.drop(indexNames, inplace=True)"
   ]
  },
  {
   "cell_type": "raw",
   "metadata": {},
   "source": [
    "corr = df.corr()"
   ]
  },
  {
   "cell_type": "code",
   "execution_count": 14,
   "metadata": {},
   "outputs": [],
   "source": [
    "corr = df.corr()"
   ]
  },
  {
   "cell_type": "code",
   "execution_count": 15,
   "metadata": {},
   "outputs": [
    {
     "data": {
      "text/plain": [
       "<matplotlib.axes._subplots.AxesSubplot at 0x29cc2bd6d48>"
      ]
     },
     "execution_count": 15,
     "metadata": {},
     "output_type": "execute_result"
    },
    {
     "data": {
      "image/png": "[encoded data removed]",
      "text/plain": [
       "<Figure size 432x288 with 2 Axes>"
      ]
     },
     "metadata": {
      "needs_background": "light"
     },
     "output_type": "display_data"
    }
   ],
   "source": [
    "sns.heatmap(corr)"
   ]
  },
  {
   "cell_type": "code",
   "execution_count": 16,
   "metadata": {},
   "outputs": [
    {
     "name": "stdout",
     "output_type": "stream",
     "text": [
      "price~price\n",
      "{-1.546140993013978e-10, 1.0, 'price', 1.0000000000000004, 0.0}\n",
      "                            OLS Regression Results                            \n",
      "==============================================================================\n",
      "Dep. Variable:                  price   R-squared:                       1.000\n",
      "Model:                            OLS   Adj. R-squared:                  1.000\n",
      "Method:                 Least Squares   F-statistic:                 5.040e+34\n",
      "Date:                Sat, 15 Feb 2020   Prob (F-statistic):               0.00\n",
      "Time:                        21:05:32   Log-Likelihood:             4.1539e+05\n",
      "No. Observations:               19394   AIC:                        -8.308e+05\n",
      "Df Residuals:                   19392   BIC:                        -8.308e+05\n",
      "Df Model:                           1                                         \n",
      "Covariance Type:            nonrobust                                         \n",
      "==============================================================================\n",
      "                 coef    std err          t      P>|t|      [0.025      0.975]\n",
      "------------------------------------------------------------------------------\n",
      "Intercept  -1.546e-10   2.24e-12    -68.942      0.000   -1.59e-10    -1.5e-10\n",
      "price          1.0000   4.45e-18   2.24e+17      0.000       1.000       1.000\n",
      "==============================================================================\n",
      "Omnibus:                     1875.743   Durbin-Watson:                   1.580\n",
      "Prob(Omnibus):                  0.000   Jarque-Bera (JB):             2418.242\n",
      "Skew:                          -0.855   Prob(JB):                         0.00\n",
      "Kurtosis:                       2.741   Cond. No.                     1.30e+06\n",
      "==============================================================================\n",
      "\n",
      "Warnings:\n",
      "[1] Standard Errors assume that the covariance matrix of the errors is correctly specified.\n",
      "[2] The condition number is large, 1.3e+06. This might indicate that there are\n",
      "strong multicollinearity or other numerical problems.\n",
      "price~bedrooms\n",
      "{0.08554146377160521, 65760.54005818474, 246402.69458390083, 0.0, 'bedrooms'}\n",
      "                            OLS Regression Results                            \n",
      "==============================================================================\n",
      "Dep. Variable:                  price   R-squared:                       0.086\n",
      "Model:                            OLS   Adj. R-squared:                  0.085\n",
      "Method:                 Least Squares   F-statistic:                     1814.\n",
      "Date:                Sat, 15 Feb 2020   Prob (F-statistic):               0.00\n",
      "Time:                        21:05:32   Log-Likelihood:            -2.6285e+05\n",
      "No. Observations:               19394   AIC:                         5.257e+05\n",
      "Df Residuals:                   19392   BIC:                         5.257e+05\n",
      "Df Model:                           1                                         \n",
      "Covariance Type:            nonrobust                                         \n",
      "==============================================================================\n",
      "                 coef    std err          t      P>|t|      [0.025      0.975]\n",
      "------------------------------------------------------------------------------\n",
      "Intercept   2.464e+05   5288.708     46.590      0.000    2.36e+05    2.57e+05\n",
      "bedrooms    6.576e+04   1544.002     42.591      0.000    6.27e+04    6.88e+04\n",
      "==============================================================================\n",
      "Omnibus:                     1018.156   Durbin-Watson:                   1.962\n",
      "Prob(Omnibus):                  0.000   Jarque-Bera (JB):             1132.693\n",
      "Skew:                           0.574   Prob(JB):                    1.09e-246\n",
      "Kurtosis:                       2.712   Cond. No.                         14.6\n",
      "==============================================================================\n",
      "\n",
      "Warnings:\n",
      "[1] Standard Errors assume that the covariance matrix of the errors is correctly specified.\n",
      "price~bathrooms\n",
      "{0.1838704750856336, 0.0, 'bathrooms', 219664.25203536128, 120506.22023645545}\n",
      "                            OLS Regression Results                            \n",
      "==============================================================================\n",
      "Dep. Variable:                  price   R-squared:                       0.184\n",
      "Model:                            OLS   Adj. R-squared:                  0.184\n",
      "Method:                 Least Squares   F-statistic:                     4369.\n",
      "Date:                Sat, 15 Feb 2020   Prob (F-statistic):               0.00\n",
      "Time:                        21:05:32   Log-Likelihood:            -2.6174e+05\n",
      "No. Observations:               19394   AIC:                         5.235e+05\n",
      "Df Residuals:                   19392   BIC:                         5.235e+05\n",
      "Df Model:                           1                                         \n",
      "Covariance Type:            nonrobust                                         \n",
      "==============================================================================\n",
      "                 coef    std err          t      P>|t|      [0.025      0.975]\n",
      "------------------------------------------------------------------------------\n",
      "Intercept   2.197e+05   3911.144     56.164      0.000    2.12e+05    2.27e+05\n",
      "bathrooms   1.205e+05   1823.147     66.098      0.000    1.17e+05    1.24e+05\n",
      "==============================================================================\n",
      "Omnibus:                     1003.970   Durbin-Watson:                   1.962\n",
      "Prob(Omnibus):                  0.000   Jarque-Bera (JB):             1153.548\n",
      "Skew:                           0.591   Prob(JB):                    3.24e-251\n",
      "Kurtosis:                       2.823   Cond. No.                         7.96\n",
      "==============================================================================\n",
      "\n",
      "Warnings:\n",
      "[1] Standard Errors assume that the covariance matrix of the errors is correctly specified.\n",
      "price~sqft_living\n",
      "{0.3582009315703163, 0.0, 155086.1284263539, 'sqft_living', 159.83678695435134}\n",
      "                            OLS Regression Results                            \n",
      "==============================================================================\n",
      "Dep. Variable:                  price   R-squared:                       0.358\n",
      "Model:                            OLS   Adj. R-squared:                  0.358\n",
      "Method:                 Least Squares   F-statistic:                 1.082e+04\n",
      "Date:                Sat, 15 Feb 2020   Prob (F-statistic):               0.00\n",
      "Time:                        21:05:32   Log-Likelihood:            -2.5941e+05\n",
      "No. Observations:               19394   AIC:                         5.188e+05\n",
      "Df Residuals:                   19392   BIC:                         5.188e+05\n",
      "Df Model:                           1                                         \n",
      "Covariance Type:            nonrobust                                         \n",
      "===============================================================================\n",
      "                  coef    std err          t      P>|t|      [0.025      0.975]\n",
      "-------------------------------------------------------------------------------\n",
      "Intercept    1.551e+05   3176.499     48.823      0.000    1.49e+05    1.61e+05\n",
      "sqft_living   159.8368      1.536    104.034      0.000     156.825     162.848\n",
      "==============================================================================\n",
      "Omnibus:                      650.845   Durbin-Watson:                   1.970\n",
      "Prob(Omnibus):                  0.000   Jarque-Bera (JB):              716.582\n",
      "Skew:                           0.469   Prob(JB):                    2.49e-156\n",
      "Kurtosis:                       2.914   Cond. No.                     5.87e+03\n",
      "==============================================================================\n",
      "\n",
      "Warnings:\n",
      "[1] Standard Errors assume that the covariance matrix of the errors is correctly specified.\n",
      "[2] The condition number is large, 5.87e+03. This might indicate that there are\n",
      "strong multicollinearity or other numerical problems.\n",
      "price~sqft_lot\n",
      "{0.010134924687428604, 1.8471611493903102, 446220.54207618337, 'sqft_lot', 7.210484198979256e-45}\n",
      "                            OLS Regression Results                            \n",
      "==============================================================================\n",
      "Dep. Variable:                  price   R-squared:                       0.010\n",
      "Model:                            OLS   Adj. R-squared:                  0.010\n",
      "Method:                 Least Squares   F-statistic:                     198.5\n",
      "Date:                Sat, 15 Feb 2020   Prob (F-statistic):           7.21e-45\n",
      "Time:                        21:05:32   Log-Likelihood:            -2.6361e+05\n",
      "No. Observations:               19394   AIC:                         5.272e+05\n",
      "Df Residuals:                   19392   BIC:                         5.272e+05\n",
      "Df Model:                           1                                         \n",
      "Covariance Type:            nonrobust                                         \n",
      "==============================================================================\n",
      "                 coef    std err          t      P>|t|      [0.025      0.975]\n",
      "------------------------------------------------------------------------------\n",
      "Intercept   4.462e+05   1894.074    235.588      0.000    4.43e+05     4.5e+05\n",
      "sqft_lot       1.8472      0.131     14.091      0.000       1.590       2.104\n",
      "==============================================================================\n",
      "Omnibus:                     1164.389   Durbin-Watson:                   1.961\n",
      "Prob(Omnibus):                  0.000   Jarque-Bera (JB):             1319.051\n",
      "Skew:                           0.621   Prob(JB):                    3.73e-287\n",
      "Kurtosis:                       2.696   Cond. No.                     1.97e+04\n",
      "==============================================================================\n",
      "\n",
      "Warnings:\n",
      "[1] Standard Errors assume that the covariance matrix of the errors is correctly specified.\n",
      "[2] The condition number is large, 1.97e+04. This might indicate that there are\n",
      "strong multicollinearity or other numerical problems.\n",
      "price~floors\n",
      "{0.0697747179854421, 'floors', 95532.69289124399, 323737.2186638076, 5.842106353421391e-307}\n",
      "                            OLS Regression Results                            \n",
      "==============================================================================\n",
      "Dep. Variable:                  price   R-squared:                       0.070\n",
      "Model:                            OLS   Adj. R-squared:                  0.070\n",
      "Method:                 Least Squares   F-statistic:                     1455.\n",
      "Date:                Sat, 15 Feb 2020   Prob (F-statistic):          5.84e-307\n",
      "Time:                        21:05:32   Log-Likelihood:            -2.6301e+05\n",
      "No. Observations:               19394   AIC:                         5.260e+05\n",
      "Df Residuals:                   19392   BIC:                         5.260e+05\n",
      "Df Model:                           1                                         \n",
      "Covariance Type:            nonrobust                                         \n",
      "==============================================================================\n",
      "                 coef    std err          t      P>|t|      [0.025      0.975]\n",
      "------------------------------------------------------------------------------\n",
      "Intercept   3.237e+05   3925.383     82.473      0.000    3.16e+05    3.31e+05\n",
      "floors      9.553e+04   2504.873     38.139      0.000    9.06e+04       1e+05\n",
      "==============================================================================\n",
      "Omnibus:                     1176.327   Durbin-Watson:                   1.978\n",
      "Prob(Omnibus):                  0.000   Jarque-Bera (JB):             1351.043\n",
      "Skew:                           0.632   Prob(JB):                    4.21e-294\n",
      "Kurtosis:                       2.724   Cond. No.                         6.26\n",
      "==============================================================================\n",
      "\n",
      "Warnings:\n",
      "[1] Standard Errors assume that the covariance matrix of the errors is correctly specified.\n",
      "price~waterfront\n",
      "{0.0025053924935311, 3.0686186889726937e-12, 'waterfront', 200247.00411008074, 463869.30023775075}\n",
      "                            OLS Regression Results                            \n",
      "==============================================================================\n",
      "Dep. Variable:                  price   R-squared:                       0.003\n",
      "Model:                            OLS   Adj. R-squared:                  0.002\n",
      "Method:                 Least Squares   F-statistic:                     48.71\n",
      "Date:                Sat, 15 Feb 2020   Prob (F-statistic):           3.07e-12\n",
      "Time:                        21:05:32   Log-Likelihood:            -2.6369e+05\n",
      "No. Observations:               19394   AIC:                         5.274e+05\n",
      "Df Residuals:                   19392   BIC:                         5.274e+05\n",
      "Df Model:                           1                                         \n",
      "Covariance Type:            nonrobust                                         \n",
      "==============================================================================\n",
      "                 coef    std err          t      P>|t|      [0.025      0.975]\n",
      "------------------------------------------------------------------------------\n",
      "Intercept   4.639e+05   1397.389    331.954      0.000    4.61e+05    4.67e+05\n",
      "waterfront  2.002e+05   2.87e+04      6.979      0.000    1.44e+05    2.56e+05\n",
      "==============================================================================\n",
      "Omnibus:                     1195.836   Durbin-Watson:                   1.966\n",
      "Prob(Omnibus):                  0.000   Jarque-Bera (JB):             1361.938\n",
      "Skew:                           0.631   Prob(JB):                    1.82e-296\n",
      "Kurtosis:                       2.696   Cond. No.                         20.6\n",
      "==============================================================================\n",
      "\n",
      "Warnings:\n",
      "[1] Standard Errors assume that the covariance matrix of the errors is correctly specified.\n",
      "price~view\n"
     ]
    },
    {
     "name": "stdout",
     "output_type": "stream",
     "text": [
      "{0.0466952862538883, 1.1323642050374711e-203, 453590.33183655166, 'view', 69753.06868291706}\n",
      "                            OLS Regression Results                            \n",
      "==============================================================================\n",
      "Dep. Variable:                  price   R-squared:                       0.047\n",
      "Model:                            OLS   Adj. R-squared:                  0.047\n",
      "Method:                 Least Squares   F-statistic:                     949.9\n",
      "Date:                Sat, 15 Feb 2020   Prob (F-statistic):          1.13e-203\n",
      "Time:                        21:05:32   Log-Likelihood:            -2.6325e+05\n",
      "No. Observations:               19394   AIC:                         5.265e+05\n",
      "Df Residuals:                   19392   BIC:                         5.265e+05\n",
      "Df Model:                           1                                         \n",
      "Covariance Type:            nonrobust                                         \n",
      "==============================================================================\n",
      "                 coef    std err          t      P>|t|      [0.025      0.975]\n",
      "------------------------------------------------------------------------------\n",
      "Intercept   4.536e+05   1408.373    322.067      0.000    4.51e+05    4.56e+05\n",
      "view        6.975e+04   2263.244     30.820      0.000    6.53e+04    7.42e+04\n",
      "==============================================================================\n",
      "Omnibus:                     1137.482   Durbin-Watson:                   1.960\n",
      "Prob(Omnibus):                  0.000   Jarque-Bera (JB):             1320.349\n",
      "Skew:                           0.629   Prob(JB):                    1.95e-287\n",
      "Kurtosis:                       2.776   Cond. No.                         1.72\n",
      "==============================================================================\n",
      "\n",
      "Warnings:\n",
      "[1] Standard Errors assume that the covariance matrix of the errors is correctly specified.\n",
      "price~condition\n",
      "{0.0013113068743142442, 427114.7152370989, 4.5520081535208845e-07, 10925.112858292654, 'condition'}\n",
      "                            OLS Regression Results                            \n",
      "==============================================================================\n",
      "Dep. Variable:                  price   R-squared:                       0.001\n",
      "Model:                            OLS   Adj. R-squared:                  0.001\n",
      "Method:                 Least Squares   F-statistic:                     25.46\n",
      "Date:                Sat, 15 Feb 2020   Prob (F-statistic):           4.55e-07\n",
      "Time:                        21:05:32   Log-Likelihood:            -2.6370e+05\n",
      "No. Observations:               19394   AIC:                         5.274e+05\n",
      "Df Residuals:                   19392   BIC:                         5.274e+05\n",
      "Df Model:                           1                                         \n",
      "Covariance Type:            nonrobust                                         \n",
      "==============================================================================\n",
      "                 coef    std err          t      P>|t|      [0.025      0.975]\n",
      "------------------------------------------------------------------------------\n",
      "Intercept   4.271e+05   7509.024     56.880      0.000    4.12e+05    4.42e+05\n",
      "condition   1.093e+04   2165.098      5.046      0.000    6681.334    1.52e+04\n",
      "==============================================================================\n",
      "Omnibus:                     1189.936   Durbin-Watson:                   1.966\n",
      "Prob(Omnibus):                  0.000   Jarque-Bera (JB):             1354.993\n",
      "Skew:                           0.630   Prob(JB):                    5.85e-295\n",
      "Kurtosis:                       2.698   Cond. No.                         20.1\n",
      "==============================================================================\n",
      "\n",
      "Warnings:\n",
      "[1] Standard Errors assume that the covariance matrix of the errors is correctly specified.\n",
      "price~grade\n",
      "{0.3732999974198974, 0.0, 'grade', 119470.27904529023, -430925.13268073206}\n",
      "                            OLS Regression Results                            \n",
      "==============================================================================\n",
      "Dep. Variable:                  price   R-squared:                       0.373\n",
      "Model:                            OLS   Adj. R-squared:                  0.373\n",
      "Method:                 Least Squares   F-statistic:                 1.155e+04\n",
      "Date:                Sat, 15 Feb 2020   Prob (F-statistic):               0.00\n",
      "Time:                        21:05:32   Log-Likelihood:            -2.5918e+05\n",
      "No. Observations:               19394   AIC:                         5.184e+05\n",
      "Df Residuals:                   19392   BIC:                         5.184e+05\n",
      "Df Model:                           1                                         \n",
      "Covariance Type:            nonrobust                                         \n",
      "==============================================================================\n",
      "                 coef    std err          t      P>|t|      [0.025      0.975]\n",
      "------------------------------------------------------------------------------\n",
      "Intercept  -4.309e+05   8403.111    -51.282      0.000   -4.47e+05   -4.14e+05\n",
      "grade       1.195e+05   1111.602    107.476      0.000    1.17e+05    1.22e+05\n",
      "==============================================================================\n",
      "Omnibus:                      907.067   Durbin-Watson:                   1.964\n",
      "Prob(Omnibus):                  0.000   Jarque-Bera (JB):             1038.048\n",
      "Skew:                           0.562   Prob(JB):                    3.90e-226\n",
      "Kurtosis:                       3.147   Cond. No.                         58.4\n",
      "==============================================================================\n",
      "\n",
      "Warnings:\n",
      "[1] Standard Errors assume that the covariance matrix of the errors is correctly specified.\n",
      "price~sqft_above\n",
      "{0.25414527157083366, 0.0, 227107.46233946364, 141.6396075522823, 'sqft_above'}\n",
      "                            OLS Regression Results                            \n",
      "==============================================================================\n",
      "Dep. Variable:                  price   R-squared:                       0.254\n",
      "Model:                            OLS   Adj. R-squared:                  0.254\n",
      "Method:                 Least Squares   F-statistic:                     6608.\n",
      "Date:                Sat, 15 Feb 2020   Prob (F-statistic):               0.00\n",
      "Time:                        21:05:32   Log-Likelihood:            -2.6087e+05\n",
      "No. Observations:               19394   AIC:                         5.217e+05\n",
      "Df Residuals:                   19392   BIC:                         5.218e+05\n",
      "Df Model:                           1                                         \n",
      "Covariance Type:            nonrobust                                         \n",
      "==============================================================================\n",
      "                 coef    std err          t      P>|t|      [0.025      0.975]\n",
      "------------------------------------------------------------------------------\n",
      "Intercept   2.271e+05   3158.188     71.911      0.000    2.21e+05    2.33e+05\n",
      "sqft_above   141.6396      1.742     81.288      0.000     138.224     145.055\n",
      "==============================================================================\n",
      "Omnibus:                      888.273   Durbin-Watson:                   1.975\n",
      "Prob(Omnibus):                  0.000   Jarque-Bera (JB):             1007.259\n",
      "Skew:                           0.553   Prob(JB):                    1.89e-219\n",
      "Kurtosis:                       2.851   Cond. No.                     4.74e+03\n",
      "==============================================================================\n",
      "\n",
      "Warnings:\n",
      "[1] Standard Errors assume that the covariance matrix of the errors is correctly specified.\n",
      "[2] The condition number is large, 4.74e+03. This might indicate that there are\n",
      "strong multicollinearity or other numerical problems.\n",
      "price~sqft_basement\n",
      "{0.046469500340906245, 1.1278606624760168e-202, 'sqft_basement', 106.6324946852408, 437228.7829403785}\n",
      "                            OLS Regression Results                            \n",
      "==============================================================================\n",
      "Dep. Variable:                  price   R-squared:                       0.046\n",
      "Model:                            OLS   Adj. R-squared:                  0.046\n",
      "Method:                 Least Squares   F-statistic:                     945.1\n",
      "Date:                Sat, 15 Feb 2020   Prob (F-statistic):          1.13e-202\n",
      "Time:                        21:05:32   Log-Likelihood:            -2.6325e+05\n",
      "No. Observations:               19394   AIC:                         5.265e+05\n",
      "Df Residuals:                   19392   BIC:                         5.265e+05\n",
      "Df Model:                           1                                         \n",
      "Covariance Type:            nonrobust                                         \n",
      "=================================================================================\n",
      "                    coef    std err          t      P>|t|      [0.025      0.975]\n",
      "---------------------------------------------------------------------------------\n",
      "Intercept      4.372e+05   1624.870    269.085      0.000    4.34e+05     4.4e+05\n",
      "sqft_basement   106.6325      3.469     30.742      0.000      99.834     113.431\n",
      "==============================================================================\n",
      "Omnibus:                     1234.800   Durbin-Watson:                   1.958\n",
      "Prob(Omnibus):                  0.000   Jarque-Bera (JB):             1467.354\n",
      "Skew:                           0.667   Prob(JB):                         0.00\n",
      "Kurtosis:                       2.813   Cond. No.                         558.\n",
      "==============================================================================\n",
      "\n",
      "Warnings:\n",
      "[1] Standard Errors assume that the covariance matrix of the errors is correctly specified.\n",
      "price~yr_built\n",
      "{0.002336817969406213, 322.02788553306596, 'yr_built', -170254.72771893535, 1.6332762894791785e-11}\n",
      "                            OLS Regression Results                            \n",
      "==============================================================================\n",
      "Dep. Variable:                  price   R-squared:                       0.002\n",
      "Model:                            OLS   Adj. R-squared:                  0.002\n",
      "Method:                 Least Squares   F-statistic:                     45.42\n",
      "Date:                Sat, 15 Feb 2020   Prob (F-statistic):           1.63e-11\n",
      "Time:                        21:05:32   Log-Likelihood:            -2.6369e+05\n",
      "No. Observations:               19394   AIC:                         5.274e+05\n",
      "Df Residuals:                   19392   BIC:                         5.274e+05\n",
      "Df Model:                           1                                         \n",
      "Covariance Type:            nonrobust                                         \n",
      "==============================================================================\n",
      "                 coef    std err          t      P>|t|      [0.025      0.975]\n",
      "------------------------------------------------------------------------------\n",
      "Intercept  -1.703e+05   9.42e+04     -1.808      0.071   -3.55e+05    1.43e+04\n",
      "yr_built     322.0279     47.782      6.740      0.000     228.372     415.684\n",
      "==============================================================================\n",
      "Omnibus:                     1233.341   Durbin-Watson:                   1.972\n",
      "Prob(Omnibus):                  0.000   Jarque-Bera (JB):             1409.775\n",
      "Skew:                           0.642   Prob(JB):                    7.44e-307\n",
      "Kurtosis:                       2.690   Cond. No.                     1.33e+05\n",
      "==============================================================================\n",
      "\n",
      "Warnings:\n",
      "[1] Standard Errors assume that the covariance matrix of the errors is correctly specified.\n",
      "[2] The condition number is large, 1.33e+05. This might indicate that there are\n",
      "strong multicollinearity or other numerical problems.\n",
      "price~yr_renovated\n"
     ]
    },
    {
     "name": "stdout",
     "output_type": "stream",
     "text": [
      "{0.0008117105863482132, 7.241500666896435e-05, 6.919416992107156, 'yr_renovated', 461502.81747618655}\n",
      "                            OLS Regression Results                            \n",
      "==============================================================================\n",
      "Dep. Variable:                  price   R-squared:                       0.001\n",
      "Model:                            OLS   Adj. R-squared:                  0.001\n",
      "Method:                 Least Squares   F-statistic:                     15.75\n",
      "Date:                Sat, 15 Feb 2020   Prob (F-statistic):           7.24e-05\n",
      "Time:                        21:05:32   Log-Likelihood:            -2.6371e+05\n",
      "No. Observations:               19394   AIC:                         5.274e+05\n",
      "Df Residuals:                   19392   BIC:                         5.274e+05\n",
      "Df Model:                           1                                         \n",
      "Covariance Type:            nonrobust                                         \n",
      "================================================================================\n",
      "                   coef    std err          t      P>|t|      [0.025      0.975]\n",
      "--------------------------------------------------------------------------------\n",
      "Intercept     4.615e+05   1569.675    294.012      0.000    4.58e+05    4.65e+05\n",
      "yr_renovated     6.9194      1.743      3.969      0.000       3.502      10.337\n",
      "==============================================================================\n",
      "Omnibus:                     1195.765   Durbin-Watson:                   1.968\n",
      "Prob(Omnibus):                  0.000   Jarque-Bera (JB):             1360.705\n",
      "Skew:                           0.631   Prob(JB):                    3.36e-296\n",
      "Kurtosis:                       2.694   Cond. No.                     1.01e+03\n",
      "==============================================================================\n",
      "\n",
      "Warnings:\n",
      "[1] Standard Errors assume that the covariance matrix of the errors is correctly specified.\n",
      "[2] The condition number is large, 1.01e+03. This might indicate that there are\n",
      "strong multicollinearity or other numerical problems.\n",
      "price~zipcode\n",
      "{0.00013461300511152796, 0.1061566935159687, 'zipcode', 4602226.5392820705, -42.18911659822807}\n",
      "                            OLS Regression Results                            \n",
      "==============================================================================\n",
      "Dep. Variable:                  price   R-squared:                       0.000\n",
      "Model:                            OLS   Adj. R-squared:                  0.000\n",
      "Method:                 Least Squares   F-statistic:                     2.611\n",
      "Date:                Sat, 15 Feb 2020   Prob (F-statistic):              0.106\n",
      "Time:                        21:05:32   Log-Likelihood:            -2.6371e+05\n",
      "No. Observations:               19394   AIC:                         5.274e+05\n",
      "Df Residuals:                   19392   BIC:                         5.274e+05\n",
      "Df Model:                           1                                         \n",
      "Covariance Type:            nonrobust                                         \n",
      "==============================================================================\n",
      "                 coef    std err          t      P>|t|      [0.025      0.975]\n",
      "------------------------------------------------------------------------------\n",
      "Intercept   4.602e+06   2.56e+06      1.797      0.072   -4.17e+05    9.62e+06\n",
      "zipcode      -42.1891     26.111     -1.616      0.106     -93.368       8.990\n",
      "==============================================================================\n",
      "Omnibus:                     1197.076   Durbin-Watson:                   1.967\n",
      "Prob(Omnibus):                  0.000   Jarque-Bera (JB):             1361.560\n",
      "Skew:                           0.631   Prob(JB):                    2.19e-296\n",
      "Kurtosis:                       2.693   Cond. No.                     1.80e+08\n",
      "==============================================================================\n",
      "\n",
      "Warnings:\n",
      "[1] Standard Errors assume that the covariance matrix of the errors is correctly specified.\n",
      "[2] The condition number is large, 1.8e+08. This might indicate that there are\n",
      "strong multicollinearity or other numerical problems.\n",
      "price~lat\n",
      "{0.2092099808747896, 0.0, 633130.5656918199, 'lat', -29646082.33386454}\n",
      "                            OLS Regression Results                            \n",
      "==============================================================================\n",
      "Dep. Variable:                  price   R-squared:                       0.209\n",
      "Model:                            OLS   Adj. R-squared:                  0.209\n",
      "Method:                 Least Squares   F-statistic:                     5130.\n",
      "Date:                Sat, 15 Feb 2020   Prob (F-statistic):               0.00\n",
      "Time:                        21:05:32   Log-Likelihood:            -2.6144e+05\n",
      "No. Observations:               19394   AIC:                         5.229e+05\n",
      "Df Residuals:                   19392   BIC:                         5.229e+05\n",
      "Df Model:                           1                                         \n",
      "Covariance Type:            nonrobust                                         \n",
      "==============================================================================\n",
      "                 coef    std err          t      P>|t|      [0.025      0.975]\n",
      "------------------------------------------------------------------------------\n",
      "Intercept  -2.965e+07    4.2e+05    -70.521      0.000   -3.05e+07   -2.88e+07\n",
      "lat         6.331e+05   8839.371     71.626      0.000    6.16e+05     6.5e+05\n",
      "==============================================================================\n",
      "Omnibus:                     1225.146   Durbin-Watson:                   1.969\n",
      "Prob(Omnibus):                  0.000   Jarque-Bera (JB):             1470.820\n",
      "Skew:                           0.672   Prob(JB):                         0.00\n",
      "Kurtosis:                       3.116   Cond. No.                     1.61e+04\n",
      "==============================================================================\n",
      "\n",
      "Warnings:\n",
      "[1] Standard Errors assume that the covariance matrix of the errors is correctly specified.\n",
      "[2] The condition number is large, 1.61e+04. This might indicate that there are\n",
      "strong multicollinearity or other numerical problems.\n",
      "price~long\n",
      "{0.004368568741607848, 3.140527692068375e-20, 11751051.893605009, 'long', 92349.56232311759}\n",
      "                            OLS Regression Results                            \n",
      "==============================================================================\n",
      "Dep. Variable:                  price   R-squared:                       0.004\n",
      "Model:                            OLS   Adj. R-squared:                  0.004\n",
      "Method:                 Least Squares   F-statistic:                     85.09\n",
      "Date:                Sat, 15 Feb 2020   Prob (F-statistic):           3.14e-20\n",
      "Time:                        21:05:32   Log-Likelihood:            -2.6367e+05\n",
      "No. Observations:               19394   AIC:                         5.273e+05\n",
      "Df Residuals:                   19392   BIC:                         5.274e+05\n",
      "Df Model:                           1                                         \n",
      "Covariance Type:            nonrobust                                         \n",
      "==============================================================================\n",
      "                 coef    std err          t      P>|t|      [0.025      0.975]\n",
      "------------------------------------------------------------------------------\n",
      "Intercept   1.175e+07   1.22e+06      9.604      0.000    9.35e+06    1.41e+07\n",
      "long        9.235e+04      1e+04      9.224      0.000    7.27e+04    1.12e+05\n",
      "==============================================================================\n",
      "Omnibus:                     1192.006   Durbin-Watson:                   1.966\n",
      "Prob(Omnibus):                  0.000   Jarque-Bera (JB):             1363.328\n",
      "Skew:                           0.633   Prob(JB):                    9.06e-297\n",
      "Kurtosis:                       2.707   Cond. No.                     1.07e+05\n",
      "==============================================================================\n",
      "\n",
      "Warnings:\n",
      "[1] Standard Errors assume that the covariance matrix of the errors is correctly specified.\n",
      "[2] The condition number is large, 1.07e+05. This might indicate that there are\n",
      "strong multicollinearity or other numerical problems.\n",
      "price~sqft_living15\n",
      "{0.2979889057827456, 'sqft_living15', 125057.92861511752, 0.0, 178.84475293774122}\n",
      "                            OLS Regression Results                            \n",
      "==============================================================================\n",
      "Dep. Variable:                  price   R-squared:                       0.298\n",
      "Model:                            OLS   Adj. R-squared:                  0.298\n",
      "Method:                 Least Squares   F-statistic:                     8231.\n",
      "Date:                Sat, 15 Feb 2020   Prob (F-statistic):               0.00\n",
      "Time:                        21:05:32   Log-Likelihood:            -2.6028e+05\n",
      "No. Observations:               19394   AIC:                         5.206e+05\n",
      "Df Residuals:                   19392   BIC:                         5.206e+05\n",
      "Df Model:                           1                                         \n",
      "Covariance Type:            nonrobust                                         \n",
      "=================================================================================\n",
      "                    coef    std err          t      P>|t|      [0.025      0.975]\n",
      "---------------------------------------------------------------------------------\n",
      "Intercept      1.251e+05   3918.638     31.914      0.000    1.17e+05    1.33e+05\n",
      "sqft_living15   178.8448      1.971     90.728      0.000     174.981     182.709\n",
      "==============================================================================\n",
      "Omnibus:                     1010.515   Durbin-Watson:                   1.962\n",
      "Prob(Omnibus):                  0.000   Jarque-Bera (JB):             1173.891\n",
      "Skew:                           0.597   Prob(JB):                    1.24e-255\n",
      "Kurtosis:                       3.167   Cond. No.                     6.65e+03\n",
      "==============================================================================\n",
      "\n",
      "Warnings:\n",
      "[1] Standard Errors assume that the covariance matrix of the errors is correctly specified.\n",
      "[2] The condition number is large, 6.65e+03. This might indicate that there are\n",
      "strong multicollinearity or other numerical problems.\n",
      "price~sqft_lot15\n",
      "{0.00723489420690282, 1.7873069754380548, 447877.6980644296, 1.77455395500482e-32, 'sqft_lot15'}\n",
      "                            OLS Regression Results                            \n",
      "==============================================================================\n",
      "Dep. Variable:                  price   R-squared:                       0.007\n",
      "Model:                            OLS   Adj. R-squared:                  0.007\n",
      "Method:                 Least Squares   F-statistic:                     141.3\n",
      "Date:                Sat, 15 Feb 2020   Prob (F-statistic):           1.77e-32\n",
      "Time:                        21:05:32   Log-Likelihood:            -2.6364e+05\n",
      "No. Observations:               19394   AIC:                         5.273e+05\n",
      "Df Residuals:                   19392   BIC:                         5.273e+05\n",
      "Df Model:                           1                                         \n",
      "Covariance Type:            nonrobust                                         \n",
      "==============================================================================\n",
      "                 coef    std err          t      P>|t|      [0.025      0.975]\n",
      "------------------------------------------------------------------------------\n",
      "Intercept   4.479e+05   1964.048    228.038      0.000    4.44e+05    4.52e+05\n",
      "sqft_lot15     1.7873      0.150     11.888      0.000       1.493       2.082\n",
      "==============================================================================\n",
      "Omnibus:                     1169.128   Durbin-Watson:                   1.962\n",
      "Prob(Omnibus):                  0.000   Jarque-Bera (JB):             1323.511\n",
      "Skew:                           0.621   Prob(JB):                    4.01e-288\n",
      "Kurtosis:                       2.693   Cond. No.                     1.84e+04\n",
      "==============================================================================\n",
      "\n",
      "Warnings:\n",
      "[1] Standard Errors assume that the covariance matrix of the errors is correctly specified.\n",
      "[2] The condition number is large, 1.84e+04. This might indicate that there are\n",
      "strong multicollinearity or other numerical problems.\n"
     ]
    }
   ],
   "source": [
    "# OLS Regression\n",
    "\n",
    "#It didnt seem to work!\n",
    "\n",
    "import statsmodels.api as sm\n",
    "import statsmodels.formula.api as smf\n",
    "\n",
    "col_names = df.describe().columns #What does this?\n",
    "\n",
    "results = [['ind_var', 'r_squared', 'intercept', 'slope', 'p_value ']] #creating an array of results we care about\n",
    "\n",
    "for idx, val in enumerate(col_names):\n",
    "    print('price~' + val)\n",
    "    f = 'price~' + val\n",
    "    model = smf.ols(formula=f, data=df).fit()\n",
    "    X_new = pd.DataFrame({val: [df[val].min(), df[val].max()]});\n",
    "    preds = model.predict(X_new)\n",
    "    results.append({val, model.rsquared, model.params[0], model.params[1], model.pvalues[1]})\n",
    "\n",
    "    print(results[idx+1])\n",
    "    print(model.summary())"
   ]
  },
  {
   "cell_type": "markdown",
   "metadata": {},
   "source": [
    "# Numerical Only Regresision"
   ]
  },
  {
   "cell_type": "code",
   "execution_count": 17,
   "metadata": {},
   "outputs": [
    {
     "data": {
      "text/html": [
       "<div>\n",
       "<style scoped>\n",
       "    .dataframe tbody tr th:only-of-type {\n",
       "        vertical-align: middle;\n",
       "    }\n",
       "\n",
       "    .dataframe tbody tr th {\n",
       "        vertical-align: top;\n",
       "    }\n",
       "\n",
       "    .dataframe thead th {\n",
       "        text-align: right;\n",
       "    }\n",
       "</style>\n",
       "<table border=\"1\" class=\"dataframe\">\n",
       "  <thead>\n",
       "    <tr style=\"text-align: right;\">\n",
       "      <th></th>\n",
       "      <th>price</th>\n",
       "      <th>bedrooms</th>\n",
       "      <th>bathrooms</th>\n",
       "      <th>sqft_living</th>\n",
       "      <th>sqft_lot</th>\n",
       "      <th>floors</th>\n",
       "      <th>waterfront</th>\n",
       "      <th>view</th>\n",
       "      <th>condition</th>\n",
       "      <th>grade</th>\n",
       "      <th>sqft_above</th>\n",
       "      <th>sqft_basement</th>\n",
       "      <th>yr_built</th>\n",
       "      <th>yr_renovated</th>\n",
       "      <th>zipcode</th>\n",
       "      <th>lat</th>\n",
       "      <th>long</th>\n",
       "      <th>sqft_living15</th>\n",
       "      <th>sqft_lot15</th>\n",
       "    </tr>\n",
       "  </thead>\n",
       "  <tbody>\n",
       "    <tr>\n",
       "      <td>count</td>\n",
       "      <td>19394.000000</td>\n",
       "      <td>19394.000000</td>\n",
       "      <td>19394.000000</td>\n",
       "      <td>19394.000000</td>\n",
       "      <td>19394.000000</td>\n",
       "      <td>19394.000000</td>\n",
       "      <td>19394.000000</td>\n",
       "      <td>19394.000000</td>\n",
       "      <td>19394.000000</td>\n",
       "      <td>19394.000000</td>\n",
       "      <td>19394.000000</td>\n",
       "      <td>19394.000000</td>\n",
       "      <td>19394.000000</td>\n",
       "      <td>19394.000000</td>\n",
       "      <td>19394.000000</td>\n",
       "      <td>19394.000000</td>\n",
       "      <td>19394.000000</td>\n",
       "      <td>19394.000000</td>\n",
       "      <td>19394.000000</td>\n",
       "    </tr>\n",
       "    <tr>\n",
       "      <td>mean</td>\n",
       "      <td>464344.259616</td>\n",
       "      <td>3.314169</td>\n",
       "      <td>2.030435</td>\n",
       "      <td>1934.837011</td>\n",
       "      <td>9811.660204</td>\n",
       "      <td>1.471821</td>\n",
       "      <td>0.002372</td>\n",
       "      <td>0.154171</td>\n",
       "      <td>3.407703</td>\n",
       "      <td>7.493658</td>\n",
       "      <td>1674.932608</td>\n",
       "      <td>254.289058</td>\n",
       "      <td>1970.633650</td>\n",
       "      <td>410.647623</td>\n",
       "      <td>98079.377179</td>\n",
       "      <td>47.558005</td>\n",
       "      <td>-122.217229</td>\n",
       "      <td>1897.099722</td>\n",
       "      <td>9213.057286</td>\n",
       "    </tr>\n",
       "    <tr>\n",
       "      <td>std</td>\n",
       "      <td>194611.680215</td>\n",
       "      <td>0.865549</td>\n",
       "      <td>0.692493</td>\n",
       "      <td>728.711322</td>\n",
       "      <td>10606.555760</td>\n",
       "      <td>0.538104</td>\n",
       "      <td>0.048645</td>\n",
       "      <td>0.602896</td>\n",
       "      <td>0.645053</td>\n",
       "      <td>0.995263</td>\n",
       "      <td>692.668128</td>\n",
       "      <td>393.426251</td>\n",
       "      <td>29.213787</td>\n",
       "      <td>801.308969</td>\n",
       "      <td>53.519492</td>\n",
       "      <td>0.140594</td>\n",
       "      <td>0.139285</td>\n",
       "      <td>594.008619</td>\n",
       "      <td>9261.596249</td>\n",
       "    </tr>\n",
       "    <tr>\n",
       "      <td>min</td>\n",
       "      <td>78000.000000</td>\n",
       "      <td>1.000000</td>\n",
       "      <td>0.500000</td>\n",
       "      <td>370.000000</td>\n",
       "      <td>520.000000</td>\n",
       "      <td>1.000000</td>\n",
       "      <td>0.000000</td>\n",
       "      <td>0.000000</td>\n",
       "      <td>1.000000</td>\n",
       "      <td>4.000000</td>\n",
       "      <td>370.000000</td>\n",
       "      <td>0.000000</td>\n",
       "      <td>1900.000000</td>\n",
       "      <td>0.000000</td>\n",
       "      <td>98001.000000</td>\n",
       "      <td>47.155900</td>\n",
       "      <td>-122.512000</td>\n",
       "      <td>460.000000</td>\n",
       "      <td>651.000000</td>\n",
       "    </tr>\n",
       "    <tr>\n",
       "      <td>25%</td>\n",
       "      <td>311000.000000</td>\n",
       "      <td>3.000000</td>\n",
       "      <td>1.500000</td>\n",
       "      <td>1390.000000</td>\n",
       "      <td>5000.000000</td>\n",
       "      <td>1.000000</td>\n",
       "      <td>0.000000</td>\n",
       "      <td>0.000000</td>\n",
       "      <td>3.000000</td>\n",
       "      <td>7.000000</td>\n",
       "      <td>1160.000000</td>\n",
       "      <td>0.000000</td>\n",
       "      <td>1951.000000</td>\n",
       "      <td>0.000000</td>\n",
       "      <td>98033.000000</td>\n",
       "      <td>47.462900</td>\n",
       "      <td>-122.331000</td>\n",
       "      <td>1460.000000</td>\n",
       "      <td>5000.000000</td>\n",
       "    </tr>\n",
       "    <tr>\n",
       "      <td>50%</td>\n",
       "      <td>430000.000000</td>\n",
       "      <td>3.000000</td>\n",
       "      <td>2.000000</td>\n",
       "      <td>1830.000000</td>\n",
       "      <td>7390.000000</td>\n",
       "      <td>1.000000</td>\n",
       "      <td>0.000000</td>\n",
       "      <td>0.000000</td>\n",
       "      <td>3.000000</td>\n",
       "      <td>7.000000</td>\n",
       "      <td>1490.000000</td>\n",
       "      <td>0.000000</td>\n",
       "      <td>1974.000000</td>\n",
       "      <td>0.000000</td>\n",
       "      <td>98072.000000</td>\n",
       "      <td>47.567250</td>\n",
       "      <td>-122.240000</td>\n",
       "      <td>1780.000000</td>\n",
       "      <td>7475.000000</td>\n",
       "    </tr>\n",
       "    <tr>\n",
       "      <td>75%</td>\n",
       "      <td>589000.000000</td>\n",
       "      <td>4.000000</td>\n",
       "      <td>2.500000</td>\n",
       "      <td>2390.000000</td>\n",
       "      <td>9990.000000</td>\n",
       "      <td>2.000000</td>\n",
       "      <td>0.000000</td>\n",
       "      <td>0.000000</td>\n",
       "      <td>4.000000</td>\n",
       "      <td>8.000000</td>\n",
       "      <td>2050.000000</td>\n",
       "      <td>500.000000</td>\n",
       "      <td>1996.000000</td>\n",
       "      <td>0.000000</td>\n",
       "      <td>98118.000000</td>\n",
       "      <td>47.680800</td>\n",
       "      <td>-122.129000</td>\n",
       "      <td>2240.000000</td>\n",
       "      <td>9638.750000</td>\n",
       "    </tr>\n",
       "    <tr>\n",
       "      <td>max</td>\n",
       "      <td>999999.000000</td>\n",
       "      <td>7.000000</td>\n",
       "      <td>5.750000</td>\n",
       "      <td>4940.000000</td>\n",
       "      <td>99916.000000</td>\n",
       "      <td>3.500000</td>\n",
       "      <td>1.000000</td>\n",
       "      <td>4.000000</td>\n",
       "      <td>5.000000</td>\n",
       "      <td>11.000000</td>\n",
       "      <td>4480.000000</td>\n",
       "      <td>1990.000000</td>\n",
       "      <td>2015.000000</td>\n",
       "      <td>2015.000000</td>\n",
       "      <td>98199.000000</td>\n",
       "      <td>47.777600</td>\n",
       "      <td>-121.315000</td>\n",
       "      <td>4495.000000</td>\n",
       "      <td>99316.000000</td>\n",
       "    </tr>\n",
       "  </tbody>\n",
       "</table>\n",
       "</div>"
      ],
      "text/plain": [
       "               price      bedrooms     bathrooms   sqft_living      sqft_lot  \\\n",
       "count   19394.000000  19394.000000  19394.000000  19394.000000  19394.000000   \n",
       "mean   464344.259616      3.314169      2.030435   1934.837011   9811.660204   \n",
       "std    194611.680215      0.865549      0.692493    728.711322  10606.555760   \n",
       "min     78000.000000      1.000000      0.500000    370.000000    520.000000   \n",
       "25%    311000.000000      3.000000      1.500000   1390.000000   5000.000000   \n",
       "50%    430000.000000      3.000000      2.000000   1830.000000   7390.000000   \n",
       "75%    589000.000000      4.000000      2.500000   2390.000000   9990.000000   \n",
       "max    999999.000000      7.000000      5.750000   4940.000000  99916.000000   \n",
       "\n",
       "             floors    waterfront          view     condition         grade  \\\n",
       "count  19394.000000  19394.000000  19394.000000  19394.000000  19394.000000   \n",
       "mean       1.471821      0.002372      0.154171      3.407703      7.493658   \n",
       "std        0.538104      0.048645      0.602896      0.645053      0.995263   \n",
       "min        1.000000      0.000000      0.000000      1.000000      4.000000   \n",
       "25%        1.000000      0.000000      0.000000      3.000000      7.000000   \n",
       "50%        1.000000      0.000000      0.000000      3.000000      7.000000   \n",
       "75%        2.000000      0.000000      0.000000      4.000000      8.000000   \n",
       "max        3.500000      1.000000      4.000000      5.000000     11.000000   \n",
       "\n",
       "         sqft_above  sqft_basement      yr_built  yr_renovated       zipcode  \\\n",
       "count  19394.000000   19394.000000  19394.000000  19394.000000  19394.000000   \n",
       "mean    1674.932608     254.289058   1970.633650    410.647623  98079.377179   \n",
       "std      692.668128     393.426251     29.213787    801.308969     53.519492   \n",
       "min      370.000000       0.000000   1900.000000      0.000000  98001.000000   \n",
       "25%     1160.000000       0.000000   1951.000000      0.000000  98033.000000   \n",
       "50%     1490.000000       0.000000   1974.000000      0.000000  98072.000000   \n",
       "75%     2050.000000     500.000000   1996.000000      0.000000  98118.000000   \n",
       "max     4480.000000    1990.000000   2015.000000   2015.000000  98199.000000   \n",
       "\n",
       "                lat          long  sqft_living15    sqft_lot15  \n",
       "count  19394.000000  19394.000000   19394.000000  19394.000000  \n",
       "mean      47.558005   -122.217229    1897.099722   9213.057286  \n",
       "std        0.140594      0.139285     594.008619   9261.596249  \n",
       "min       47.155900   -122.512000     460.000000    651.000000  \n",
       "25%       47.462900   -122.331000    1460.000000   5000.000000  \n",
       "50%       47.567250   -122.240000    1780.000000   7475.000000  \n",
       "75%       47.680800   -122.129000    2240.000000   9638.750000  \n",
       "max       47.777600   -121.315000    4495.000000  99316.000000  "
      ]
     },
     "execution_count": 17,
     "metadata": {},
     "output_type": "execute_result"
    }
   ],
   "source": [
    "# Numerical Only Regression\n",
    "\n",
    "df.describe()"
   ]
  },
  {
   "cell_type": "code",
   "execution_count": 18,
   "metadata": {},
   "outputs": [],
   "source": [
    "outcome  = 'price'\n",
    "\n",
    "x_cols = [ 'bedrooms', 'bathrooms', 'sqft_living',\n",
    "       'floors','sqft_above',\n",
    "       'sqft_basement', 'yr_built', 'yr_renovated',\n",
    "       'sqft_living15', 'sqft_lot15']"
   ]
  },
  {
   "cell_type": "code",
   "execution_count": 19,
   "metadata": {},
   "outputs": [],
   "source": [
    "from statsmodels.formula.api import ols"
   ]
  },
  {
   "cell_type": "code",
   "execution_count": 20,
   "metadata": {},
   "outputs": [
    {
     "data": {
      "text/html": [
       "<table class=\"simpletable\">\n",
       "<caption>OLS Regression Results</caption>\n",
       "<tr>\n",
       "  <th>Dep. Variable:</th>          <td>price</td>      <th>  R-squared:         </th>  <td>   0.474</td>  \n",
       "</tr>\n",
       "<tr>\n",
       "  <th>Model:</th>                   <td>OLS</td>       <th>  Adj. R-squared:    </th>  <td>   0.473</td>  \n",
       "</tr>\n",
       "<tr>\n",
       "  <th>Method:</th>             <td>Least Squares</td>  <th>  F-statistic:       </th>  <td>   1744.</td>  \n",
       "</tr>\n",
       "<tr>\n",
       "  <th>Date:</th>             <td>Sat, 15 Feb 2020</td> <th>  Prob (F-statistic):</th>   <td>  0.00</td>   \n",
       "</tr>\n",
       "<tr>\n",
       "  <th>Time:</th>                 <td>21:05:38</td>     <th>  Log-Likelihood:    </th> <td>-2.5749e+05</td>\n",
       "</tr>\n",
       "<tr>\n",
       "  <th>No. Observations:</th>      <td> 19394</td>      <th>  AIC:               </th>  <td>5.150e+05</td> \n",
       "</tr>\n",
       "<tr>\n",
       "  <th>Df Residuals:</th>          <td> 19383</td>      <th>  BIC:               </th>  <td>5.151e+05</td> \n",
       "</tr>\n",
       "<tr>\n",
       "  <th>Df Model:</th>              <td>    10</td>      <th>                     </th>      <td> </td>     \n",
       "</tr>\n",
       "<tr>\n",
       "  <th>Covariance Type:</th>      <td>nonrobust</td>    <th>                     </th>      <td> </td>     \n",
       "</tr>\n",
       "</table>\n",
       "<table class=\"simpletable\">\n",
       "<tr>\n",
       "        <td></td>           <th>coef</th>     <th>std err</th>      <th>t</th>      <th>P>|t|</th>  <th>[0.025</th>    <th>0.975]</th>  \n",
       "</tr>\n",
       "<tr>\n",
       "  <th>Intercept</th>     <td> 4.557e+06</td> <td> 8.84e+04</td> <td>   51.549</td> <td> 0.000</td> <td> 4.38e+06</td> <td> 4.73e+06</td>\n",
       "</tr>\n",
       "<tr>\n",
       "  <th>bedrooms</th>      <td>-2.741e+04</td> <td> 1522.939</td> <td>  -17.997</td> <td> 0.000</td> <td>-3.04e+04</td> <td>-2.44e+04</td>\n",
       "</tr>\n",
       "<tr>\n",
       "  <th>bathrooms</th>     <td>  3.76e+04</td> <td> 2499.004</td> <td>   15.046</td> <td> 0.000</td> <td> 3.27e+04</td> <td> 4.25e+04</td>\n",
       "</tr>\n",
       "<tr>\n",
       "  <th>sqft_living</th>   <td>  127.3819</td> <td>   14.416</td> <td>    8.836</td> <td> 0.000</td> <td>   99.125</td> <td>  155.639</td>\n",
       "</tr>\n",
       "<tr>\n",
       "  <th>floors</th>        <td> 6.847e+04</td> <td> 2680.044</td> <td>   25.548</td> <td> 0.000</td> <td> 6.32e+04</td> <td> 7.37e+04</td>\n",
       "</tr>\n",
       "<tr>\n",
       "  <th>sqft_above</th>    <td>  -21.1353</td> <td>   14.386</td> <td>   -1.469</td> <td> 0.142</td> <td>  -49.332</td> <td>    7.062</td>\n",
       "</tr>\n",
       "<tr>\n",
       "  <th>sqft_basement</th> <td>    5.8403</td> <td>   14.301</td> <td>    0.408</td> <td> 0.683</td> <td>  -22.191</td> <td>   33.872</td>\n",
       "</tr>\n",
       "<tr>\n",
       "  <th>yr_built</th>      <td>-2323.4421</td> <td>   46.081</td> <td>  -50.421</td> <td> 0.000</td> <td>-2413.764</td> <td>-2233.120</td>\n",
       "</tr>\n",
       "<tr>\n",
       "  <th>yr_renovated</th>  <td>    1.2523</td> <td>    1.273</td> <td>    0.983</td> <td> 0.325</td> <td>   -1.244</td> <td>    3.748</td>\n",
       "</tr>\n",
       "<tr>\n",
       "  <th>sqft_living15</th> <td>  104.0305</td> <td>    2.708</td> <td>   38.411</td> <td> 0.000</td> <td>   98.722</td> <td>  109.339</td>\n",
       "</tr>\n",
       "<tr>\n",
       "  <th>sqft_lot15</th>    <td>   -1.1895</td> <td>    0.118</td> <td>  -10.090</td> <td> 0.000</td> <td>   -1.421</td> <td>   -0.958</td>\n",
       "</tr>\n",
       "</table>\n",
       "<table class=\"simpletable\">\n",
       "<tr>\n",
       "  <th>Omnibus:</th>       <td>360.699</td> <th>  Durbin-Watson:     </th> <td>   1.970</td>\n",
       "</tr>\n",
       "<tr>\n",
       "  <th>Prob(Omnibus):</th> <td> 0.000</td>  <th>  Jarque-Bera (JB):  </th> <td> 382.167</td>\n",
       "</tr>\n",
       "<tr>\n",
       "  <th>Skew:</th>          <td> 0.332</td>  <th>  Prob(JB):          </th> <td>1.03e-83</td>\n",
       "</tr>\n",
       "<tr>\n",
       "  <th>Kurtosis:</th>      <td> 3.177</td>  <th>  Cond. No.          </th> <td>1.17e+06</td>\n",
       "</tr>\n",
       "</table><br/><br/>Warnings:<br/>[1] Standard Errors assume that the covariance matrix of the errors is correctly specified.<br/>[2] The condition number is large, 1.17e+06. This might indicate that there are<br/>strong multicollinearity or other numerical problems."
      ],
      "text/plain": [
       "<class 'statsmodels.iolib.summary.Summary'>\n",
       "\"\"\"\n",
       "                            OLS Regression Results                            \n",
       "==============================================================================\n",
       "Dep. Variable:                  price   R-squared:                       0.474\n",
       "Model:                            OLS   Adj. R-squared:                  0.473\n",
       "Method:                 Least Squares   F-statistic:                     1744.\n",
       "Date:                Sat, 15 Feb 2020   Prob (F-statistic):               0.00\n",
       "Time:                        21:05:38   Log-Likelihood:            -2.5749e+05\n",
       "No. Observations:               19394   AIC:                         5.150e+05\n",
       "Df Residuals:                   19383   BIC:                         5.151e+05\n",
       "Df Model:                          10                                         \n",
       "Covariance Type:            nonrobust                                         \n",
       "=================================================================================\n",
       "                    coef    std err          t      P>|t|      [0.025      0.975]\n",
       "---------------------------------------------------------------------------------\n",
       "Intercept      4.557e+06   8.84e+04     51.549      0.000    4.38e+06    4.73e+06\n",
       "bedrooms      -2.741e+04   1522.939    -17.997      0.000   -3.04e+04   -2.44e+04\n",
       "bathrooms       3.76e+04   2499.004     15.046      0.000    3.27e+04    4.25e+04\n",
       "sqft_living     127.3819     14.416      8.836      0.000      99.125     155.639\n",
       "floors         6.847e+04   2680.044     25.548      0.000    6.32e+04    7.37e+04\n",
       "sqft_above      -21.1353     14.386     -1.469      0.142     -49.332       7.062\n",
       "sqft_basement     5.8403     14.301      0.408      0.683     -22.191      33.872\n",
       "yr_built      -2323.4421     46.081    -50.421      0.000   -2413.764   -2233.120\n",
       "yr_renovated      1.2523      1.273      0.983      0.325      -1.244       3.748\n",
       "sqft_living15   104.0305      2.708     38.411      0.000      98.722     109.339\n",
       "sqft_lot15       -1.1895      0.118    -10.090      0.000      -1.421      -0.958\n",
       "==============================================================================\n",
       "Omnibus:                      360.699   Durbin-Watson:                   1.970\n",
       "Prob(Omnibus):                  0.000   Jarque-Bera (JB):              382.167\n",
       "Skew:                           0.332   Prob(JB):                     1.03e-83\n",
       "Kurtosis:                       3.177   Cond. No.                     1.17e+06\n",
       "==============================================================================\n",
       "\n",
       "Warnings:\n",
       "[1] Standard Errors assume that the covariance matrix of the errors is correctly specified.\n",
       "[2] The condition number is large, 1.17e+06. This might indicate that there are\n",
       "strong multicollinearity or other numerical problems.\n",
       "\"\"\""
      ]
     },
     "execution_count": 20,
     "metadata": {},
     "output_type": "execute_result"
    }
   ],
   "source": [
    "# Fitting the actual model\n",
    "predictors = '+'.join(x_cols)\n",
    "formula = outcome + '~' + predictors\n",
    "model = ols(formula=formula, data=df).fit()\n",
    "model.summary()"
   ]
  },
  {
   "cell_type": "markdown",
   "metadata": {},
   "source": [
    "# Need to drop sqft_basement, sqft_above "
   ]
  },
  {
   "cell_type": "code",
   "execution_count": 23,
   "metadata": {},
   "outputs": [],
   "source": [
    "outcome  = 'price'\n",
    "\n",
    "x_cols = [ 'bedrooms', 'bathrooms', 'sqft_living',\n",
    "       'floors',\n",
    "       'yr_built',\n",
    "       'sqft_living15', 'sqft_lot15']"
   ]
  },
  {
   "cell_type": "code",
   "execution_count": 24,
   "metadata": {},
   "outputs": [
    {
     "data": {
      "text/html": [
       "<table class=\"simpletable\">\n",
       "<caption>OLS Regression Results</caption>\n",
       "<tr>\n",
       "  <th>Dep. Variable:</th>          <td>price</td>      <th>  R-squared:         </th>  <td>   0.472</td>  \n",
       "</tr>\n",
       "<tr>\n",
       "  <th>Model:</th>                   <td>OLS</td>       <th>  Adj. R-squared:    </th>  <td>   0.472</td>  \n",
       "</tr>\n",
       "<tr>\n",
       "  <th>Method:</th>             <td>Least Squares</td>  <th>  F-statistic:       </th>  <td>   2475.</td>  \n",
       "</tr>\n",
       "<tr>\n",
       "  <th>Date:</th>             <td>Sat, 15 Feb 2020</td> <th>  Prob (F-statistic):</th>   <td>  0.00</td>   \n",
       "</tr>\n",
       "<tr>\n",
       "  <th>Time:</th>                 <td>21:05:54</td>     <th>  Log-Likelihood:    </th> <td>-2.5752e+05</td>\n",
       "</tr>\n",
       "<tr>\n",
       "  <th>No. Observations:</th>      <td> 19394</td>      <th>  AIC:               </th>  <td>5.151e+05</td> \n",
       "</tr>\n",
       "<tr>\n",
       "  <th>Df Residuals:</th>          <td> 19386</td>      <th>  BIC:               </th>  <td>5.151e+05</td> \n",
       "</tr>\n",
       "<tr>\n",
       "  <th>Df Model:</th>              <td>     7</td>      <th>                     </th>      <td> </td>     \n",
       "</tr>\n",
       "<tr>\n",
       "  <th>Covariance Type:</th>      <td>nonrobust</td>    <th>                     </th>      <td> </td>     \n",
       "</tr>\n",
       "</table>\n",
       "<table class=\"simpletable\">\n",
       "<tr>\n",
       "        <td></td>           <th>coef</th>     <th>std err</th>      <th>t</th>      <th>P>|t|</th>  <th>[0.025</th>    <th>0.975]</th>  \n",
       "</tr>\n",
       "<tr>\n",
       "  <th>Intercept</th>     <td> 4.686e+06</td> <td> 8.67e+04</td> <td>   54.044</td> <td> 0.000</td> <td> 4.52e+06</td> <td> 4.86e+06</td>\n",
       "</tr>\n",
       "<tr>\n",
       "  <th>bedrooms</th>      <td>-2.769e+04</td> <td> 1524.264</td> <td>  -18.165</td> <td> 0.000</td> <td>-3.07e+04</td> <td>-2.47e+04</td>\n",
       "</tr>\n",
       "<tr>\n",
       "  <th>bathrooms</th>     <td> 4.157e+04</td> <td> 2452.055</td> <td>   16.953</td> <td> 0.000</td> <td> 3.68e+04</td> <td> 4.64e+04</td>\n",
       "</tr>\n",
       "<tr>\n",
       "  <th>sqft_living</th>   <td>  115.7584</td> <td>    2.757</td> <td>   41.991</td> <td> 0.000</td> <td>  110.355</td> <td>  121.162</td>\n",
       "</tr>\n",
       "<tr>\n",
       "  <th>floors</th>        <td> 5.852e+04</td> <td> 2366.616</td> <td>   24.727</td> <td> 0.000</td> <td> 5.39e+04</td> <td> 6.32e+04</td>\n",
       "</tr>\n",
       "<tr>\n",
       "  <th>yr_built</th>      <td>-2385.1714</td> <td>   45.338</td> <td>  -52.608</td> <td> 0.000</td> <td>-2474.039</td> <td>-2296.304</td>\n",
       "</tr>\n",
       "<tr>\n",
       "  <th>sqft_living15</th> <td>   98.9288</td> <td>    2.635</td> <td>   37.540</td> <td> 0.000</td> <td>   93.763</td> <td>  104.094</td>\n",
       "</tr>\n",
       "<tr>\n",
       "  <th>sqft_lot15</th>    <td>   -1.2850</td> <td>    0.117</td> <td>  -10.945</td> <td> 0.000</td> <td>   -1.515</td> <td>   -1.055</td>\n",
       "</tr>\n",
       "</table>\n",
       "<table class=\"simpletable\">\n",
       "<tr>\n",
       "  <th>Omnibus:</th>       <td>344.419</td> <th>  Durbin-Watson:     </th> <td>   1.970</td>\n",
       "</tr>\n",
       "<tr>\n",
       "  <th>Prob(Omnibus):</th> <td> 0.000</td>  <th>  Jarque-Bera (JB):  </th> <td> 363.240</td>\n",
       "</tr>\n",
       "<tr>\n",
       "  <th>Skew:</th>          <td> 0.327</td>  <th>  Prob(JB):          </th> <td>1.33e-79</td>\n",
       "</tr>\n",
       "<tr>\n",
       "  <th>Kurtosis:</th>      <td> 3.146</td>  <th>  Cond. No.          </th> <td>1.14e+06</td>\n",
       "</tr>\n",
       "</table><br/><br/>Warnings:<br/>[1] Standard Errors assume that the covariance matrix of the errors is correctly specified.<br/>[2] The condition number is large, 1.14e+06. This might indicate that there are<br/>strong multicollinearity or other numerical problems."
      ],
      "text/plain": [
       "<class 'statsmodels.iolib.summary.Summary'>\n",
       "\"\"\"\n",
       "                            OLS Regression Results                            \n",
       "==============================================================================\n",
       "Dep. Variable:                  price   R-squared:                       0.472\n",
       "Model:                            OLS   Adj. R-squared:                  0.472\n",
       "Method:                 Least Squares   F-statistic:                     2475.\n",
       "Date:                Sat, 15 Feb 2020   Prob (F-statistic):               0.00\n",
       "Time:                        21:05:54   Log-Likelihood:            -2.5752e+05\n",
       "No. Observations:               19394   AIC:                         5.151e+05\n",
       "Df Residuals:                   19386   BIC:                         5.151e+05\n",
       "Df Model:                           7                                         \n",
       "Covariance Type:            nonrobust                                         \n",
       "=================================================================================\n",
       "                    coef    std err          t      P>|t|      [0.025      0.975]\n",
       "---------------------------------------------------------------------------------\n",
       "Intercept      4.686e+06   8.67e+04     54.044      0.000    4.52e+06    4.86e+06\n",
       "bedrooms      -2.769e+04   1524.264    -18.165      0.000   -3.07e+04   -2.47e+04\n",
       "bathrooms      4.157e+04   2452.055     16.953      0.000    3.68e+04    4.64e+04\n",
       "sqft_living     115.7584      2.757     41.991      0.000     110.355     121.162\n",
       "floors         5.852e+04   2366.616     24.727      0.000    5.39e+04    6.32e+04\n",
       "yr_built      -2385.1714     45.338    -52.608      0.000   -2474.039   -2296.304\n",
       "sqft_living15    98.9288      2.635     37.540      0.000      93.763     104.094\n",
       "sqft_lot15       -1.2850      0.117    -10.945      0.000      -1.515      -1.055\n",
       "==============================================================================\n",
       "Omnibus:                      344.419   Durbin-Watson:                   1.970\n",
       "Prob(Omnibus):                  0.000   Jarque-Bera (JB):              363.240\n",
       "Skew:                           0.327   Prob(JB):                     1.33e-79\n",
       "Kurtosis:                       3.146   Cond. No.                     1.14e+06\n",
       "==============================================================================\n",
       "\n",
       "Warnings:\n",
       "[1] Standard Errors assume that the covariance matrix of the errors is correctly specified.\n",
       "[2] The condition number is large, 1.14e+06. This might indicate that there are\n",
       "strong multicollinearity or other numerical problems.\n",
       "\"\"\""
      ]
     },
     "execution_count": 24,
     "metadata": {},
     "output_type": "execute_result"
    }
   ],
   "source": [
    "# Fitting the actual model\n",
    "predictors = '+'.join(x_cols)\n",
    "formula = outcome + '~' + predictors\n",
    "model = ols(formula=formula, data=df).fit()\n",
    "model.summary()"
   ]
  },
  {
   "cell_type": "markdown",
   "metadata": {},
   "source": [
    "# r^2 is quite low but we have controlled for p values\n",
    "\n",
    "# However, kurtosis remainds high indicated normalization or log values might a good solution"
   ]
  },
  {
   "cell_type": "markdown",
   "metadata": {},
   "source": [
    "# Evaluate our Numerical Only Model "
   ]
  },
  {
   "cell_type": "code",
   "execution_count": 25,
   "metadata": {},
   "outputs": [],
   "source": [
    "y  = df['price']\n",
    "\n",
    "X = df[[ 'bedrooms', 'bathrooms', 'sqft_living',\n",
    "       'floors',\n",
    "       'yr_built', \n",
    "       'sqft_living15', 'sqft_lot15']]"
   ]
  },
  {
   "cell_type": "code",
   "execution_count": 26,
   "metadata": {},
   "outputs": [],
   "source": [
    "from sklearn.model_selection import train_test_split"
   ]
  },
  {
   "cell_type": "code",
   "execution_count": 27,
   "metadata": {},
   "outputs": [],
   "source": [
    "X_train, X_test, y_train, y_test = train_test_split(X, y)"
   ]
  },
  {
   "cell_type": "code",
   "execution_count": 28,
   "metadata": {},
   "outputs": [
    {
     "name": "stdout",
     "output_type": "stream",
     "text": [
      "14545 4849 14545 4849\n"
     ]
    }
   ],
   "source": [
    "# A brief preview of our train test split\n",
    "print(len(X_train), len(X_test), len(y_train), len(y_test))"
   ]
  },
  {
   "cell_type": "markdown",
   "metadata": {},
   "source": [
    "# Apply Model to train set "
   ]
  },
  {
   "cell_type": "code",
   "execution_count": 29,
   "metadata": {},
   "outputs": [],
   "source": [
    "from sklearn.linear_model import LinearRegression\n",
    "linreg = LinearRegression()"
   ]
  },
  {
   "cell_type": "code",
   "execution_count": 30,
   "metadata": {},
   "outputs": [
    {
     "data": {
      "text/plain": [
       "LinearRegression(copy_X=True, fit_intercept=True, n_jobs=None, normalize=False)"
      ]
     },
     "execution_count": 30,
     "metadata": {},
     "output_type": "execute_result"
    }
   ],
   "source": [
    "linreg.fit(X_train, y_train)"
   ]
  },
  {
   "cell_type": "code",
   "execution_count": 31,
   "metadata": {},
   "outputs": [
    {
     "data": {
      "text/plain": [
       "LinearRegression(copy_X=True, fit_intercept=True, n_jobs=1, normalize=False)"
      ]
     },
     "execution_count": 31,
     "metadata": {},
     "output_type": "execute_result"
    }
   ],
   "source": [
    "LinearRegression(copy_X=True, fit_intercept=True, n_jobs=1, normalize=False)"
   ]
  },
  {
   "cell_type": "markdown",
   "metadata": {},
   "source": [
    "# Calculate predictions on training and test sets"
   ]
  },
  {
   "cell_type": "code",
   "execution_count": 32,
   "metadata": {},
   "outputs": [],
   "source": [
    "y_hat_train = linreg.predict(X_train)\n",
    "y_hat_test = linreg.predict(X_test)"
   ]
  },
  {
   "cell_type": "markdown",
   "metadata": {},
   "source": [
    "# Calculate training and test residuals "
   ]
  },
  {
   "cell_type": "code",
   "execution_count": 33,
   "metadata": {},
   "outputs": [],
   "source": [
    "y_hat_train = linreg.predict(X_train)\n",
    "y_hat_test = linreg.predict(X_test)"
   ]
  },
  {
   "cell_type": "code",
   "execution_count": 34,
   "metadata": {},
   "outputs": [],
   "source": [
    "train_residuals = y_hat_train - y_train\n",
    "test_residuals = y_hat_test - y_test"
   ]
  },
  {
   "cell_type": "markdown",
   "metadata": {},
   "source": [
    "# Calculate Mean Squared Error (MSE)\n",
    "# A good way to compare overall performance is to compare the mean squarred error for the predicted values on the training and test sets.\n",
    "\n"
   ]
  },
  {
   "cell_type": "code",
   "execution_count": 35,
   "metadata": {},
   "outputs": [],
   "source": [
    "from sklearn.metrics import mean_squared_error"
   ]
  },
  {
   "cell_type": "code",
   "execution_count": 36,
   "metadata": {},
   "outputs": [
    {
     "name": "stdout",
     "output_type": "stream",
     "text": [
      "Train Mean Squarred Error: 19862648543.51398\n",
      "Test Mean Squarred Error: 20434655948.32967\n"
     ]
    }
   ],
   "source": [
    "train_mse = mean_squared_error(y_train, y_hat_train)\n",
    "test_mse = mean_squared_error(y_test, y_hat_test)\n",
    "print('Train Mean Squarred Error:', train_mse)\n",
    "print('Test Mean Squarred Error:', test_mse)"
   ]
  },
  {
   "cell_type": "code",
   "execution_count": 37,
   "metadata": {},
   "outputs": [
    {
     "data": {
      "text/plain": [
       "142949.83717489737"
      ]
     },
     "execution_count": 37,
     "metadata": {},
     "output_type": "execute_result"
    }
   ],
   "source": [
    "import math\n",
    "math.sqrt(test_mse)"
   ]
  },
  {
   "cell_type": "code",
   "execution_count": 38,
   "metadata": {},
   "outputs": [
    {
     "data": {
      "text/plain": [
       "140934.90888886963"
      ]
     },
     "execution_count": 38,
     "metadata": {},
     "output_type": "execute_result"
    }
   ],
   "source": [
    "math.sqrt(train_mse)"
   ]
  },
  {
   "cell_type": "markdown",
   "metadata": {},
   "source": [
    "# Evaluate effect of train test split size"
   ]
  },
  {
   "cell_type": "code",
   "execution_count": 39,
   "metadata": {},
   "outputs": [
    {
     "data": {
      "text/plain": [
       "<matplotlib.legend.Legend at 0x29cc7c13d48>"
      ]
     },
     "execution_count": 39,
     "metadata": {},
     "output_type": "execute_result"
    },
    {
     "data": {
      "image/png": "[encoded data removed]",
      "text/plain": [
       "<Figure size 432x288 with 1 Axes>"
      ]
     },
     "metadata": {
      "needs_background": "light"
     },
     "output_type": "display_data"
    }
   ],
   "source": [
    "import random\n",
    "random.seed(11)\n",
    "\n",
    "train_err = []\n",
    "test_err = []\n",
    "t_sizes = list(range(5,100,5))\n",
    "for t_size in t_sizes:\n",
    "    X_train, X_test, y_train, y_test = train_test_split(X, y, test_size=t_size/100)\n",
    "    linreg.fit(X_train, y_train)\n",
    "    y_hat_train = linreg.predict(X_train)\n",
    "    y_hat_test = linreg.predict(X_test)\n",
    "    train_err.append(mean_squared_error(y_train, y_hat_train))\n",
    "    test_err.append(mean_squared_error(y_test, y_hat_test))\n",
    "plt.scatter(t_sizes, train_err, label='Training Error')\n",
    "plt.scatter(t_sizes, test_err, label='Testing Error')\n",
    "plt.legend()"
   ]
  },
  {
   "cell_type": "markdown",
   "metadata": {},
   "source": [
    "# Repeat the previous example, but for each train-test split size, generate 100 iterations of models/errors and save the average train/test error. This will help account for any particularly good/bad models that might have resulted from poor/good splits in the data."
   ]
  },
  {
   "cell_type": "code",
   "execution_count": 40,
   "metadata": {},
   "outputs": [
    {
     "data": {
      "text/plain": [
       "<matplotlib.legend.Legend at 0x29cc8ca2dc8>"
      ]
     },
     "execution_count": 40,
     "metadata": {},
     "output_type": "execute_result"
    },
    {
     "data": {
      "image/png": "[encoded data removed]",
      "text/plain": [
       "<Figure size 432x288 with 1 Axes>"
      ]
     },
     "metadata": {
      "needs_background": "light"
     },
     "output_type": "display_data"
    }
   ],
   "source": [
    "random.seed(8)\n",
    "\n",
    "train_err = []\n",
    "test_err = []\n",
    "t_sizes = list(range(5,100,5))\n",
    "for t_size in t_sizes:\n",
    "    temp_train_err = []\n",
    "    temp_test_err = []\n",
    "    for i in range(100):\n",
    "        X_train, X_test, y_train, y_test = train_test_split(X, y, test_size=t_size/100)\n",
    "        linreg.fit(X_train, y_train)\n",
    "        y_hat_train = linreg.predict(X_train)\n",
    "        y_hat_test = linreg.predict(X_test)\n",
    "        temp_train_err.append(mean_squared_error(y_train, y_hat_train))\n",
    "        temp_test_err.append(mean_squared_error(y_test, y_hat_test))\n",
    "    train_err.append(np.mean(temp_train_err))\n",
    "    test_err.append(np.mean(temp_test_err))\n",
    "plt.scatter(t_sizes, train_err, label='Training Error')\n",
    "plt.scatter(t_sizes, test_err, label='Testing Error')\n",
    "plt.legend()"
   ]
  },
  {
   "cell_type": "code",
   "execution_count": 41,
   "metadata": {},
   "outputs": [],
   "source": [
    "from sklearn.metrics import mean_squared_error\n",
    "from sklearn.model_selection import cross_val_score\n",
    "\n",
    "cv_5_results  = np.mean(cross_val_score(linreg, X, y, cv=5,  scoring='neg_mean_squared_error'))\n",
    "cv_10_results = np.mean(cross_val_score(linreg, X, y, cv=10, scoring='neg_mean_squared_error'))\n",
    "cv_20_results = np.mean(cross_val_score(linreg, X, y, cv=20, scoring='neg_mean_squared_error'))"
   ]
  },
  {
   "cell_type": "code",
   "execution_count": 42,
   "metadata": {},
   "outputs": [],
   "source": [
    "#Cross-Validation"
   ]
  },
  {
   "cell_type": "code",
   "execution_count": 43,
   "metadata": {},
   "outputs": [],
   "source": [
    "X_train, X_test, y_train, y_test = train_test_split(X, y, test_size=0.20)"
   ]
  },
  {
   "cell_type": "code",
   "execution_count": 44,
   "metadata": {},
   "outputs": [
    {
     "name": "stdout",
     "output_type": "stream",
     "text": [
      "15515 3879 15515 3879\n"
     ]
    }
   ],
   "source": [
    "# A brief preview of train-test split\n",
    "print(len(X_train), len(X_test), len(y_train), len(y_test))"
   ]
  },
  {
   "cell_type": "code",
   "execution_count": 45,
   "metadata": {},
   "outputs": [],
   "source": [
    "linreg = LinearRegression()\n",
    "\n",
    "linreg.fit(X_train, y_train)\n",
    "y_hat_test = linreg.predict(X_test)"
   ]
  },
  {
   "cell_type": "code",
   "execution_count": 46,
   "metadata": {},
   "outputs": [],
   "source": [
    "# Residuals and MSE "
   ]
  },
  {
   "cell_type": "code",
   "execution_count": 47,
   "metadata": {},
   "outputs": [
    {
     "data": {
      "text/plain": [
       "20262905189.499367"
      ]
     },
     "execution_count": 47,
     "metadata": {},
     "output_type": "execute_result"
    }
   ],
   "source": [
    "test_residuals = y_hat_test - y_test\n",
    "\n",
    "test_mse = mean_squared_error(y_test, y_hat_test)\n",
    "test_mse"
   ]
  },
  {
   "cell_type": "code",
   "execution_count": 52,
   "metadata": {},
   "outputs": [
    {
     "data": {
      "text/plain": [
       "142347.83169932503"
      ]
     },
     "execution_count": 52,
     "metadata": {},
     "output_type": "execute_result"
    }
   ],
   "source": [
    "import math\n",
    "math.sqrt(test_mse)"
   ]
  },
  {
   "cell_type": "code",
   "execution_count": 48,
   "metadata": {},
   "outputs": [],
   "source": [
    "from sklearn.metrics import mean_squared_error\n",
    "from sklearn.model_selection import cross_val_score\n",
    "\n",
    "cv_5_results = cross_val_score(linreg, X, y, cv=5, scoring='neg_mean_squared_error')"
   ]
  },
  {
   "cell_type": "code",
   "execution_count": 49,
   "metadata": {},
   "outputs": [
    {
     "data": {
      "text/plain": [
       "array([-2.02503255e+10, -1.98719273e+10, -1.92544826e+10, -1.98926246e+10,\n",
       "       -2.22230807e+10])"
      ]
     },
     "execution_count": 49,
     "metadata": {},
     "output_type": "execute_result"
    }
   ],
   "source": [
    "cv_5_results"
   ]
  },
  {
   "cell_type": "code",
   "execution_count": null,
   "metadata": {},
   "outputs": [],
   "source": []
  },
  {
   "cell_type": "code",
   "execution_count": null,
   "metadata": {},
   "outputs": [],
   "source": []
  }
 ],
 "metadata": {
  "kernelspec": {
   "display_name": "Python 3",
   "language": "python",
   "name": "python3"
  },
  "language_info": {
   "codemirror_mode": {
    "name": "ipython",
    "version": 3
   },
   "file_extension": ".py",
   "mimetype": "text/x-python",
   "name": "python",
   "nbconvert_exporter": "python",
   "pygments_lexer": "ipython3",
   "version": "3.7.4"
  }
 },
 "nbformat": 4,
 "nbformat_minor": 2
}
