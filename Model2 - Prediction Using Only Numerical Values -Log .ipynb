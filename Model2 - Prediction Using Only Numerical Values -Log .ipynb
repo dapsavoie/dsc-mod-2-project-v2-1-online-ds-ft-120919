{
 "cells": [
  {
   "cell_type": "code",
   "execution_count": 1,
   "metadata": {},
   "outputs": [],
   "source": [
    "import pandas as pd \n",
    "import numpy as np\n",
    "import matplotlib.pyplot as plt \n",
    "%matplotlib inline  \n",
    "\n",
    "import seaborn as sns \n",
    "import statsmodels.api as sm\n",
    "import statsmodels.formula.api as smf\n",
    "import matplotlib.pyplot as plt\n",
    "from statsmodels.sandbox.regression.predstd import wls_prediction_std\n",
    "import scipy.stats as stats\n",
    "import math "
   ]
  },
  {
   "cell_type": "code",
   "execution_count": 2,
   "metadata": {},
   "outputs": [
    {
     "data": {
      "text/html": [
       "<div>\n",
       "<style scoped>\n",
       "    .dataframe tbody tr th:only-of-type {\n",
       "        vertical-align: middle;\n",
       "    }\n",
       "\n",
       "    .dataframe tbody tr th {\n",
       "        vertical-align: top;\n",
       "    }\n",
       "\n",
       "    .dataframe thead th {\n",
       "        text-align: right;\n",
       "    }\n",
       "</style>\n",
       "<table border=\"1\" class=\"dataframe\">\n",
       "  <thead>\n",
       "    <tr style=\"text-align: right;\">\n",
       "      <th></th>\n",
       "      <th>id</th>\n",
       "      <th>date</th>\n",
       "      <th>price</th>\n",
       "      <th>bedrooms</th>\n",
       "      <th>bathrooms</th>\n",
       "      <th>sqft_living</th>\n",
       "      <th>sqft_lot</th>\n",
       "      <th>floors</th>\n",
       "      <th>waterfront</th>\n",
       "      <th>view</th>\n",
       "      <th>...</th>\n",
       "      <th>grade</th>\n",
       "      <th>sqft_above</th>\n",
       "      <th>sqft_basement</th>\n",
       "      <th>yr_built</th>\n",
       "      <th>yr_renovated</th>\n",
       "      <th>zipcode</th>\n",
       "      <th>lat</th>\n",
       "      <th>long</th>\n",
       "      <th>sqft_living15</th>\n",
       "      <th>sqft_lot15</th>\n",
       "    </tr>\n",
       "  </thead>\n",
       "  <tbody>\n",
       "    <tr>\n",
       "      <td>0</td>\n",
       "      <td>7129300520</td>\n",
       "      <td>10/13/2014</td>\n",
       "      <td>221900.0</td>\n",
       "      <td>3</td>\n",
       "      <td>1.00</td>\n",
       "      <td>1180</td>\n",
       "      <td>5650</td>\n",
       "      <td>1.0</td>\n",
       "      <td>NaN</td>\n",
       "      <td>0.0</td>\n",
       "      <td>...</td>\n",
       "      <td>7</td>\n",
       "      <td>1180</td>\n",
       "      <td>0.0</td>\n",
       "      <td>1955</td>\n",
       "      <td>0.0</td>\n",
       "      <td>98178</td>\n",
       "      <td>47.5112</td>\n",
       "      <td>-122.257</td>\n",
       "      <td>1340</td>\n",
       "      <td>5650</td>\n",
       "    </tr>\n",
       "    <tr>\n",
       "      <td>1</td>\n",
       "      <td>6414100192</td>\n",
       "      <td>12/9/2014</td>\n",
       "      <td>538000.0</td>\n",
       "      <td>3</td>\n",
       "      <td>2.25</td>\n",
       "      <td>2570</td>\n",
       "      <td>7242</td>\n",
       "      <td>2.0</td>\n",
       "      <td>0.0</td>\n",
       "      <td>0.0</td>\n",
       "      <td>...</td>\n",
       "      <td>7</td>\n",
       "      <td>2170</td>\n",
       "      <td>400.0</td>\n",
       "      <td>1951</td>\n",
       "      <td>1991.0</td>\n",
       "      <td>98125</td>\n",
       "      <td>47.7210</td>\n",
       "      <td>-122.319</td>\n",
       "      <td>1690</td>\n",
       "      <td>7639</td>\n",
       "    </tr>\n",
       "    <tr>\n",
       "      <td>2</td>\n",
       "      <td>5631500400</td>\n",
       "      <td>2/25/2015</td>\n",
       "      <td>180000.0</td>\n",
       "      <td>2</td>\n",
       "      <td>1.00</td>\n",
       "      <td>770</td>\n",
       "      <td>10000</td>\n",
       "      <td>1.0</td>\n",
       "      <td>0.0</td>\n",
       "      <td>0.0</td>\n",
       "      <td>...</td>\n",
       "      <td>6</td>\n",
       "      <td>770</td>\n",
       "      <td>0.0</td>\n",
       "      <td>1933</td>\n",
       "      <td>NaN</td>\n",
       "      <td>98028</td>\n",
       "      <td>47.7379</td>\n",
       "      <td>-122.233</td>\n",
       "      <td>2720</td>\n",
       "      <td>8062</td>\n",
       "    </tr>\n",
       "    <tr>\n",
       "      <td>3</td>\n",
       "      <td>2487200875</td>\n",
       "      <td>12/9/2014</td>\n",
       "      <td>604000.0</td>\n",
       "      <td>4</td>\n",
       "      <td>3.00</td>\n",
       "      <td>1960</td>\n",
       "      <td>5000</td>\n",
       "      <td>1.0</td>\n",
       "      <td>0.0</td>\n",
       "      <td>0.0</td>\n",
       "      <td>...</td>\n",
       "      <td>7</td>\n",
       "      <td>1050</td>\n",
       "      <td>910.0</td>\n",
       "      <td>1965</td>\n",
       "      <td>0.0</td>\n",
       "      <td>98136</td>\n",
       "      <td>47.5208</td>\n",
       "      <td>-122.393</td>\n",
       "      <td>1360</td>\n",
       "      <td>5000</td>\n",
       "    </tr>\n",
       "    <tr>\n",
       "      <td>4</td>\n",
       "      <td>1954400510</td>\n",
       "      <td>2/18/2015</td>\n",
       "      <td>510000.0</td>\n",
       "      <td>3</td>\n",
       "      <td>2.00</td>\n",
       "      <td>1680</td>\n",
       "      <td>8080</td>\n",
       "      <td>1.0</td>\n",
       "      <td>0.0</td>\n",
       "      <td>0.0</td>\n",
       "      <td>...</td>\n",
       "      <td>8</td>\n",
       "      <td>1680</td>\n",
       "      <td>0.0</td>\n",
       "      <td>1987</td>\n",
       "      <td>0.0</td>\n",
       "      <td>98074</td>\n",
       "      <td>47.6168</td>\n",
       "      <td>-122.045</td>\n",
       "      <td>1800</td>\n",
       "      <td>7503</td>\n",
       "    </tr>\n",
       "  </tbody>\n",
       "</table>\n",
       "<p>5 rows × 21 columns</p>\n",
       "</div>"
      ],
      "text/plain": [
       "           id        date     price  bedrooms  bathrooms  sqft_living  \\\n",
       "0  7129300520  10/13/2014  221900.0         3       1.00         1180   \n",
       "1  6414100192   12/9/2014  538000.0         3       2.25         2570   \n",
       "2  5631500400   2/25/2015  180000.0         2       1.00          770   \n",
       "3  2487200875   12/9/2014  604000.0         4       3.00         1960   \n",
       "4  1954400510   2/18/2015  510000.0         3       2.00         1680   \n",
       "\n",
       "   sqft_lot  floors  waterfront  view  ...  grade  sqft_above  sqft_basement  \\\n",
       "0      5650     1.0         NaN   0.0  ...      7        1180            0.0   \n",
       "1      7242     2.0         0.0   0.0  ...      7        2170          400.0   \n",
       "2     10000     1.0         0.0   0.0  ...      6         770            0.0   \n",
       "3      5000     1.0         0.0   0.0  ...      7        1050          910.0   \n",
       "4      8080     1.0         0.0   0.0  ...      8        1680            0.0   \n",
       "\n",
       "  yr_built  yr_renovated  zipcode      lat     long  sqft_living15  sqft_lot15  \n",
       "0     1955           0.0    98178  47.5112 -122.257           1340        5650  \n",
       "1     1951        1991.0    98125  47.7210 -122.319           1690        7639  \n",
       "2     1933           NaN    98028  47.7379 -122.233           2720        8062  \n",
       "3     1965           0.0    98136  47.5208 -122.393           1360        5000  \n",
       "4     1987           0.0    98074  47.6168 -122.045           1800        7503  \n",
       "\n",
       "[5 rows x 21 columns]"
      ]
     },
     "execution_count": 2,
     "metadata": {},
     "output_type": "execute_result"
    }
   ],
   "source": [
    "df = pd.read_csv('kc_house_data.csv')\n",
    "df.head()"
   ]
  },
  {
   "cell_type": "code",
   "execution_count": 3,
   "metadata": {},
   "outputs": [
    {
     "data": {
      "text/plain": [
       "id                 int64\n",
       "date              object\n",
       "price            float64\n",
       "bedrooms           int64\n",
       "bathrooms        float64\n",
       "sqft_living        int64\n",
       "sqft_lot           int64\n",
       "floors           float64\n",
       "waterfront       float64\n",
       "view             float64\n",
       "condition          int64\n",
       "grade              int64\n",
       "sqft_above         int64\n",
       "sqft_basement     object\n",
       "yr_built           int64\n",
       "yr_renovated     float64\n",
       "zipcode            int64\n",
       "lat              float64\n",
       "long             float64\n",
       "sqft_living15      int64\n",
       "sqft_lot15         int64\n",
       "dtype: object"
      ]
     },
     "execution_count": 3,
     "metadata": {},
     "output_type": "execute_result"
    }
   ],
   "source": [
    "df.dtypes"
   ]
  },
  {
   "cell_type": "code",
   "execution_count": 4,
   "metadata": {},
   "outputs": [
    {
     "data": {
      "text/plain": [
       "id                        int64\n",
       "date             datetime64[ns]\n",
       "price                   float64\n",
       "bedrooms                  int64\n",
       "bathrooms               float64\n",
       "sqft_living               int64\n",
       "sqft_lot                  int64\n",
       "floors                  float64\n",
       "waterfront              float64\n",
       "view                    float64\n",
       "condition                 int64\n",
       "grade                     int64\n",
       "sqft_above                int64\n",
       "sqft_basement           float64\n",
       "yr_built                  int64\n",
       "yr_renovated            float64\n",
       "zipcode                   int64\n",
       "lat                     float64\n",
       "long                    float64\n",
       "sqft_living15             int64\n",
       "sqft_lot15                int64\n",
       "dtype: object"
      ]
     },
     "execution_count": 4,
     "metadata": {},
     "output_type": "execute_result"
    }
   ],
   "source": [
    "#convert column name ['date'] from object to datetime \n",
    "df['sqft_basement'] = df['sqft_basement'].map(lambda x: 0 if x=='?' else x)\n",
    "\n",
    "#Convert sqft_basement to a number\n",
    "df['sqft_basement'] = df['sqft_basement'].astype(float)\n",
    "\n",
    "#might be cool to create a function that takes any column date and converts it \n",
    "\n",
    "df['date'] = pd.to_datetime(df['date'])\n",
    "\n",
    "df.dtypes"
   ]
  },
  {
   "cell_type": "code",
   "execution_count": 5,
   "metadata": {},
   "outputs": [
    {
     "data": {
      "text/plain": [
       "count    21597.000000\n",
       "mean       285.716581\n",
       "std        439.819830\n",
       "min          0.000000\n",
       "25%          0.000000\n",
       "50%          0.000000\n",
       "75%        550.000000\n",
       "max       4820.000000\n",
       "Name: sqft_basement, dtype: float64"
      ]
     },
     "execution_count": 5,
     "metadata": {},
     "output_type": "execute_result"
    }
   ],
   "source": [
    "#replacing all ? with 0's - major assumption that requires data enrichment to correct\n",
    "#\n",
    "\n",
    "df['sqft_basement'] = df['sqft_basement'].map(lambda x: 0 if x==\n",
    "                                             '?' else x)\n",
    "\n",
    "df['sqft_basement'] = df['sqft_basement'].astype(float)\n",
    "\n",
    "df['sqft_basement'].describe()"
   ]
  },
  {
   "cell_type": "code",
   "execution_count": 6,
   "metadata": {},
   "outputs": [
    {
     "data": {
      "text/plain": [
       "id                  0\n",
       "date                0\n",
       "price               0\n",
       "bedrooms            0\n",
       "bathrooms           0\n",
       "sqft_living         0\n",
       "sqft_lot            0\n",
       "floors              0\n",
       "waterfront       2376\n",
       "view               63\n",
       "condition           0\n",
       "grade               0\n",
       "sqft_above          0\n",
       "sqft_basement       0\n",
       "yr_built            0\n",
       "yr_renovated     3842\n",
       "zipcode             0\n",
       "lat                 0\n",
       "long                0\n",
       "sqft_living15       0\n",
       "sqft_lot15          0\n",
       "dtype: int64"
      ]
     },
     "execution_count": 6,
     "metadata": {},
     "output_type": "execute_result"
    }
   ],
   "source": [
    "# Identify null values \n",
    "\n",
    "df.isna().sum()"
   ]
  },
  {
   "cell_type": "code",
   "execution_count": 7,
   "metadata": {},
   "outputs": [],
   "source": [
    "#Repeat the same process for view which indicates how many times a house has been viewed\n",
    "\n",
    "#We replaced all views with a median value, its safe to assume houses on the market in these areas are quite popular and viewed \n",
    "median = df['view'].median()\n",
    "df['view'] = df['view'].fillna(value=median)#Waterfront 0 = No waterfront, 1=Waterfront \n",
    "\n",
    "#Making all nulls 0 indicating no waterfront \n",
    "\n",
    "df['waterfront'].isna().sum()\n",
    "\n",
    "df['waterfront'] = df['waterfront'].fillna(0)\n",
    "\n",
    "\n",
    "df['yr_renovated'] = df['yr_renovated'].fillna(df['yr_built'])"
   ]
  },
  {
   "cell_type": "code",
   "execution_count": 8,
   "metadata": {},
   "outputs": [
    {
     "data": {
      "text/plain": [
       "id               0\n",
       "date             0\n",
       "price            0\n",
       "bedrooms         0\n",
       "bathrooms        0\n",
       "sqft_living      0\n",
       "sqft_lot         0\n",
       "floors           0\n",
       "waterfront       0\n",
       "view             0\n",
       "condition        0\n",
       "grade            0\n",
       "sqft_above       0\n",
       "sqft_basement    0\n",
       "yr_built         0\n",
       "yr_renovated     0\n",
       "zipcode          0\n",
       "lat              0\n",
       "long             0\n",
       "sqft_living15    0\n",
       "sqft_lot15       0\n",
       "dtype: int64"
      ]
     },
     "execution_count": 8,
     "metadata": {},
     "output_type": "execute_result"
    }
   ],
   "source": [
    "df.isna().sum()"
   ]
  },
  {
   "cell_type": "code",
   "execution_count": 9,
   "metadata": {},
   "outputs": [],
   "source": [
    "#dropped all duplicates for id \n",
    "#inplace = True changes the dataframe permanently\n",
    "\n",
    "df.drop_duplicates(subset=['id'], inplace=True)"
   ]
  },
  {
   "cell_type": "code",
   "execution_count": 10,
   "metadata": {},
   "outputs": [],
   "source": [
    "#drop id column\n",
    "df.drop(['id'], axis=1, inplace=True)"
   ]
  },
  {
   "cell_type": "code",
   "execution_count": 11,
   "metadata": {},
   "outputs": [
    {
     "data": {
      "text/plain": [
       "(21420, 20)"
      ]
     },
     "execution_count": 11,
     "metadata": {},
     "output_type": "execute_result"
    }
   ],
   "source": [
    "df.shape"
   ]
  },
  {
   "cell_type": "code",
   "execution_count": 12,
   "metadata": {},
   "outputs": [
    {
     "data": {
      "text/plain": [
       "array([[<matplotlib.axes._subplots.AxesSubplot object at 0x0000022E20747708>,\n",
       "        <matplotlib.axes._subplots.AxesSubplot object at 0x0000022E1E08B088>,\n",
       "        <matplotlib.axes._subplots.AxesSubplot object at 0x0000022E20419B48>,\n",
       "        <matplotlib.axes._subplots.AxesSubplot object at 0x0000022E20452C48>],\n",
       "       [<matplotlib.axes._subplots.AxesSubplot object at 0x0000022E2048AD08>,\n",
       "        <matplotlib.axes._subplots.AxesSubplot object at 0x0000022E204C0E08>,\n",
       "        <matplotlib.axes._subplots.AxesSubplot object at 0x0000022E20688F08>,\n",
       "        <matplotlib.axes._subplots.AxesSubplot object at 0x0000022E206C7088>],\n",
       "       [<matplotlib.axes._subplots.AxesSubplot object at 0x0000022E206CDC48>,\n",
       "        <matplotlib.axes._subplots.AxesSubplot object at 0x0000022E20AB5E48>,\n",
       "        <matplotlib.axes._subplots.AxesSubplot object at 0x0000022E20B20348>,\n",
       "        <matplotlib.axes._subplots.AxesSubplot object at 0x0000022E20B56488>],\n",
       "       [<matplotlib.axes._subplots.AxesSubplot object at 0x0000022E20B8F588>,\n",
       "        <matplotlib.axes._subplots.AxesSubplot object at 0x0000022E20BCCE88>,\n",
       "        <matplotlib.axes._subplots.AxesSubplot object at 0x0000022E20C007C8>,\n",
       "        <matplotlib.axes._subplots.AxesSubplot object at 0x0000022E20C37848>],\n",
       "       [<matplotlib.axes._subplots.AxesSubplot object at 0x0000022E20C6F948>,\n",
       "        <matplotlib.axes._subplots.AxesSubplot object at 0x0000022E21068A88>,\n",
       "        <matplotlib.axes._subplots.AxesSubplot object at 0x0000022E210A0B88>,\n",
       "        <matplotlib.axes._subplots.AxesSubplot object at 0x0000022E210D7C88>]],\n",
       "      dtype=object)"
      ]
     },
     "execution_count": 12,
     "metadata": {},
     "output_type": "execute_result"
    },
    {
     "data": {
      "image/png": "[encoded data removed]",
      "text/plain": [
       "<Figure size 1440x1440 with 20 Axes>"
      ]
     },
     "metadata": {
      "needs_background": "light"
     },
     "output_type": "display_data"
    }
   ],
   "source": [
    "df.hist(figsize=(20,20))"
   ]
  },
  {
   "cell_type": "code",
   "execution_count": 73,
   "metadata": {},
   "outputs": [],
   "source": [
    "#sqft_living \n",
    "\n",
    "indexNames = df[df['sqft_living'] >= 5000 ].index\n",
    "df.drop(indexNames , inplace=True)\n",
    "\n",
    "# sqft_above \n",
    "\n",
    "indexNames = df[df['sqft_above'] >= 4500 ].index\n",
    "df.drop(indexNames , inplace=True)\n",
    "\n",
    "#sqft_basement \n",
    "\n",
    "indexNames = df[df['sqft_basement'] >= 2000 ].index\n",
    "df.drop(indexNames , inplace=True)\n",
    "\n",
    "# dropping sqft_lot outliers\n",
    "\n",
    "indexNames = df[df['sqft_lot'] >= 100000 ].index\n",
    "df.drop(indexNames , inplace=True)\n",
    "\n",
    "# dropping sqft_living15 outliers\n",
    "\n",
    "indexNames = df[df['sqft_living15'] >= 4500 ].index\n",
    "df.drop(indexNames , inplace=True)\n",
    "\n",
    "# dropping sqft_lot15 outliers\n",
    "\n",
    "indexNames = df[df['sqft_lot15'] >= 100000 ].index\n",
    "df.drop(indexNames , inplace=True)\n",
    "\n",
    "\n",
    "# dropping grade outliers\n",
    "indexNames = df[df['grade'] == 3 ].index\n",
    "df.drop(indexNames , inplace=True)\n",
    "\n",
    "indexNames = df[df['grade'] == 13 ].index\n",
    "df.drop(indexNames , inplace=True)\n",
    "\n",
    "# dropping bedroom outliers over 8 rooms\n",
    "indexNames = df[df['bedrooms'] >= 8 ].index\n",
    "df.drop(indexNames , inplace=True)\n",
    "\n",
    "#dropped prices over a mill \n",
    "indexNames = df[df['price'] >= 1000000].index\n",
    "df.drop(indexNames, inplace=True)"
   ]
  },
  {
   "cell_type": "raw",
   "metadata": {},
   "source": [
    "corr = df.corr()"
   ]
  },
  {
   "cell_type": "code",
   "execution_count": 74,
   "metadata": {},
   "outputs": [],
   "source": [
    "corr = df.corr()"
   ]
  },
  {
   "cell_type": "code",
   "execution_count": 75,
   "metadata": {},
   "outputs": [
    {
     "data": {
      "text/plain": [
       "<matplotlib.axes._subplots.AxesSubplot at 0x22e26f8e448>"
      ]
     },
     "execution_count": 75,
     "metadata": {},
     "output_type": "execute_result"
    },
    {
     "data": {
      "image/png": "[encoded data removed]",
      "text/plain": [
       "<Figure size 432x288 with 2 Axes>"
      ]
     },
     "metadata": {
      "needs_background": "light"
     },
     "output_type": "display_data"
    }
   ],
   "source": [
    "sns.heatmap(corr)"
   ]
  },
  {
   "cell_type": "code",
   "execution_count": 21,
   "metadata": {},
   "outputs": [],
   "source": [
    "df_num = df[['price', 'bedrooms', 'bathrooms','floors', 'sqft_living', 'sqft_lot', 'sqft_above','sqft_basement','sqft_living15', 'sqft_lot15']].copy()"
   ]
  },
  {
   "cell_type": "code",
   "execution_count": 22,
   "metadata": {},
   "outputs": [],
   "source": [
    "#created a logged numerical df \n",
    "df_sqft_logs = pd.DataFrame([])\n",
    "df_sqft_logs = df_num"
   ]
  },
  {
   "cell_type": "code",
   "execution_count": 23,
   "metadata": {},
   "outputs": [],
   "source": [
    "df_sqft_logs['sqft_living_log'] = np.log(df_sqft_logs['sqft_living'])\n",
    "df_sqft_logs['sqft_above_log'] = np.log(df_sqft_logs['sqft_above'])\n",
    "df_sqft_logs['sqft_lot_log'] = np.log(df_sqft_logs['sqft_lot'])\n",
    "df_sqft_logs['sqft_living15_log'] = np.log(df_sqft_logs['sqft_living15'])\n",
    "df_sqft_logs['sqft_lot15_log'] = np.log(df_sqft_logs['sqft_lot15'])\n",
    "df_sqft_logs['bathrooms'] = np.log(df_sqft_logs['bathrooms'])\n",
    "df_sqft_logs['bedrooms'] = np.log(df_sqft_logs['bedrooms'])\n",
    "df_sqft_logs['floors'] = np.log(df_sqft_logs['floors'])"
   ]
  },
  {
   "cell_type": "code",
   "execution_count": 24,
   "metadata": {},
   "outputs": [
    {
     "data": {
      "text/plain": [
       "array([[<matplotlib.axes._subplots.AxesSubplot object at 0x0000022E20CC2B88>,\n",
       "        <matplotlib.axes._subplots.AxesSubplot object at 0x0000022E20CDADC8>,\n",
       "        <matplotlib.axes._subplots.AxesSubplot object at 0x0000022E20D230C8>,\n",
       "        <matplotlib.axes._subplots.AxesSubplot object at 0x0000022E20D54C08>],\n",
       "       [<matplotlib.axes._subplots.AxesSubplot object at 0x0000022E20D8B988>,\n",
       "        <matplotlib.axes._subplots.AxesSubplot object at 0x0000022E20DC0708>,\n",
       "        <matplotlib.axes._subplots.AxesSubplot object at 0x0000022E20DF6488>,\n",
       "        <matplotlib.axes._subplots.AxesSubplot object at 0x0000022E20E2D208>],\n",
       "       [<matplotlib.axes._subplots.AxesSubplot object at 0x0000022E216A7088>,\n",
       "        <matplotlib.axes._subplots.AxesSubplot object at 0x0000022E216D3FC8>,\n",
       "        <matplotlib.axes._subplots.AxesSubplot object at 0x0000022E2173BDC8>,\n",
       "        <matplotlib.axes._subplots.AxesSubplot object at 0x0000022E21775E88>],\n",
       "       [<matplotlib.axes._subplots.AxesSubplot object at 0x0000022E217ABF88>,\n",
       "        <matplotlib.axes._subplots.AxesSubplot object at 0x0000022E217E90C8>,\n",
       "        <matplotlib.axes._subplots.AxesSubplot object at 0x0000022E219E1208>,\n",
       "        <matplotlib.axes._subplots.AxesSubplot object at 0x0000022E21A19308>]],\n",
       "      dtype=object)"
      ]
     },
     "execution_count": 24,
     "metadata": {},
     "output_type": "execute_result"
    },
    {
     "data": {
      "image/png": "[encoded data removed]",
      "text/plain": [
       "<Figure size 432x288 with 16 Axes>"
      ]
     },
     "metadata": {
      "needs_background": "light"
     },
     "output_type": "display_data"
    }
   ],
   "source": [
    "df_num.hist()"
   ]
  },
  {
   "cell_type": "code",
   "execution_count": 26,
   "metadata": {},
   "outputs": [
    {
     "name": "stdout",
     "output_type": "stream",
     "text": [
      "price~price\n",
      "{4.0381564758718014e-10, 1.0, 0.9999999999999997, 0.0, 'price'}\n",
      "                            OLS Regression Results                            \n",
      "==============================================================================\n",
      "Dep. Variable:                  price   R-squared:                       1.000\n",
      "Model:                            OLS   Adj. R-squared:                  1.000\n",
      "Method:                 Least Squares   F-statistic:                 3.392e+34\n",
      "Date:                Sat, 15 Feb 2020   Prob (F-statistic):               0.00\n",
      "Time:                        17:24:30   Log-Likelihood:             4.2649e+05\n",
      "No. Observations:               20568   AIC:                        -8.530e+05\n",
      "Df Residuals:                   20566   BIC:                        -8.530e+05\n",
      "Df Model:                           1                                         \n",
      "Covariance Type:            nonrobust                                         \n",
      "==============================================================================\n",
      "                 coef    std err          t      P>|t|      [0.025      0.975]\n",
      "------------------------------------------------------------------------------\n",
      "Intercept   4.038e-10   3.27e-12    123.416      0.000    3.97e-10     4.1e-10\n",
      "price          1.0000   5.43e-18   1.84e+17      0.000       1.000       1.000\n",
      "==============================================================================\n",
      "Omnibus:                     6220.494   Durbin-Watson:                   0.475\n",
      "Prob(Omnibus):                  0.000   Jarque-Bera (JB):            24825.424\n",
      "Skew:                           1.459   Prob(JB):                         0.00\n",
      "Kurtosis:                       7.522   Cond. No.                     1.18e+06\n",
      "==============================================================================\n",
      "\n",
      "Warnings:\n",
      "[1] Standard Errors assume that the covariance matrix of the errors is correctly specified.\n",
      "[2] The condition number is large, 1.18e+06. This might indicate that there are\n",
      "strong multicollinearity or other numerical problems.\n",
      "price~bedrooms\n",
      "{0.08169228554504182, 0.0, 314627.2065113989, 'bedrooms', 149692.460885135}\n",
      "                            OLS Regression Results                            \n",
      "==============================================================================\n",
      "Dep. Variable:                  price   R-squared:                       0.082\n",
      "Model:                            OLS   Adj. R-squared:                  0.082\n",
      "Method:                 Least Squares   F-statistic:                     1830.\n",
      "Date:                Sat, 15 Feb 2020   Prob (F-statistic):               0.00\n",
      "Time:                        17:24:30   Log-Likelihood:            -2.8818e+05\n",
      "No. Observations:               20568   AIC:                         5.764e+05\n",
      "Df Residuals:                   20566   BIC:                         5.764e+05\n",
      "Df Model:                           1                                         \n",
      "Covariance Type:            nonrobust                                         \n",
      "==============================================================================\n",
      "                 coef    std err          t      P>|t|      [0.025      0.975]\n",
      "------------------------------------------------------------------------------\n",
      "Intercept   1.497e+05   8864.519     16.887      0.000    1.32e+05    1.67e+05\n",
      "bedrooms    3.146e+05   7355.716     42.773      0.000       3e+05    3.29e+05\n",
      "==============================================================================\n",
      "Omnibus:                    11771.874   Durbin-Watson:                   1.976\n",
      "Prob(Omnibus):                  0.000   Jarque-Bera (JB):           142731.704\n",
      "Skew:                           2.536   Prob(JB):                         0.00\n",
      "Kurtosis:                      14.867   Cond. No.                         8.68\n",
      "==============================================================================\n",
      "\n",
      "Warnings:\n",
      "[1] Standard Errors assume that the covariance matrix of the errors is correctly specified.\n",
      "price~bathrooms\n",
      "{0.18861766006777836, 0.0, 'bathrooms', 287896.1779423671, 346554.1082684526}\n",
      "                            OLS Regression Results                            \n",
      "==============================================================================\n",
      "Dep. Variable:                  price   R-squared:                       0.189\n",
      "Model:                            OLS   Adj. R-squared:                  0.189\n",
      "Method:                 Least Squares   F-statistic:                     4781.\n",
      "Date:                Sat, 15 Feb 2020   Prob (F-statistic):               0.00\n",
      "Time:                        17:24:30   Log-Likelihood:            -2.8690e+05\n",
      "No. Observations:               20568   AIC:                         5.738e+05\n",
      "Df Residuals:                   20566   BIC:                         5.738e+05\n",
      "Df Model:                           1                                         \n",
      "Covariance Type:            nonrobust                                         \n",
      "==============================================================================\n",
      "                 coef    std err          t      P>|t|      [0.025      0.975]\n",
      "------------------------------------------------------------------------------\n",
      "Intercept   2.879e+05   3853.192     74.716      0.000     2.8e+05    2.95e+05\n",
      "bathrooms   3.466e+05   5012.077     69.144      0.000    3.37e+05    3.56e+05\n",
      "==============================================================================\n",
      "Omnibus:                    11387.895   Durbin-Watson:                   1.971\n",
      "Prob(Omnibus):                  0.000   Jarque-Bera (JB):           135892.002\n",
      "Skew:                           2.430   Prob(JB):                         0.00\n",
      "Kurtosis:                      14.617   Cond. No.                         3.88\n",
      "==============================================================================\n",
      "\n",
      "Warnings:\n",
      "[1] Standard Errors assume that the covariance matrix of the errors is correctly specified.\n",
      "price~floors\n",
      "{0.07230480254986815, 0.0, 234210.07562750153, 440049.53457890044, 'floors'}\n",
      "                            OLS Regression Results                            \n",
      "==============================================================================\n",
      "Dep. Variable:                  price   R-squared:                       0.072\n",
      "Model:                            OLS   Adj. R-squared:                  0.072\n",
      "Method:                 Least Squares   F-statistic:                     1603.\n",
      "Date:                Sat, 15 Feb 2020   Prob (F-statistic):               0.00\n",
      "Time:                        17:24:30   Log-Likelihood:            -2.8828e+05\n",
      "No. Observations:               20568   AIC:                         5.766e+05\n",
      "Df Residuals:                   20566   BIC:                         5.766e+05\n",
      "Df Model:                           1                                         \n",
      "Covariance Type:            nonrobust                                         \n",
      "==============================================================================\n",
      "                 coef    std err          t      P>|t|      [0.025      0.975]\n",
      "------------------------------------------------------------------------------\n",
      "Intercept     4.4e+05   2845.444    154.651      0.000    4.34e+05    4.46e+05\n",
      "floors      2.342e+05   5849.917     40.036      0.000    2.23e+05    2.46e+05\n",
      "==============================================================================\n",
      "Omnibus:                    11872.573   Durbin-Watson:                   1.981\n",
      "Prob(Omnibus):                  0.000   Jarque-Bera (JB):           144053.152\n",
      "Skew:                           2.566   Prob(JB):                         0.00\n",
      "Kurtosis:                      14.906   Cond. No.                         3.20\n",
      "==============================================================================\n",
      "\n",
      "Warnings:\n",
      "[1] Standard Errors assume that the covariance matrix of the errors is correctly specified.\n",
      "price~sqft_living\n",
      "{0.42189801644282743, 0.0, 16553.143870838045, 'sqft_living', 248.973621356015}\n",
      "                            OLS Regression Results                            \n",
      "==============================================================================\n",
      "Dep. Variable:                  price   R-squared:                       0.422\n",
      "Model:                            OLS   Adj. R-squared:                  0.422\n",
      "Method:                 Least Squares   F-statistic:                 1.501e+04\n",
      "Date:                Sat, 15 Feb 2020   Prob (F-statistic):               0.00\n",
      "Time:                        17:24:30   Log-Likelihood:            -2.8342e+05\n",
      "No. Observations:               20568   AIC:                         5.668e+05\n",
      "Df Residuals:                   20566   BIC:                         5.669e+05\n",
      "Df Model:                           1                                         \n",
      "Covariance Type:            nonrobust                                         \n",
      "===============================================================================\n",
      "                  coef    std err          t      P>|t|      [0.025      0.975]\n",
      "-------------------------------------------------------------------------------\n",
      "Intercept    1.655e+04   4409.056      3.754      0.000    7911.045    2.52e+04\n",
      "sqft_living   248.9736      2.032    122.511      0.000     244.990     252.957\n",
      "==============================================================================\n",
      "Omnibus:                    10121.552   Durbin-Watson:                   1.992\n",
      "Prob(Omnibus):                  0.000   Jarque-Bera (JB):           115396.016\n",
      "Skew:                           2.092   Prob(JB):                         0.00\n",
      "Kurtosis:                      13.823   Cond. No.                     5.88e+03\n",
      "==============================================================================\n",
      "\n",
      "Warnings:\n",
      "[1] Standard Errors assume that the covariance matrix of the errors is correctly specified.\n",
      "[2] The condition number is large, 5.88e+03. This might indicate that there are\n",
      "strong multicollinearity or other numerical problems.\n",
      "price~sqft_lot\n",
      "{0.013000600647087523, 3.2821865752606367, 1.7674730958486757e-60, 'sqft_lot', 485814.8161168422}\n",
      "                            OLS Regression Results                            \n",
      "==============================================================================\n",
      "Dep. Variable:                  price   R-squared:                       0.013\n",
      "Model:                            OLS   Adj. R-squared:                  0.013\n",
      "Method:                 Least Squares   F-statistic:                     270.9\n",
      "Date:                Sat, 15 Feb 2020   Prob (F-statistic):           1.77e-60\n",
      "Time:                        17:24:30   Log-Likelihood:            -2.8892e+05\n",
      "No. Observations:               20568   AIC:                         5.778e+05\n",
      "Df Residuals:                   20566   BIC:                         5.779e+05\n",
      "Df Model:                           1                                         \n",
      "Covariance Type:            nonrobust                                         \n",
      "==============================================================================\n",
      "                 coef    std err          t      P>|t|      [0.025      0.975]\n",
      "------------------------------------------------------------------------------\n",
      "Intercept   4.858e+05   2912.349    166.812      0.000     4.8e+05    4.92e+05\n",
      "sqft_lot       3.2822      0.199     16.459      0.000       2.891       3.673\n",
      "==============================================================================\n",
      "Omnibus:                    11593.263   Durbin-Watson:                   1.973\n",
      "Prob(Omnibus):                  0.000   Jarque-Bera (JB):           127850.782\n",
      "Skew:                           2.521   Prob(JB):                         0.00\n",
      "Kurtosis:                      14.124   Cond. No.                     2.00e+04\n",
      "==============================================================================\n",
      "\n",
      "Warnings:\n",
      "[1] Standard Errors assume that the covariance matrix of the errors is correctly specified.\n",
      "[2] The condition number is large,  2e+04. This might indicate that there are\n",
      "strong multicollinearity or other numerical problems.\n",
      "price~sqft_above\n",
      "{0.29640611245076065, 225.24817507531182, 0.0, 'sqft_above', 127532.3783001614}\n",
      "                            OLS Regression Results                            \n",
      "==============================================================================\n",
      "Dep. Variable:                  price   R-squared:                       0.296\n",
      "Model:                            OLS   Adj. R-squared:                  0.296\n",
      "Method:                 Least Squares   F-statistic:                     8664.\n",
      "Date:                Sat, 15 Feb 2020   Prob (F-statistic):               0.00\n",
      "Time:                        17:24:30   Log-Likelihood:            -2.8544e+05\n",
      "No. Observations:               20568   AIC:                         5.709e+05\n",
      "Df Residuals:                   20566   BIC:                         5.709e+05\n",
      "Df Model:                           1                                         \n",
      "Covariance Type:            nonrobust                                         \n",
      "==============================================================================\n",
      "                 coef    std err          t      P>|t|      [0.025      0.975]\n",
      "------------------------------------------------------------------------------\n",
      "Intercept   1.275e+05   4568.638     27.915      0.000    1.19e+05    1.36e+05\n",
      "sqft_above   225.2482      2.420     93.080      0.000     220.505     229.991\n",
      "==============================================================================\n",
      "Omnibus:                    10901.191   Durbin-Watson:                   1.992\n",
      "Prob(Omnibus):                  0.000   Jarque-Bera (JB):           127325.667\n",
      "Skew:                           2.299   Prob(JB):                         0.00\n",
      "Kurtosis:                      14.289   Cond. No.                     4.80e+03\n",
      "==============================================================================\n",
      "\n",
      "Warnings:\n",
      "[1] Standard Errors assume that the covariance matrix of the errors is correctly specified.\n",
      "[2] The condition number is large, 4.8e+03. This might indicate that there are\n",
      "strong multicollinearity or other numerical problems.\n",
      "price~sqft_basement\n"
     ]
    },
    {
     "name": "stdout",
     "output_type": "stream",
     "text": [
      "{0.076167584112109, 0.0, 204.5249403845112, 'sqft_basement', 462427.8411296069}\n",
      "                            OLS Regression Results                            \n",
      "==============================================================================\n",
      "Dep. Variable:                  price   R-squared:                       0.076\n",
      "Model:                            OLS   Adj. R-squared:                  0.076\n",
      "Method:                 Least Squares   F-statistic:                     1696.\n",
      "Date:                Sat, 15 Feb 2020   Prob (F-statistic):               0.00\n",
      "Time:                        17:24:30   Log-Likelihood:            -2.8824e+05\n",
      "No. Observations:               20568   AIC:                         5.765e+05\n",
      "Df Residuals:                   20566   BIC:                         5.765e+05\n",
      "Df Model:                           1                                         \n",
      "Covariance Type:            nonrobust                                         \n",
      "=================================================================================\n",
      "                    coef    std err          t      P>|t|      [0.025      0.975]\n",
      "---------------------------------------------------------------------------------\n",
      "Intercept      4.624e+05   2468.096    187.362      0.000    4.58e+05    4.67e+05\n",
      "sqft_basement   204.5249      4.967     41.178      0.000     194.789     214.260\n",
      "==============================================================================\n",
      "Omnibus:                    11407.417   Durbin-Watson:                   1.968\n",
      "Prob(Omnibus):                  0.000   Jarque-Bera (JB):           124889.424\n",
      "Skew:                           2.470   Prob(JB):                         0.00\n",
      "Kurtosis:                      14.015   Cond. No.                         596.\n",
      "==============================================================================\n",
      "\n",
      "Warnings:\n",
      "[1] Standard Errors assume that the covariance matrix of the errors is correctly specified.\n",
      "price~sqft_living15\n",
      "{0.32656406782994873, 0.0, -15766.652163116956, 'sqft_living15', 273.77476474187245}\n",
      "                            OLS Regression Results                            \n",
      "==============================================================================\n",
      "Dep. Variable:                  price   R-squared:                       0.327\n",
      "Model:                            OLS   Adj. R-squared:                  0.327\n",
      "Method:                 Least Squares   F-statistic:                     9973.\n",
      "Date:                Sat, 15 Feb 2020   Prob (F-statistic):               0.00\n",
      "Time:                        17:24:30   Log-Likelihood:            -2.8499e+05\n",
      "No. Observations:               20568   AIC:                         5.700e+05\n",
      "Df Residuals:                   20566   BIC:                         5.700e+05\n",
      "Df Model:                           1                                         \n",
      "Covariance Type:            nonrobust                                         \n",
      "=================================================================================\n",
      "                    coef    std err          t      P>|t|      [0.025      0.975]\n",
      "---------------------------------------------------------------------------------\n",
      "Intercept     -1.577e+04   5631.538     -2.800      0.005   -2.68e+04   -4728.390\n",
      "sqft_living15   273.7748      2.741     99.864      0.000     268.401     279.148\n",
      "==============================================================================\n",
      "Omnibus:                    11444.171   Durbin-Watson:                   1.993\n",
      "Prob(Omnibus):                  0.000   Jarque-Bera (JB):           146471.081\n",
      "Skew:                           2.419   Prob(JB):                         0.00\n",
      "Kurtosis:                      15.145   Cond. No.                     6.59e+03\n",
      "==============================================================================\n",
      "\n",
      "Warnings:\n",
      "[1] Standard Errors assume that the covariance matrix of the errors is correctly specified.\n",
      "[2] The condition number is large, 6.59e+03. This might indicate that there are\n",
      "strong multicollinearity or other numerical problems.\n",
      "price~sqft_lot15\n",
      "{0.010716333535494726, 3.426064287664726, 4.0982041429206347e-50, 'sqft_lot15', 486518.08826989855}\n",
      "                            OLS Regression Results                            \n",
      "==============================================================================\n",
      "Dep. Variable:                  price   R-squared:                       0.011\n",
      "Model:                            OLS   Adj. R-squared:                  0.011\n",
      "Method:                 Least Squares   F-statistic:                     222.8\n",
      "Date:                Sat, 15 Feb 2020   Prob (F-statistic):           4.10e-50\n",
      "Time:                        17:24:31   Log-Likelihood:            -2.8894e+05\n",
      "No. Observations:               20568   AIC:                         5.779e+05\n",
      "Df Residuals:                   20566   BIC:                         5.779e+05\n",
      "Df Model:                           1                                         \n",
      "Covariance Type:            nonrobust                                         \n",
      "==============================================================================\n",
      "                 coef    std err          t      P>|t|      [0.025      0.975]\n",
      "------------------------------------------------------------------------------\n",
      "Intercept   4.865e+05   3023.703    160.901      0.000    4.81e+05    4.92e+05\n",
      "sqft_lot15     3.4261      0.230     14.926      0.000       2.976       3.876\n",
      "==============================================================================\n",
      "Omnibus:                    11595.550   Durbin-Watson:                   1.973\n",
      "Prob(Omnibus):                  0.000   Jarque-Bera (JB):           128243.730\n",
      "Skew:                           2.521   Prob(JB):                         0.00\n",
      "Kurtosis:                      14.146   Cond. No.                     1.87e+04\n",
      "==============================================================================\n",
      "\n",
      "Warnings:\n",
      "[1] Standard Errors assume that the covariance matrix of the errors is correctly specified.\n",
      "[2] The condition number is large, 1.87e+04. This might indicate that there are\n",
      "strong multicollinearity or other numerical problems.\n",
      "price~sqft_living_log\n",
      "{0.3523089963083752, 0.0, 450601.81156921136, -2874357.656914725, 'sqft_living_log'}\n",
      "                            OLS Regression Results                            \n",
      "==============================================================================\n",
      "Dep. Variable:                  price   R-squared:                       0.352\n",
      "Model:                            OLS   Adj. R-squared:                  0.352\n",
      "Method:                 Least Squares   F-statistic:                 1.119e+04\n",
      "Date:                Sat, 15 Feb 2020   Prob (F-statistic):               0.00\n",
      "Time:                        17:24:31   Log-Likelihood:            -2.8458e+05\n",
      "No. Observations:               20568   AIC:                         5.692e+05\n",
      "Df Residuals:                   20566   BIC:                         5.692e+05\n",
      "Df Model:                           1                                         \n",
      "Covariance Type:            nonrobust                                         \n",
      "===================================================================================\n",
      "                      coef    std err          t      P>|t|      [0.025      0.975]\n",
      "-----------------------------------------------------------------------------------\n",
      "Intercept       -2.874e+06   3.21e+04    -89.473      0.000   -2.94e+06   -2.81e+06\n",
      "sqft_living_log  4.506e+05   4260.299    105.768      0.000    4.42e+05    4.59e+05\n",
      "==============================================================================\n",
      "Omnibus:                    11293.532   Durbin-Watson:                   1.993\n",
      "Prob(Omnibus):                  0.000   Jarque-Bera (JB):           150187.344\n",
      "Skew:                           2.361   Prob(JB):                         0.00\n",
      "Kurtosis:                      15.367   Cond. No.                         143.\n",
      "==============================================================================\n",
      "\n",
      "Warnings:\n",
      "[1] Standard Errors assume that the covariance matrix of the errors is correctly specified.\n",
      "price~sqft_above_log\n",
      "{0.26538340790206205, 0.0, -2331227.033930164, 386439.1559213676, 'sqft_above_log'}\n",
      "                            OLS Regression Results                            \n",
      "==============================================================================\n",
      "Dep. Variable:                  price   R-squared:                       0.265\n",
      "Model:                            OLS   Adj. R-squared:                  0.265\n",
      "Method:                 Least Squares   F-statistic:                     7430.\n",
      "Date:                Sat, 15 Feb 2020   Prob (F-statistic):               0.00\n",
      "Time:                        17:24:31   Log-Likelihood:            -2.8588e+05\n",
      "No. Observations:               20568   AIC:                         5.718e+05\n",
      "Df Residuals:                   20566   BIC:                         5.718e+05\n",
      "Df Model:                           1                                         \n",
      "Covariance Type:            nonrobust                                         \n",
      "==================================================================================\n",
      "                     coef    std err          t      P>|t|      [0.025      0.975]\n",
      "----------------------------------------------------------------------------------\n",
      "Intercept      -2.331e+06   3.31e+04    -70.402      0.000    -2.4e+06   -2.27e+06\n",
      "sqft_above_log  3.864e+05   4483.320     86.195      0.000    3.78e+05    3.95e+05\n",
      "==============================================================================\n",
      "Omnibus:                    11171.826   Durbin-Watson:                   1.991\n",
      "Prob(Omnibus):                  0.000   Jarque-Bera (JB):           137174.764\n",
      "Skew:                           2.357   Prob(JB):                         0.00\n",
      "Kurtosis:                      14.741   Cond. No.                         136.\n",
      "==============================================================================\n",
      "\n",
      "Warnings:\n",
      "[1] Standard Errors assume that the covariance matrix of the errors is correctly specified.\n",
      "price~sqft_lot_log\n",
      "{'sqft_lot_log', 0.013746124219759404, 95221.07280909602, 7.257807747467038e-64, 47577.45153174372}\n",
      "                            OLS Regression Results                            \n",
      "==============================================================================\n",
      "Dep. Variable:                  price   R-squared:                       0.014\n",
      "Model:                            OLS   Adj. R-squared:                  0.014\n",
      "Method:                 Least Squares   F-statistic:                     286.6\n",
      "Date:                Sat, 15 Feb 2020   Prob (F-statistic):           7.26e-64\n",
      "Time:                        17:24:31   Log-Likelihood:            -2.8891e+05\n",
      "No. Observations:               20568   AIC:                         5.778e+05\n",
      "Df Residuals:                   20566   BIC:                         5.778e+05\n",
      "Df Model:                           1                                         \n",
      "Covariance Type:            nonrobust                                         \n",
      "================================================================================\n",
      "                   coef    std err          t      P>|t|      [0.025      0.975]\n",
      "--------------------------------------------------------------------------------\n",
      "Intercept     9.522e+04   2.51e+04      3.794      0.000     4.6e+04    1.44e+05\n",
      "sqft_lot_log  4.758e+04   2810.156     16.931      0.000    4.21e+04    5.31e+04\n",
      "==============================================================================\n",
      "Omnibus:                    11417.749   Durbin-Watson:                   1.966\n",
      "Prob(Omnibus):                  0.000   Jarque-Bera (JB):           123674.055\n",
      "Skew:                           2.477   Prob(JB):                         0.00\n",
      "Kurtosis:                      13.944   Cond. No.                         107.\n",
      "==============================================================================\n",
      "\n",
      "Warnings:\n",
      "[1] Standard Errors assume that the covariance matrix of the errors is correctly specified.\n",
      "price~sqft_living15_log\n",
      "{0.29292853189080514, 0.0, -3423394.387235461, 523806.68781536305, 'sqft_living15_log'}\n",
      "                            OLS Regression Results                            \n",
      "==============================================================================\n",
      "Dep. Variable:                  price   R-squared:                       0.293\n",
      "Model:                            OLS   Adj. R-squared:                  0.293\n",
      "Method:                 Least Squares   F-statistic:                     8520.\n",
      "Date:                Sat, 15 Feb 2020   Prob (F-statistic):               0.00\n",
      "Time:                        17:24:31   Log-Likelihood:            -2.8549e+05\n",
      "No. Observations:               20568   AIC:                         5.710e+05\n",
      "Df Residuals:                   20566   BIC:                         5.710e+05\n",
      "Df Model:                           1                                         \n",
      "Covariance Type:            nonrobust                                         \n",
      "=====================================================================================\n",
      "                        coef    std err          t      P>|t|      [0.025      0.975]\n",
      "-------------------------------------------------------------------------------------\n",
      "Intercept         -3.423e+06   4.27e+04    -80.091      0.000   -3.51e+06   -3.34e+06\n",
      "sqft_living15_log  5.238e+05   5674.753     92.305      0.000    5.13e+05    5.35e+05\n",
      "==============================================================================\n",
      "Omnibus:                    11663.697   Durbin-Watson:                   1.987\n",
      "Prob(Omnibus):                  0.000   Jarque-Bera (JB):           154458.878\n",
      "Skew:                           2.470   Prob(JB):                         0.00\n",
      "Kurtosis:                      15.483   Cond. No.                         182.\n",
      "==============================================================================\n",
      "\n",
      "Warnings:\n",
      "[1] Standard Errors assume that the covariance matrix of the errors is correctly specified.\n",
      "price~sqft_lot15_log\n",
      "{0.012037594042064614, 4.160097010268963e-56, 84333.44532360951, 'sqft_lot15_log', 48885.85791102706}\n",
      "                            OLS Regression Results                            \n",
      "==============================================================================\n",
      "Dep. Variable:                  price   R-squared:                       0.012\n",
      "Model:                            OLS   Adj. R-squared:                  0.012\n",
      "Method:                 Least Squares   F-statistic:                     250.6\n",
      "Date:                Sat, 15 Feb 2020   Prob (F-statistic):           4.16e-56\n",
      "Time:                        17:24:31   Log-Likelihood:            -2.8893e+05\n",
      "No. Observations:               20568   AIC:                         5.779e+05\n",
      "Df Residuals:                   20566   BIC:                         5.779e+05\n",
      "Df Model:                           1                                         \n",
      "Covariance Type:            nonrobust                                         \n",
      "==================================================================================\n",
      "                     coef    std err          t      P>|t|      [0.025      0.975]\n",
      "----------------------------------------------------------------------------------\n",
      "Intercept       8.433e+04   2.75e+04      3.065      0.002    3.04e+04    1.38e+05\n",
      "sqft_lot15_log  4.889e+04   3088.223     15.830      0.000    4.28e+04    5.49e+04\n",
      "==============================================================================\n",
      "Omnibus:                    11433.193   Durbin-Watson:                   1.968\n",
      "Prob(Omnibus):                  0.000   Jarque-Bera (JB):           124064.509\n",
      "Skew:                           2.481   Prob(JB):                         0.00\n",
      "Kurtosis:                      13.961   Cond. No.                         117.\n",
      "==============================================================================\n",
      "\n",
      "Warnings:\n",
      "[1] Standard Errors assume that the covariance matrix of the errors is correctly specified.\n"
     ]
    }
   ],
   "source": [
    "# OLS Regression\n",
    "\n",
    "#It didnt seem to work!\n",
    "\n",
    "import statsmodels.api as sm\n",
    "import statsmodels.formula.api as smf\n",
    "\n",
    "col_names = df_num.describe().columns #What does this?\n",
    "\n",
    "results = [['ind_var', 'r_squared', 'intercept', 'slope', 'p_value ']] #creating an array of results we care about\n",
    "\n",
    "for idx, val in enumerate(col_names):\n",
    "    print('price~' + val)\n",
    "    f = 'price~' + val\n",
    "    model = smf.ols(formula=f, data=df_num).fit()\n",
    "    X_new = pd.DataFrame({val: [df_num[val].min(), df_num[val].max()]});\n",
    "    preds = model.predict(X_new)\n",
    "    results.append({val, model.rsquared, model.params[0], model.params[1], model.pvalues[1]})\n",
    "\n",
    "    print(results[idx+1])\n",
    "    print(model.summary())"
   ]
  },
  {
   "cell_type": "markdown",
   "metadata": {},
   "source": [
    "# Numerical Only Regresision"
   ]
  },
  {
   "cell_type": "code",
   "execution_count": 76,
   "metadata": {},
   "outputs": [
    {
     "data": {
      "text/html": [
       "<div>\n",
       "<style scoped>\n",
       "    .dataframe tbody tr th:only-of-type {\n",
       "        vertical-align: middle;\n",
       "    }\n",
       "\n",
       "    .dataframe tbody tr th {\n",
       "        vertical-align: top;\n",
       "    }\n",
       "\n",
       "    .dataframe thead th {\n",
       "        text-align: right;\n",
       "    }\n",
       "</style>\n",
       "<table border=\"1\" class=\"dataframe\">\n",
       "  <thead>\n",
       "    <tr style=\"text-align: right;\">\n",
       "      <th></th>\n",
       "      <th>price</th>\n",
       "      <th>bedrooms</th>\n",
       "      <th>bathrooms</th>\n",
       "      <th>sqft_living</th>\n",
       "      <th>sqft_lot</th>\n",
       "      <th>floors</th>\n",
       "      <th>waterfront</th>\n",
       "      <th>view</th>\n",
       "      <th>condition</th>\n",
       "      <th>grade</th>\n",
       "      <th>sqft_above</th>\n",
       "      <th>sqft_basement</th>\n",
       "      <th>yr_built</th>\n",
       "      <th>yr_renovated</th>\n",
       "      <th>zipcode</th>\n",
       "      <th>lat</th>\n",
       "      <th>long</th>\n",
       "      <th>sqft_living15</th>\n",
       "      <th>sqft_lot15</th>\n",
       "    </tr>\n",
       "  </thead>\n",
       "  <tbody>\n",
       "    <tr>\n",
       "      <td>count</td>\n",
       "      <td>19394.000000</td>\n",
       "      <td>19394.000000</td>\n",
       "      <td>19394.000000</td>\n",
       "      <td>19394.000000</td>\n",
       "      <td>19394.000000</td>\n",
       "      <td>19394.000000</td>\n",
       "      <td>19394.000000</td>\n",
       "      <td>19394.000000</td>\n",
       "      <td>19394.000000</td>\n",
       "      <td>19394.000000</td>\n",
       "      <td>19394.000000</td>\n",
       "      <td>19394.000000</td>\n",
       "      <td>19394.000000</td>\n",
       "      <td>19394.000000</td>\n",
       "      <td>19394.000000</td>\n",
       "      <td>19394.000000</td>\n",
       "      <td>19394.000000</td>\n",
       "      <td>19394.000000</td>\n",
       "      <td>19394.000000</td>\n",
       "    </tr>\n",
       "    <tr>\n",
       "      <td>mean</td>\n",
       "      <td>464344.259616</td>\n",
       "      <td>3.314169</td>\n",
       "      <td>2.030435</td>\n",
       "      <td>1934.837011</td>\n",
       "      <td>9811.660204</td>\n",
       "      <td>1.471821</td>\n",
       "      <td>0.002372</td>\n",
       "      <td>0.154171</td>\n",
       "      <td>3.407703</td>\n",
       "      <td>7.493658</td>\n",
       "      <td>1674.932608</td>\n",
       "      <td>254.289058</td>\n",
       "      <td>1970.633650</td>\n",
       "      <td>410.647623</td>\n",
       "      <td>98079.377179</td>\n",
       "      <td>47.558005</td>\n",
       "      <td>-122.217229</td>\n",
       "      <td>1897.099722</td>\n",
       "      <td>9213.057286</td>\n",
       "    </tr>\n",
       "    <tr>\n",
       "      <td>std</td>\n",
       "      <td>194611.680215</td>\n",
       "      <td>0.865549</td>\n",
       "      <td>0.692493</td>\n",
       "      <td>728.711322</td>\n",
       "      <td>10606.555760</td>\n",
       "      <td>0.538104</td>\n",
       "      <td>0.048645</td>\n",
       "      <td>0.602896</td>\n",
       "      <td>0.645053</td>\n",
       "      <td>0.995263</td>\n",
       "      <td>692.668128</td>\n",
       "      <td>393.426251</td>\n",
       "      <td>29.213787</td>\n",
       "      <td>801.308969</td>\n",
       "      <td>53.519492</td>\n",
       "      <td>0.140594</td>\n",
       "      <td>0.139285</td>\n",
       "      <td>594.008619</td>\n",
       "      <td>9261.596249</td>\n",
       "    </tr>\n",
       "    <tr>\n",
       "      <td>min</td>\n",
       "      <td>78000.000000</td>\n",
       "      <td>1.000000</td>\n",
       "      <td>0.500000</td>\n",
       "      <td>370.000000</td>\n",
       "      <td>520.000000</td>\n",
       "      <td>1.000000</td>\n",
       "      <td>0.000000</td>\n",
       "      <td>0.000000</td>\n",
       "      <td>1.000000</td>\n",
       "      <td>4.000000</td>\n",
       "      <td>370.000000</td>\n",
       "      <td>0.000000</td>\n",
       "      <td>1900.000000</td>\n",
       "      <td>0.000000</td>\n",
       "      <td>98001.000000</td>\n",
       "      <td>47.155900</td>\n",
       "      <td>-122.512000</td>\n",
       "      <td>460.000000</td>\n",
       "      <td>651.000000</td>\n",
       "    </tr>\n",
       "    <tr>\n",
       "      <td>25%</td>\n",
       "      <td>311000.000000</td>\n",
       "      <td>3.000000</td>\n",
       "      <td>1.500000</td>\n",
       "      <td>1390.000000</td>\n",
       "      <td>5000.000000</td>\n",
       "      <td>1.000000</td>\n",
       "      <td>0.000000</td>\n",
       "      <td>0.000000</td>\n",
       "      <td>3.000000</td>\n",
       "      <td>7.000000</td>\n",
       "      <td>1160.000000</td>\n",
       "      <td>0.000000</td>\n",
       "      <td>1951.000000</td>\n",
       "      <td>0.000000</td>\n",
       "      <td>98033.000000</td>\n",
       "      <td>47.462900</td>\n",
       "      <td>-122.331000</td>\n",
       "      <td>1460.000000</td>\n",
       "      <td>5000.000000</td>\n",
       "    </tr>\n",
       "    <tr>\n",
       "      <td>50%</td>\n",
       "      <td>430000.000000</td>\n",
       "      <td>3.000000</td>\n",
       "      <td>2.000000</td>\n",
       "      <td>1830.000000</td>\n",
       "      <td>7390.000000</td>\n",
       "      <td>1.000000</td>\n",
       "      <td>0.000000</td>\n",
       "      <td>0.000000</td>\n",
       "      <td>3.000000</td>\n",
       "      <td>7.000000</td>\n",
       "      <td>1490.000000</td>\n",
       "      <td>0.000000</td>\n",
       "      <td>1974.000000</td>\n",
       "      <td>0.000000</td>\n",
       "      <td>98072.000000</td>\n",
       "      <td>47.567250</td>\n",
       "      <td>-122.240000</td>\n",
       "      <td>1780.000000</td>\n",
       "      <td>7475.000000</td>\n",
       "    </tr>\n",
       "    <tr>\n",
       "      <td>75%</td>\n",
       "      <td>589000.000000</td>\n",
       "      <td>4.000000</td>\n",
       "      <td>2.500000</td>\n",
       "      <td>2390.000000</td>\n",
       "      <td>9990.000000</td>\n",
       "      <td>2.000000</td>\n",
       "      <td>0.000000</td>\n",
       "      <td>0.000000</td>\n",
       "      <td>4.000000</td>\n",
       "      <td>8.000000</td>\n",
       "      <td>2050.000000</td>\n",
       "      <td>500.000000</td>\n",
       "      <td>1996.000000</td>\n",
       "      <td>0.000000</td>\n",
       "      <td>98118.000000</td>\n",
       "      <td>47.680800</td>\n",
       "      <td>-122.129000</td>\n",
       "      <td>2240.000000</td>\n",
       "      <td>9638.750000</td>\n",
       "    </tr>\n",
       "    <tr>\n",
       "      <td>max</td>\n",
       "      <td>999999.000000</td>\n",
       "      <td>7.000000</td>\n",
       "      <td>5.750000</td>\n",
       "      <td>4940.000000</td>\n",
       "      <td>99916.000000</td>\n",
       "      <td>3.500000</td>\n",
       "      <td>1.000000</td>\n",
       "      <td>4.000000</td>\n",
       "      <td>5.000000</td>\n",
       "      <td>11.000000</td>\n",
       "      <td>4480.000000</td>\n",
       "      <td>1990.000000</td>\n",
       "      <td>2015.000000</td>\n",
       "      <td>2015.000000</td>\n",
       "      <td>98199.000000</td>\n",
       "      <td>47.777600</td>\n",
       "      <td>-121.315000</td>\n",
       "      <td>4495.000000</td>\n",
       "      <td>99316.000000</td>\n",
       "    </tr>\n",
       "  </tbody>\n",
       "</table>\n",
       "</div>"
      ],
      "text/plain": [
       "               price      bedrooms     bathrooms   sqft_living      sqft_lot  \\\n",
       "count   19394.000000  19394.000000  19394.000000  19394.000000  19394.000000   \n",
       "mean   464344.259616      3.314169      2.030435   1934.837011   9811.660204   \n",
       "std    194611.680215      0.865549      0.692493    728.711322  10606.555760   \n",
       "min     78000.000000      1.000000      0.500000    370.000000    520.000000   \n",
       "25%    311000.000000      3.000000      1.500000   1390.000000   5000.000000   \n",
       "50%    430000.000000      3.000000      2.000000   1830.000000   7390.000000   \n",
       "75%    589000.000000      4.000000      2.500000   2390.000000   9990.000000   \n",
       "max    999999.000000      7.000000      5.750000   4940.000000  99916.000000   \n",
       "\n",
       "             floors    waterfront          view     condition         grade  \\\n",
       "count  19394.000000  19394.000000  19394.000000  19394.000000  19394.000000   \n",
       "mean       1.471821      0.002372      0.154171      3.407703      7.493658   \n",
       "std        0.538104      0.048645      0.602896      0.645053      0.995263   \n",
       "min        1.000000      0.000000      0.000000      1.000000      4.000000   \n",
       "25%        1.000000      0.000000      0.000000      3.000000      7.000000   \n",
       "50%        1.000000      0.000000      0.000000      3.000000      7.000000   \n",
       "75%        2.000000      0.000000      0.000000      4.000000      8.000000   \n",
       "max        3.500000      1.000000      4.000000      5.000000     11.000000   \n",
       "\n",
       "         sqft_above  sqft_basement      yr_built  yr_renovated       zipcode  \\\n",
       "count  19394.000000   19394.000000  19394.000000  19394.000000  19394.000000   \n",
       "mean    1674.932608     254.289058   1970.633650    410.647623  98079.377179   \n",
       "std      692.668128     393.426251     29.213787    801.308969     53.519492   \n",
       "min      370.000000       0.000000   1900.000000      0.000000  98001.000000   \n",
       "25%     1160.000000       0.000000   1951.000000      0.000000  98033.000000   \n",
       "50%     1490.000000       0.000000   1974.000000      0.000000  98072.000000   \n",
       "75%     2050.000000     500.000000   1996.000000      0.000000  98118.000000   \n",
       "max     4480.000000    1990.000000   2015.000000   2015.000000  98199.000000   \n",
       "\n",
       "                lat          long  sqft_living15    sqft_lot15  \n",
       "count  19394.000000  19394.000000   19394.000000  19394.000000  \n",
       "mean      47.558005   -122.217229    1897.099722   9213.057286  \n",
       "std        0.140594      0.139285     594.008619   9261.596249  \n",
       "min       47.155900   -122.512000     460.000000    651.000000  \n",
       "25%       47.462900   -122.331000    1460.000000   5000.000000  \n",
       "50%       47.567250   -122.240000    1780.000000   7475.000000  \n",
       "75%       47.680800   -122.129000    2240.000000   9638.750000  \n",
       "max       47.777600   -121.315000    4495.000000  99316.000000  "
      ]
     },
     "execution_count": 76,
     "metadata": {},
     "output_type": "execute_result"
    }
   ],
   "source": [
    "# Numerical Only Regression\n",
    "\n",
    "df.describe()"
   ]
  },
  {
   "cell_type": "code",
   "execution_count": 77,
   "metadata": {},
   "outputs": [
    {
     "data": {
      "text/plain": [
       "Index(['price', 'bedrooms', 'bathrooms', 'floors', 'sqft_living', 'sqft_lot',\n",
       "       'sqft_above', 'sqft_basement', 'sqft_living15', 'sqft_lot15',\n",
       "       'sqft_living_log', 'sqft_above_log', 'sqft_lot_log',\n",
       "       'sqft_living15_log', 'sqft_lot15_log'],\n",
       "      dtype='object')"
      ]
     },
     "execution_count": 77,
     "metadata": {},
     "output_type": "execute_result"
    }
   ],
   "source": [
    "df_num.columns"
   ]
  },
  {
   "cell_type": "code",
   "execution_count": 78,
   "metadata": {},
   "outputs": [],
   "source": [
    "outcome  = 'price'\n",
    "\n",
    "x_cols = ['bedrooms', 'bathrooms', 'floors','sqft_living_log', 'sqft_above_log', 'sqft_lot_log',\n",
    "       'sqft_living15_log', 'sqft_lot15_log']"
   ]
  },
  {
   "cell_type": "code",
   "execution_count": 79,
   "metadata": {},
   "outputs": [],
   "source": [
    "from statsmodels.formula.api import ols"
   ]
  },
  {
   "cell_type": "code",
   "execution_count": 80,
   "metadata": {},
   "outputs": [
    {
     "data": {
      "text/html": [
       "<table class=\"simpletable\">\n",
       "<caption>OLS Regression Results</caption>\n",
       "<tr>\n",
       "  <th>Dep. Variable:</th>          <td>price</td>      <th>  R-squared:         </th>  <td>   0.400</td>  \n",
       "</tr>\n",
       "<tr>\n",
       "  <th>Model:</th>                   <td>OLS</td>       <th>  Adj. R-squared:    </th>  <td>   0.399</td>  \n",
       "</tr>\n",
       "<tr>\n",
       "  <th>Method:</th>             <td>Least Squares</td>  <th>  F-statistic:       </th>  <td>   1711.</td>  \n",
       "</tr>\n",
       "<tr>\n",
       "  <th>Date:</th>             <td>Sat, 15 Feb 2020</td> <th>  Prob (F-statistic):</th>   <td>  0.00</td>   \n",
       "</tr>\n",
       "<tr>\n",
       "  <th>Time:</th>                 <td>19:57:54</td>     <th>  Log-Likelihood:    </th> <td>-2.8380e+05</td>\n",
       "</tr>\n",
       "<tr>\n",
       "  <th>No. Observations:</th>      <td> 20568</td>      <th>  AIC:               </th>  <td>5.676e+05</td> \n",
       "</tr>\n",
       "<tr>\n",
       "  <th>Df Residuals:</th>          <td> 20559</td>      <th>  BIC:               </th>  <td>5.677e+05</td> \n",
       "</tr>\n",
       "<tr>\n",
       "  <th>Df Model:</th>              <td>     8</td>      <th>                     </th>      <td> </td>     \n",
       "</tr>\n",
       "<tr>\n",
       "  <th>Covariance Type:</th>      <td>nonrobust</td>    <th>                     </th>      <td> </td>     \n",
       "</tr>\n",
       "</table>\n",
       "<table class=\"simpletable\">\n",
       "<tr>\n",
       "          <td></td>             <th>coef</th>     <th>std err</th>      <th>t</th>      <th>P>|t|</th>  <th>[0.025</th>    <th>0.975]</th>  \n",
       "</tr>\n",
       "<tr>\n",
       "  <th>Intercept</th>         <td>-3.929e+06</td> <td> 5.24e+04</td> <td>  -74.953</td> <td> 0.000</td> <td>-4.03e+06</td> <td>-3.83e+06</td>\n",
       "</tr>\n",
       "<tr>\n",
       "  <th>bedrooms</th>          <td>-1.529e+05</td> <td> 7959.348</td> <td>  -19.212</td> <td> 0.000</td> <td>-1.69e+05</td> <td>-1.37e+05</td>\n",
       "</tr>\n",
       "<tr>\n",
       "  <th>bathrooms</th>         <td>-4.795e+04</td> <td> 7123.561</td> <td>   -6.731</td> <td> 0.000</td> <td>-6.19e+04</td> <td> -3.4e+04</td>\n",
       "</tr>\n",
       "<tr>\n",
       "  <th>floors</th>            <td> 9902.0816</td> <td> 7535.749</td> <td>    1.314</td> <td> 0.189</td> <td>-4868.585</td> <td> 2.47e+04</td>\n",
       "</tr>\n",
       "<tr>\n",
       "  <th>sqft_living_log</th>   <td> 4.546e+05</td> <td> 1.06e+04</td> <td>   42.890</td> <td> 0.000</td> <td> 4.34e+05</td> <td> 4.75e+05</td>\n",
       "</tr>\n",
       "<tr>\n",
       "  <th>sqft_above_log</th>    <td>-2.449e+04</td> <td> 9975.294</td> <td>   -2.455</td> <td> 0.014</td> <td> -4.4e+04</td> <td>-4937.675</td>\n",
       "</tr>\n",
       "<tr>\n",
       "  <th>sqft_lot_log</th>      <td>-2.374e+04</td> <td> 5599.648</td> <td>   -4.240</td> <td> 0.000</td> <td>-3.47e+04</td> <td>-1.28e+04</td>\n",
       "</tr>\n",
       "<tr>\n",
       "  <th>sqft_living15_log</th> <td> 2.442e+05</td> <td> 8245.771</td> <td>   29.619</td> <td> 0.000</td> <td> 2.28e+05</td> <td>  2.6e+05</td>\n",
       "</tr>\n",
       "<tr>\n",
       "  <th>sqft_lot15_log</th>    <td>-2.401e+04</td> <td> 5975.677</td> <td>   -4.017</td> <td> 0.000</td> <td>-3.57e+04</td> <td>-1.23e+04</td>\n",
       "</tr>\n",
       "</table>\n",
       "<table class=\"simpletable\">\n",
       "<tr>\n",
       "  <th>Omnibus:</th>       <td>11547.538</td> <th>  Durbin-Watson:     </th>  <td>   1.991</td> \n",
       "</tr>\n",
       "<tr>\n",
       "  <th>Prob(Omnibus):</th>  <td> 0.000</td>   <th>  Jarque-Bera (JB):  </th> <td>170223.737</td>\n",
       "</tr>\n",
       "<tr>\n",
       "  <th>Skew:</th>           <td> 2.395</td>   <th>  Prob(JB):          </th>  <td>    0.00</td> \n",
       "</tr>\n",
       "<tr>\n",
       "  <th>Kurtosis:</th>       <td>16.254</td>   <th>  Cond. No.          </th>  <td>    578.</td> \n",
       "</tr>\n",
       "</table><br/><br/>Warnings:<br/>[1] Standard Errors assume that the covariance matrix of the errors is correctly specified."
      ],
      "text/plain": [
       "<class 'statsmodels.iolib.summary.Summary'>\n",
       "\"\"\"\n",
       "                            OLS Regression Results                            \n",
       "==============================================================================\n",
       "Dep. Variable:                  price   R-squared:                       0.400\n",
       "Model:                            OLS   Adj. R-squared:                  0.399\n",
       "Method:                 Least Squares   F-statistic:                     1711.\n",
       "Date:                Sat, 15 Feb 2020   Prob (F-statistic):               0.00\n",
       "Time:                        19:57:54   Log-Likelihood:            -2.8380e+05\n",
       "No. Observations:               20568   AIC:                         5.676e+05\n",
       "Df Residuals:                   20559   BIC:                         5.677e+05\n",
       "Df Model:                           8                                         \n",
       "Covariance Type:            nonrobust                                         \n",
       "=====================================================================================\n",
       "                        coef    std err          t      P>|t|      [0.025      0.975]\n",
       "-------------------------------------------------------------------------------------\n",
       "Intercept         -3.929e+06   5.24e+04    -74.953      0.000   -4.03e+06   -3.83e+06\n",
       "bedrooms          -1.529e+05   7959.348    -19.212      0.000   -1.69e+05   -1.37e+05\n",
       "bathrooms         -4.795e+04   7123.561     -6.731      0.000   -6.19e+04    -3.4e+04\n",
       "floors             9902.0816   7535.749      1.314      0.189   -4868.585    2.47e+04\n",
       "sqft_living_log    4.546e+05   1.06e+04     42.890      0.000    4.34e+05    4.75e+05\n",
       "sqft_above_log    -2.449e+04   9975.294     -2.455      0.014    -4.4e+04   -4937.675\n",
       "sqft_lot_log      -2.374e+04   5599.648     -4.240      0.000   -3.47e+04   -1.28e+04\n",
       "sqft_living15_log  2.442e+05   8245.771     29.619      0.000    2.28e+05     2.6e+05\n",
       "sqft_lot15_log    -2.401e+04   5975.677     -4.017      0.000   -3.57e+04   -1.23e+04\n",
       "==============================================================================\n",
       "Omnibus:                    11547.538   Durbin-Watson:                   1.991\n",
       "Prob(Omnibus):                  0.000   Jarque-Bera (JB):           170223.737\n",
       "Skew:                           2.395   Prob(JB):                         0.00\n",
       "Kurtosis:                      16.254   Cond. No.                         578.\n",
       "==============================================================================\n",
       "\n",
       "Warnings:\n",
       "[1] Standard Errors assume that the covariance matrix of the errors is correctly specified.\n",
       "\"\"\""
      ]
     },
     "execution_count": 80,
     "metadata": {},
     "output_type": "execute_result"
    }
   ],
   "source": [
    "# Fitting the actual model\n",
    "predictors = '+'.join(x_cols)\n",
    "formula = outcome + '~' + predictors\n",
    "model = ols(formula=formula, data=df_num).fit()\n",
    "model.summary()"
   ]
  },
  {
   "cell_type": "code",
   "execution_count": 81,
   "metadata": {},
   "outputs": [],
   "source": [
    "# Dropping high p values "
   ]
  },
  {
   "cell_type": "code",
   "execution_count": 82,
   "metadata": {},
   "outputs": [],
   "source": [
    "outcome  = 'price'\n",
    "\n",
    "x_cols = ['bedrooms', 'bathrooms','sqft_living_log', 'sqft_above_log', 'sqft_lot_log',\n",
    "       'sqft_living15_log', 'sqft_lot15_log']"
   ]
  },
  {
   "cell_type": "code",
   "execution_count": 83,
   "metadata": {},
   "outputs": [
    {
     "data": {
      "text/html": [
       "<table class=\"simpletable\">\n",
       "<caption>OLS Regression Results</caption>\n",
       "<tr>\n",
       "  <th>Dep. Variable:</th>          <td>price</td>      <th>  R-squared:         </th>  <td>   0.400</td>  \n",
       "</tr>\n",
       "<tr>\n",
       "  <th>Model:</th>                   <td>OLS</td>       <th>  Adj. R-squared:    </th>  <td>   0.399</td>  \n",
       "</tr>\n",
       "<tr>\n",
       "  <th>Method:</th>             <td>Least Squares</td>  <th>  F-statistic:       </th>  <td>   1955.</td>  \n",
       "</tr>\n",
       "<tr>\n",
       "  <th>Date:</th>             <td>Sat, 15 Feb 2020</td> <th>  Prob (F-statistic):</th>   <td>  0.00</td>   \n",
       "</tr>\n",
       "<tr>\n",
       "  <th>Time:</th>                 <td>19:57:56</td>     <th>  Log-Likelihood:    </th> <td>-2.8380e+05</td>\n",
       "</tr>\n",
       "<tr>\n",
       "  <th>No. Observations:</th>      <td> 20568</td>      <th>  AIC:               </th>  <td>5.676e+05</td> \n",
       "</tr>\n",
       "<tr>\n",
       "  <th>Df Residuals:</th>          <td> 20560</td>      <th>  BIC:               </th>  <td>5.677e+05</td> \n",
       "</tr>\n",
       "<tr>\n",
       "  <th>Df Model:</th>              <td>     7</td>      <th>                     </th>      <td> </td>     \n",
       "</tr>\n",
       "<tr>\n",
       "  <th>Covariance Type:</th>      <td>nonrobust</td>    <th>                     </th>      <td> </td>     \n",
       "</tr>\n",
       "</table>\n",
       "<table class=\"simpletable\">\n",
       "<tr>\n",
       "          <td></td>             <th>coef</th>     <th>std err</th>      <th>t</th>      <th>P>|t|</th>  <th>[0.025</th>    <th>0.975]</th>  \n",
       "</tr>\n",
       "<tr>\n",
       "  <th>Intercept</th>         <td>-3.938e+06</td> <td>  5.2e+04</td> <td>  -75.780</td> <td> 0.000</td> <td>-4.04e+06</td> <td>-3.84e+06</td>\n",
       "</tr>\n",
       "<tr>\n",
       "  <th>bedrooms</th>          <td>-1.537e+05</td> <td> 7938.441</td> <td>  -19.358</td> <td> 0.000</td> <td>-1.69e+05</td> <td>-1.38e+05</td>\n",
       "</tr>\n",
       "<tr>\n",
       "  <th>bathrooms</th>         <td>-4.551e+04</td> <td> 6878.264</td> <td>   -6.617</td> <td> 0.000</td> <td> -5.9e+04</td> <td> -3.2e+04</td>\n",
       "</tr>\n",
       "<tr>\n",
       "  <th>sqft_living_log</th>   <td> 4.508e+05</td> <td> 1.02e+04</td> <td>   44.167</td> <td> 0.000</td> <td> 4.31e+05</td> <td> 4.71e+05</td>\n",
       "</tr>\n",
       "<tr>\n",
       "  <th>sqft_above_log</th>    <td>-1.658e+04</td> <td> 7955.558</td> <td>   -2.084</td> <td> 0.037</td> <td>-3.22e+04</td> <td> -988.617</td>\n",
       "</tr>\n",
       "<tr>\n",
       "  <th>sqft_lot_log</th>      <td>-2.527e+04</td> <td> 5477.270</td> <td>   -4.614</td> <td> 0.000</td> <td> -3.6e+04</td> <td>-1.45e+04</td>\n",
       "</tr>\n",
       "<tr>\n",
       "  <th>sqft_living15_log</th> <td> 2.441e+05</td> <td> 8245.357</td> <td>   29.605</td> <td> 0.000</td> <td> 2.28e+05</td> <td>  2.6e+05</td>\n",
       "</tr>\n",
       "<tr>\n",
       "  <th>sqft_lot15_log</th>    <td>-2.444e+04</td> <td> 5966.568</td> <td>   -4.096</td> <td> 0.000</td> <td>-3.61e+04</td> <td>-1.27e+04</td>\n",
       "</tr>\n",
       "</table>\n",
       "<table class=\"simpletable\">\n",
       "<tr>\n",
       "  <th>Omnibus:</th>       <td>11539.959</td> <th>  Durbin-Watson:     </th>  <td>   1.991</td> \n",
       "</tr>\n",
       "<tr>\n",
       "  <th>Prob(Omnibus):</th>  <td> 0.000</td>   <th>  Jarque-Bera (JB):  </th> <td>169961.729</td>\n",
       "</tr>\n",
       "<tr>\n",
       "  <th>Skew:</th>           <td> 2.394</td>   <th>  Prob(JB):          </th>  <td>    0.00</td> \n",
       "</tr>\n",
       "<tr>\n",
       "  <th>Kurtosis:</th>       <td>16.244</td>   <th>  Cond. No.          </th>  <td>    573.</td> \n",
       "</tr>\n",
       "</table><br/><br/>Warnings:<br/>[1] Standard Errors assume that the covariance matrix of the errors is correctly specified."
      ],
      "text/plain": [
       "<class 'statsmodels.iolib.summary.Summary'>\n",
       "\"\"\"\n",
       "                            OLS Regression Results                            \n",
       "==============================================================================\n",
       "Dep. Variable:                  price   R-squared:                       0.400\n",
       "Model:                            OLS   Adj. R-squared:                  0.399\n",
       "Method:                 Least Squares   F-statistic:                     1955.\n",
       "Date:                Sat, 15 Feb 2020   Prob (F-statistic):               0.00\n",
       "Time:                        19:57:56   Log-Likelihood:            -2.8380e+05\n",
       "No. Observations:               20568   AIC:                         5.676e+05\n",
       "Df Residuals:                   20560   BIC:                         5.677e+05\n",
       "Df Model:                           7                                         \n",
       "Covariance Type:            nonrobust                                         \n",
       "=====================================================================================\n",
       "                        coef    std err          t      P>|t|      [0.025      0.975]\n",
       "-------------------------------------------------------------------------------------\n",
       "Intercept         -3.938e+06    5.2e+04    -75.780      0.000   -4.04e+06   -3.84e+06\n",
       "bedrooms          -1.537e+05   7938.441    -19.358      0.000   -1.69e+05   -1.38e+05\n",
       "bathrooms         -4.551e+04   6878.264     -6.617      0.000    -5.9e+04    -3.2e+04\n",
       "sqft_living_log    4.508e+05   1.02e+04     44.167      0.000    4.31e+05    4.71e+05\n",
       "sqft_above_log    -1.658e+04   7955.558     -2.084      0.037   -3.22e+04    -988.617\n",
       "sqft_lot_log      -2.527e+04   5477.270     -4.614      0.000    -3.6e+04   -1.45e+04\n",
       "sqft_living15_log  2.441e+05   8245.357     29.605      0.000    2.28e+05     2.6e+05\n",
       "sqft_lot15_log    -2.444e+04   5966.568     -4.096      0.000   -3.61e+04   -1.27e+04\n",
       "==============================================================================\n",
       "Omnibus:                    11539.959   Durbin-Watson:                   1.991\n",
       "Prob(Omnibus):                  0.000   Jarque-Bera (JB):           169961.729\n",
       "Skew:                           2.394   Prob(JB):                         0.00\n",
       "Kurtosis:                      16.244   Cond. No.                         573.\n",
       "==============================================================================\n",
       "\n",
       "Warnings:\n",
       "[1] Standard Errors assume that the covariance matrix of the errors is correctly specified.\n",
       "\"\"\""
      ]
     },
     "execution_count": 83,
     "metadata": {},
     "output_type": "execute_result"
    }
   ],
   "source": [
    "# Fitting the actual model\n",
    "predictors = '+'.join(x_cols)\n",
    "formula = outcome + '~' + predictors\n",
    "model = ols(formula=formula, data=df_num).fit()\n",
    "model.summary()"
   ]
  },
  {
   "cell_type": "code",
   "execution_count": 84,
   "metadata": {},
   "outputs": [],
   "source": [
    "# Validate the model "
   ]
  },
  {
   "cell_type": "code",
   "execution_count": 85,
   "metadata": {},
   "outputs": [],
   "source": [
    "y  = df_num['price']\n",
    "\n",
    "X = df_num[['bedrooms', 'bathrooms','sqft_living_log', 'sqft_above_log', 'sqft_lot_log',\n",
    "       'sqft_living15_log', 'sqft_lot15_log']]"
   ]
  },
  {
   "cell_type": "code",
   "execution_count": 86,
   "metadata": {},
   "outputs": [],
   "source": [
    "from sklearn.model_selection import train_test_split"
   ]
  },
  {
   "cell_type": "code",
   "execution_count": 87,
   "metadata": {},
   "outputs": [],
   "source": [
    "X_train, X_test, y_train, y_test = train_test_split(X, y)"
   ]
  },
  {
   "cell_type": "code",
   "execution_count": 88,
   "metadata": {},
   "outputs": [
    {
     "name": "stdout",
     "output_type": "stream",
     "text": [
      "15426 5142 15426 5142\n"
     ]
    }
   ],
   "source": [
    "# A brief preview of our train test split\n",
    "print(len(X_train), len(X_test), len(y_train), len(y_test))"
   ]
  },
  {
   "cell_type": "code",
   "execution_count": 89,
   "metadata": {},
   "outputs": [],
   "source": [
    "from sklearn.linear_model import LinearRegression\n",
    "linreg = LinearRegression()"
   ]
  },
  {
   "cell_type": "code",
   "execution_count": 90,
   "metadata": {},
   "outputs": [
    {
     "data": {
      "text/plain": [
       "LinearRegression(copy_X=True, fit_intercept=True, n_jobs=None, normalize=False)"
      ]
     },
     "execution_count": 90,
     "metadata": {},
     "output_type": "execute_result"
    }
   ],
   "source": [
    "linreg.fit(X_train, y_train)"
   ]
  },
  {
   "cell_type": "code",
   "execution_count": 91,
   "metadata": {},
   "outputs": [
    {
     "data": {
      "text/plain": [
       "LinearRegression(copy_X=True, fit_intercept=True, n_jobs=1, normalize=False)"
      ]
     },
     "execution_count": 91,
     "metadata": {},
     "output_type": "execute_result"
    }
   ],
   "source": [
    "LinearRegression(copy_X=True, fit_intercept=True, n_jobs=1, normalize=False)"
   ]
  },
  {
   "cell_type": "code",
   "execution_count": 92,
   "metadata": {},
   "outputs": [],
   "source": [
    "y_hat_train = linreg.predict(X_train)\n",
    "y_hat_test = linreg.predict(X_test)"
   ]
  },
  {
   "cell_type": "code",
   "execution_count": 93,
   "metadata": {},
   "outputs": [],
   "source": [
    "y_hat_train = linreg.predict(X_train)\n",
    "y_hat_test = linreg.predict(X_test)"
   ]
  },
  {
   "cell_type": "code",
   "execution_count": 94,
   "metadata": {},
   "outputs": [],
   "source": [
    "# Calculate Mean Squared Error (MSE)\n",
    "# A good way to compare overall performance is to compare the mean squarred error for the predicted values on the training and test sets."
   ]
  },
  {
   "cell_type": "code",
   "execution_count": 95,
   "metadata": {},
   "outputs": [],
   "source": [
    "from sklearn.metrics import mean_squared_error"
   ]
  },
  {
   "cell_type": "code",
   "execution_count": 96,
   "metadata": {},
   "outputs": [
    {
     "name": "stdout",
     "output_type": "stream",
     "text": [
      "Train Mean Squarred Error: 56332652388.41013\n",
      "Test Mean Squarred Error: 57346802082.47688\n"
     ]
    }
   ],
   "source": [
    "train_mse = mean_squared_error(y_train, y_hat_train)\n",
    "test_mse = mean_squared_error(y_test, y_hat_test)\n",
    "print('Train Mean Squarred Error:', train_mse)\n",
    "print('Test Mean Squarred Error:', test_mse)"
   ]
  },
  {
   "cell_type": "code",
   "execution_count": 97,
   "metadata": {},
   "outputs": [
    {
     "data": {
      "text/plain": [
       "239471.92336989506"
      ]
     },
     "execution_count": 97,
     "metadata": {},
     "output_type": "execute_result"
    }
   ],
   "source": [
    "import math\n",
    "\n",
    "math.sqrt(test_mse)"
   ]
  },
  {
   "cell_type": "code",
   "execution_count": 98,
   "metadata": {},
   "outputs": [
    {
     "data": {
      "text/plain": [
       "<matplotlib.legend.Legend at 0x22e2815d508>"
      ]
     },
     "execution_count": 98,
     "metadata": {},
     "output_type": "execute_result"
    },
    {
     "data": {
      "image/png": "[encoded data removed]",
      "text/plain": [
       "<Figure size 432x288 with 1 Axes>"
      ]
     },
     "metadata": {
      "needs_background": "light"
     },
     "output_type": "display_data"
    }
   ],
   "source": [
    "import random\n",
    "random.seed(11)\n",
    "\n",
    "train_err = []\n",
    "test_err = []\n",
    "t_sizes = list(range(5,100,5))\n",
    "for t_size in t_sizes:\n",
    "    X_train, X_test, y_train, y_test = train_test_split(X, y, test_size=t_size/100)\n",
    "    linreg.fit(X_train, y_train)\n",
    "    y_hat_train = linreg.predict(X_train)\n",
    "    y_hat_test = linreg.predict(X_test)\n",
    "    train_err.append(mean_squared_error(y_train, y_hat_train))\n",
    "    test_err.append(mean_squared_error(y_test, y_hat_test))\n",
    "plt.scatter(t_sizes, train_err, label='Training Error')\n",
    "plt.scatter(t_sizes, test_err, label='Testing Error')\n",
    "plt.legend()"
   ]
  },
  {
   "cell_type": "code",
   "execution_count": 99,
   "metadata": {},
   "outputs": [],
   "source": [
    "# Repeat the previous example, but for each train-test split size, generate 100 iterations of models/errors and save the average train/test error. This will help account for any particularly good/bad models that might have resulted from poor/good splits in the data.\n"
   ]
  },
  {
   "cell_type": "code",
   "execution_count": 100,
   "metadata": {},
   "outputs": [
    {
     "data": {
      "text/plain": [
       "<matplotlib.legend.Legend at 0x22e23f98808>"
      ]
     },
     "execution_count": 100,
     "metadata": {},
     "output_type": "execute_result"
    },
    {
     "data": {
      "image/png": "[encoded data removed]",
      "text/plain": [
       "<Figure size 432x288 with 1 Axes>"
      ]
     },
     "metadata": {
      "needs_background": "light"
     },
     "output_type": "display_data"
    }
   ],
   "source": [
    "import random\n",
    "random.seed(11)\n",
    "\n",
    "train_err = []\n",
    "test_err = []\n",
    "t_sizes = list(range(5,100,5))\n",
    "for t_size in t_sizes:\n",
    "    X_train, X_test, y_train, y_test = train_test_split(X, y, test_size=t_size/100)\n",
    "    linreg.fit(X_train, y_train)\n",
    "    y_hat_train = linreg.predict(X_train)\n",
    "    y_hat_test = linreg.predict(X_test)\n",
    "    train_err.append(mean_squared_error(y_train, y_hat_train))\n",
    "    test_err.append(mean_squared_error(y_test, y_hat_test))\n",
    "plt.scatter(t_sizes, train_err, label='Training Error')\n",
    "plt.scatter(t_sizes, test_err, label='Testing Error')\n",
    "plt.legend()"
   ]
  },
  {
   "cell_type": "code",
   "execution_count": 101,
   "metadata": {},
   "outputs": [],
   "source": [
    "from sklearn.metrics import mean_squared_error\n",
    "from sklearn.model_selection import cross_val_score\n",
    "\n",
    "cv_5_results  = np.mean(cross_val_score(linreg, X, y, cv=5,  scoring='neg_mean_squared_error'))\n",
    "cv_10_results = np.mean(cross_val_score(linreg, X, y, cv=10, scoring='neg_mean_squared_error'))\n",
    "cv_20_results = np.mean(cross_val_score(linreg, X, y, cv=20, scoring='neg_mean_squared_error'))"
   ]
  },
  {
   "cell_type": "code",
   "execution_count": 102,
   "metadata": {},
   "outputs": [],
   "source": [
    "#Cross-Validation"
   ]
  },
  {
   "cell_type": "code",
   "execution_count": 103,
   "metadata": {},
   "outputs": [],
   "source": [
    "X_train, X_test, y_train, y_test = train_test_split(X, y, test_size=0.20)"
   ]
  },
  {
   "cell_type": "code",
   "execution_count": 104,
   "metadata": {},
   "outputs": [
    {
     "name": "stdout",
     "output_type": "stream",
     "text": [
      "16454 4114 16454 4114\n"
     ]
    }
   ],
   "source": [
    "# A brief preview of train-test split\n",
    "print(len(X_train), len(X_test), len(y_train), len(y_test))"
   ]
  },
  {
   "cell_type": "code",
   "execution_count": 105,
   "metadata": {},
   "outputs": [],
   "source": [
    "linreg = LinearRegression()\n",
    "\n",
    "linreg.fit(X_train, y_train)\n",
    "y_hat_test = linreg.predict(X_test)"
   ]
  },
  {
   "cell_type": "code",
   "execution_count": 106,
   "metadata": {},
   "outputs": [],
   "source": [
    "# Residuals and MSE "
   ]
  },
  {
   "cell_type": "code",
   "execution_count": 107,
   "metadata": {},
   "outputs": [
    {
     "data": {
      "text/plain": [
       "59115588081.856804"
      ]
     },
     "execution_count": 107,
     "metadata": {},
     "output_type": "execute_result"
    }
   ],
   "source": [
    "test_residuals = y_hat_test - y_test\n",
    "\n",
    "test_mse = mean_squared_error(y_test, y_hat_test)\n",
    "test_mse"
   ]
  },
  {
   "cell_type": "code",
   "execution_count": 108,
   "metadata": {},
   "outputs": [],
   "source": [
    "from sklearn.metrics import mean_squared_error\n",
    "from sklearn.model_selection import cross_val_score\n",
    "\n",
    "cv_5_results = cross_val_score(linreg, X, y, cv=5, scoring='neg_mean_squared_error')"
   ]
  },
  {
   "cell_type": "code",
   "execution_count": 109,
   "metadata": {},
   "outputs": [
    {
     "data": {
      "text/plain": [
       "array([-5.44252200e+10, -5.37696834e+10, -5.36919467e+10, -5.65108298e+10,\n",
       "       -6.62536083e+10])"
      ]
     },
     "execution_count": 109,
     "metadata": {},
     "output_type": "execute_result"
    }
   ],
   "source": [
    "cv_5_results"
   ]
  },
  {
   "cell_type": "code",
   "execution_count": null,
   "metadata": {},
   "outputs": [],
   "source": []
  },
  {
   "cell_type": "code",
   "execution_count": null,
   "metadata": {},
   "outputs": [],
   "source": []
  }
 ],
 "metadata": {
  "kernelspec": {
   "display_name": "Python 3",
   "language": "python",
   "name": "python3"
  },
  "language_info": {
   "codemirror_mode": {
    "name": "ipython",
    "version": 3
   },
   "file_extension": ".py",
   "mimetype": "text/x-python",
   "name": "python",
   "nbconvert_exporter": "python",
   "pygments_lexer": "ipython3",
   "version": "3.7.4"
  }
 },
 "nbformat": 4,
 "nbformat_minor": 2
}
